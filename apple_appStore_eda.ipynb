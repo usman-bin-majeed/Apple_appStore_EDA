{
  "nbformat": 4,
  "nbformat_minor": 0,
  "metadata": {
    "colab": {
      "provenance": []
    },
    "kernelspec": {
      "name": "python3",
      "display_name": "Python 3"
    },
    "language_info": {
      "name": "python"
    }
  },
  "cells": [
    {
      "cell_type": "markdown",
      "source": [
        "## Author : Usman Majeed\n",
        "\n",
        "### contact : fa23-bds-042@isbstudent.comsats.edu.pk\n",
        "\n",
        "#### Date : 04 / 05 / 2024\n",
        "\n"
      ],
      "metadata": {
        "id": "XC9rz10wvrWm"
      }
    },
    {
      "cell_type": "code",
      "source": [
        "from google.colab import drive\n",
        "drive.mount('/content/drive')"
      ],
      "metadata": {
        "id": "dvYGdY1YDkOW",
        "colab": {
          "base_uri": "https://localhost:8080/"
        },
        "outputId": "1d13550b-695f-4441-8326-9b0f57eceeb1"
      },
      "execution_count": 1,
      "outputs": [
        {
          "output_type": "stream",
          "name": "stdout",
          "text": [
            "Drive already mounted at /content/drive; to attempt to forcibly remount, call drive.mount(\"/content/drive\", force_remount=True).\n"
          ]
        }
      ]
    },
    {
      "cell_type": "markdown",
      "source": [
        "## **About Dataset**\n",
        "\n",
        ">- **`Description`**\\\n",
        "> The Data Set was downloaded from Kaggle, from the following [link](https://www.kaggle.com/datasets/gauthamp10/apple-appstore-apps)\n",
        "\n",
        "- `Context`\n",
        "Apple AppStore Android App Data. (1.2 Million+ App Data).\n",
        "Collected the data with the help of Python script (Scrapy) running on a cluster of cloud vm instances.\n",
        "The data was collected in the month of October 2021.\n",
        "- `Content`\n",
        "Each app (row) has values for catergory, App's primary genres, size, and more.\n",
        "\n",
        "- `Acknowledgements`\n",
        "This information is scraped from the Apple App Store. This app information would not be available without it.\n",
        "\n",
        "- `Inspiration`\n",
        "The Apple AppStore apps data has enormous potential to drive app-making businesses to success. Actionable insights can be drawn for developers to work on and capture the IOS market!\n",
        "\n",
        "- `Task`\n",
        "We intend to create the Exploratory Data Analysis (EDA) on the Data set. This EDA will serve as a basis for the Data Wrangling techniques that will be carried out for the purpose of cleaning and the normalization of the dataset.\n",
        "- We will document each step of ours. Ultimately, we will draw conclusions from the dataset.\n",
        "\n",
        "### **Kernel Version**\n",
        "- Python 3.12"
      ],
      "metadata": {
        "id": "yi_UFptP0RAN"
      }
    },
    {
      "cell_type": "markdown",
      "source": [
        "## Importing the libraries\n",
        "1- Pandas : Data Manipulation and Analysis Library.\n",
        "\n",
        "2- Numpy  : Numerical computing library.\n",
        "\n",
        "3- Seaborn  : Statistical data visualization library.\n",
        "\n",
        "4- Matplotlib : Data visualization Library.\n",
        "\n",
        "5- Scipy : Provides comprehensive set of numerical tools and algorithms for scientific computing in python."
      ],
      "metadata": {
        "id": "eJbRTL3ZzShr"
      }
    },
    {
      "cell_type": "code",
      "source": [
        "import pandas as pd\n",
        "import numpy as np\n",
        "import seaborn as sns\n",
        "import matplotlib.pyplot as plt\n",
        "import plotly.express as px\n",
        "%matplotlib inline\n",
        "import scipy as sp"
      ],
      "metadata": {
        "id": "dfKeZXX4vriZ"
      },
      "execution_count": 2,
      "outputs": []
    },
    {
      "cell_type": "markdown",
      "source": [
        "## 2. **Data Loading and exploration and cleaning**\n",
        " ↪ Load the csv file with the pandas\n",
        "\n",
        " ↪ creating the dataframe and understanding the data present in the dataset using pandas\n",
        "\n"
      ],
      "metadata": {
        "id": "TXqPCwMB1QHQ"
      }
    },
    {
      "cell_type": "code",
      "source": [
        "df = pd.read_csv(\"/content/drive/MyDrive/appleAppData.csv\")\n"
      ],
      "metadata": {
        "id": "abiEo97hvuUO"
      },
      "execution_count": 113,
      "outputs": []
    },
    {
      "cell_type": "markdown",
      "source": [
        "- **Viewing the header of the data.**"
      ],
      "metadata": {
        "id": "oEW2tER61XuE"
      }
    },
    {
      "cell_type": "code",
      "source": [
        "df.head(0)"
      ],
      "metadata": {
        "id": "pnIbAjwv1XIH",
        "colab": {
          "base_uri": "https://localhost:8080/",
          "height": 99
        },
        "outputId": "e9e552e3-8f52-4555-8c08-eba56d015883"
      },
      "execution_count": 4,
      "outputs": [
        {
          "output_type": "execute_result",
          "data": {
            "text/plain": [
              "Empty DataFrame\n",
              "Columns: [App_Id, App_Name, AppStore_Url, Primary_Genre, Content_Rating, Size_Bytes, Required_IOS_Version, Released, Updated, Version, Price, Currency, Free, DeveloperId, Developer, Developer_Url, Developer_Website, Average_User_Rating, Reviews, Current_Version_Score, Current_Version_Reviews]\n",
              "Index: []\n",
              "\n",
              "[0 rows x 21 columns]"
            ],
            "text/html": [
              "\n",
              "  <div id=\"df-a05b2daf-c923-4f00-b927-251cd048c4c9\" class=\"colab-df-container\">\n",
              "    <div>\n",
              "<style scoped>\n",
              "    .dataframe tbody tr th:only-of-type {\n",
              "        vertical-align: middle;\n",
              "    }\n",
              "\n",
              "    .dataframe tbody tr th {\n",
              "        vertical-align: top;\n",
              "    }\n",
              "\n",
              "    .dataframe thead th {\n",
              "        text-align: right;\n",
              "    }\n",
              "</style>\n",
              "<table border=\"1\" class=\"dataframe\">\n",
              "  <thead>\n",
              "    <tr style=\"text-align: right;\">\n",
              "      <th></th>\n",
              "      <th>App_Id</th>\n",
              "      <th>App_Name</th>\n",
              "      <th>AppStore_Url</th>\n",
              "      <th>Primary_Genre</th>\n",
              "      <th>Content_Rating</th>\n",
              "      <th>Size_Bytes</th>\n",
              "      <th>Required_IOS_Version</th>\n",
              "      <th>Released</th>\n",
              "      <th>Updated</th>\n",
              "      <th>Version</th>\n",
              "      <th>...</th>\n",
              "      <th>Currency</th>\n",
              "      <th>Free</th>\n",
              "      <th>DeveloperId</th>\n",
              "      <th>Developer</th>\n",
              "      <th>Developer_Url</th>\n",
              "      <th>Developer_Website</th>\n",
              "      <th>Average_User_Rating</th>\n",
              "      <th>Reviews</th>\n",
              "      <th>Current_Version_Score</th>\n",
              "      <th>Current_Version_Reviews</th>\n",
              "    </tr>\n",
              "  </thead>\n",
              "  <tbody>\n",
              "  </tbody>\n",
              "</table>\n",
              "<p>0 rows × 21 columns</p>\n",
              "</div>\n",
              "    <div class=\"colab-df-buttons\">\n",
              "\n",
              "  <div class=\"colab-df-container\">\n",
              "    <button class=\"colab-df-convert\" onclick=\"convertToInteractive('df-a05b2daf-c923-4f00-b927-251cd048c4c9')\"\n",
              "            title=\"Convert this dataframe to an interactive table.\"\n",
              "            style=\"display:none;\">\n",
              "\n",
              "  <svg xmlns=\"http://www.w3.org/2000/svg\" height=\"24px\" viewBox=\"0 -960 960 960\">\n",
              "    <path d=\"M120-120v-720h720v720H120Zm60-500h600v-160H180v160Zm220 220h160v-160H400v160Zm0 220h160v-160H400v160ZM180-400h160v-160H180v160Zm440 0h160v-160H620v160ZM180-180h160v-160H180v160Zm440 0h160v-160H620v160Z\"/>\n",
              "  </svg>\n",
              "    </button>\n",
              "\n",
              "  <style>\n",
              "    .colab-df-container {\n",
              "      display:flex;\n",
              "      gap: 12px;\n",
              "    }\n",
              "\n",
              "    .colab-df-convert {\n",
              "      background-color: #E8F0FE;\n",
              "      border: none;\n",
              "      border-radius: 50%;\n",
              "      cursor: pointer;\n",
              "      display: none;\n",
              "      fill: #1967D2;\n",
              "      height: 32px;\n",
              "      padding: 0 0 0 0;\n",
              "      width: 32px;\n",
              "    }\n",
              "\n",
              "    .colab-df-convert:hover {\n",
              "      background-color: #E2EBFA;\n",
              "      box-shadow: 0px 1px 2px rgba(60, 64, 67, 0.3), 0px 1px 3px 1px rgba(60, 64, 67, 0.15);\n",
              "      fill: #174EA6;\n",
              "    }\n",
              "\n",
              "    .colab-df-buttons div {\n",
              "      margin-bottom: 4px;\n",
              "    }\n",
              "\n",
              "    [theme=dark] .colab-df-convert {\n",
              "      background-color: #3B4455;\n",
              "      fill: #D2E3FC;\n",
              "    }\n",
              "\n",
              "    [theme=dark] .colab-df-convert:hover {\n",
              "      background-color: #434B5C;\n",
              "      box-shadow: 0px 1px 3px 1px rgba(0, 0, 0, 0.15);\n",
              "      filter: drop-shadow(0px 1px 2px rgba(0, 0, 0, 0.3));\n",
              "      fill: #FFFFFF;\n",
              "    }\n",
              "  </style>\n",
              "\n",
              "    <script>\n",
              "      const buttonEl =\n",
              "        document.querySelector('#df-a05b2daf-c923-4f00-b927-251cd048c4c9 button.colab-df-convert');\n",
              "      buttonEl.style.display =\n",
              "        google.colab.kernel.accessAllowed ? 'block' : 'none';\n",
              "\n",
              "      async function convertToInteractive(key) {\n",
              "        const element = document.querySelector('#df-a05b2daf-c923-4f00-b927-251cd048c4c9');\n",
              "        const dataTable =\n",
              "          await google.colab.kernel.invokeFunction('convertToInteractive',\n",
              "                                                    [key], {});\n",
              "        if (!dataTable) return;\n",
              "\n",
              "        const docLinkHtml = 'Like what you see? Visit the ' +\n",
              "          '<a target=\"_blank\" href=https://colab.research.google.com/notebooks/data_table.ipynb>data table notebook</a>'\n",
              "          + ' to learn more about interactive tables.';\n",
              "        element.innerHTML = '';\n",
              "        dataTable['output_type'] = 'display_data';\n",
              "        await google.colab.output.renderOutput(dataTable, element);\n",
              "        const docLink = document.createElement('div');\n",
              "        docLink.innerHTML = docLinkHtml;\n",
              "        element.appendChild(docLink);\n",
              "      }\n",
              "    </script>\n",
              "  </div>\n",
              "\n",
              "\n",
              "    </div>\n",
              "  </div>\n"
            ],
            "application/vnd.google.colaboratory.intrinsic+json": {
              "type": "dataframe",
              "variable_name": "df"
            }
          },
          "metadata": {},
          "execution_count": 4
        }
      ]
    },
    {
      "cell_type": "markdown",
      "source": [
        "### **4.5 Let's have a sneak peek of the data**\n",
        "- With just a single line of code! Quickly get a view of the top 5 rows of the dataset you're working with, without having to scroll for the rest of your life..."
      ],
      "metadata": {
        "id": "RMHn4C0W1i60"
      }
    },
    {
      "cell_type": "code",
      "source": [
        "df.head()"
      ],
      "metadata": {
        "id": "31ShAH5Y1gQS",
        "colab": {
          "base_uri": "https://localhost:8080/",
          "height": 359
        },
        "outputId": "e74ee8ee-dea4-4473-a1f1-c751736dc07c"
      },
      "execution_count": 5,
      "outputs": [
        {
          "output_type": "execute_result",
          "data": {
            "text/plain": [
              "                             App_Id                 App_Name  \\\n",
              "0               com.hkbu.arc.apaper           A+ Paper Guide   \n",
              "1               com.dmitriev.abooks                  A-Books   \n",
              "2                    no.terp.abooks                  A-books   \n",
              "3          fr.antoinettefleur.Book1              A-F Book #1   \n",
              "4  com.imonstersoft.azdictionaryios  A-Z Synonyms Dictionary   \n",
              "\n",
              "                                        AppStore_Url Primary_Genre  \\\n",
              "0  https://apps.apple.com/us/app/a-paper-guide/id...     Education   \n",
              "1  https://apps.apple.com/us/app/a-books/id103157...          Book   \n",
              "2  https://apps.apple.com/us/app/a-books/id145702...          Book   \n",
              "3  https://apps.apple.com/us/app/a-f-book-1/id500...          Book   \n",
              "4  https://apps.apple.com/us/app/a-z-synonyms-dic...     Reference   \n",
              "\n",
              "  Content_Rating  Size_Bytes Required_IOS_Version              Released  \\\n",
              "0             4+  21993472.0                  8.0  2017-09-28T03:02:41Z   \n",
              "1             4+  13135872.0                 10.0  2015-08-31T19:31:32Z   \n",
              "2             4+  21943296.0                  9.0  2021-04-14T07:00:00Z   \n",
              "3             4+  81851392.0                  8.0  2012-02-10T03:40:07Z   \n",
              "4             4+  64692224.0                  9.0  2020-12-16T08:00:00Z   \n",
              "\n",
              "                Updated Version  ...  Currency   Free  DeveloperId  \\\n",
              "0  2018-12-21T21:30:36Z   1.1.2  ...       USD   True   1375410542   \n",
              "1  2019-07-23T20:31:09Z     1.3  ...       USD   True   1031572001   \n",
              "2  2021-05-30T21:08:54Z   1.3.1  ...       USD   True   1457024163   \n",
              "3  2019-10-29T12:40:37Z     1.2  ...       USD  False    439568839   \n",
              "4  2020-12-18T21:36:11Z   1.0.1  ...       USD   True    656731821   \n",
              "\n",
              "        Developer                                      Developer_Url  \\\n",
              "0        HKBU ARC  https://apps.apple.com/us/developer/hkbu-arc/i...   \n",
              "1  Roman Dmitriev  https://apps.apple.com/us/developer/roman-dmit...   \n",
              "2         Terp AS  https://apps.apple.com/us/developer/terp-as/id...   \n",
              "3   i-editeur.com  https://apps.apple.com/us/developer/i-editeur-...   \n",
              "4   Ngov chiheang  https://apps.apple.com/us/developer/ngov-chihe...   \n",
              "\n",
              "         Developer_Website Average_User_Rating  Reviews  \\\n",
              "0                      NaN                 0.0        0   \n",
              "1                      NaN                 5.0        1   \n",
              "2                      NaN                 0.0        0   \n",
              "3                      NaN                 0.0        0   \n",
              "4  http://imonstersoft.com                 0.0        0   \n",
              "\n",
              "   Current_Version_Score  Current_Version_Reviews  \n",
              "0                    0.0                        0  \n",
              "1                    5.0                        1  \n",
              "2                    0.0                        0  \n",
              "3                    0.0                        0  \n",
              "4                    0.0                        0  \n",
              "\n",
              "[5 rows x 21 columns]"
            ],
            "text/html": [
              "\n",
              "  <div id=\"df-88084590-ac6c-48ee-80bf-e7f01a1a3dbd\" class=\"colab-df-container\">\n",
              "    <div>\n",
              "<style scoped>\n",
              "    .dataframe tbody tr th:only-of-type {\n",
              "        vertical-align: middle;\n",
              "    }\n",
              "\n",
              "    .dataframe tbody tr th {\n",
              "        vertical-align: top;\n",
              "    }\n",
              "\n",
              "    .dataframe thead th {\n",
              "        text-align: right;\n",
              "    }\n",
              "</style>\n",
              "<table border=\"1\" class=\"dataframe\">\n",
              "  <thead>\n",
              "    <tr style=\"text-align: right;\">\n",
              "      <th></th>\n",
              "      <th>App_Id</th>\n",
              "      <th>App_Name</th>\n",
              "      <th>AppStore_Url</th>\n",
              "      <th>Primary_Genre</th>\n",
              "      <th>Content_Rating</th>\n",
              "      <th>Size_Bytes</th>\n",
              "      <th>Required_IOS_Version</th>\n",
              "      <th>Released</th>\n",
              "      <th>Updated</th>\n",
              "      <th>Version</th>\n",
              "      <th>...</th>\n",
              "      <th>Currency</th>\n",
              "      <th>Free</th>\n",
              "      <th>DeveloperId</th>\n",
              "      <th>Developer</th>\n",
              "      <th>Developer_Url</th>\n",
              "      <th>Developer_Website</th>\n",
              "      <th>Average_User_Rating</th>\n",
              "      <th>Reviews</th>\n",
              "      <th>Current_Version_Score</th>\n",
              "      <th>Current_Version_Reviews</th>\n",
              "    </tr>\n",
              "  </thead>\n",
              "  <tbody>\n",
              "    <tr>\n",
              "      <th>0</th>\n",
              "      <td>com.hkbu.arc.apaper</td>\n",
              "      <td>A+ Paper Guide</td>\n",
              "      <td>https://apps.apple.com/us/app/a-paper-guide/id...</td>\n",
              "      <td>Education</td>\n",
              "      <td>4+</td>\n",
              "      <td>21993472.0</td>\n",
              "      <td>8.0</td>\n",
              "      <td>2017-09-28T03:02:41Z</td>\n",
              "      <td>2018-12-21T21:30:36Z</td>\n",
              "      <td>1.1.2</td>\n",
              "      <td>...</td>\n",
              "      <td>USD</td>\n",
              "      <td>True</td>\n",
              "      <td>1375410542</td>\n",
              "      <td>HKBU ARC</td>\n",
              "      <td>https://apps.apple.com/us/developer/hkbu-arc/i...</td>\n",
              "      <td>NaN</td>\n",
              "      <td>0.0</td>\n",
              "      <td>0</td>\n",
              "      <td>0.0</td>\n",
              "      <td>0</td>\n",
              "    </tr>\n",
              "    <tr>\n",
              "      <th>1</th>\n",
              "      <td>com.dmitriev.abooks</td>\n",
              "      <td>A-Books</td>\n",
              "      <td>https://apps.apple.com/us/app/a-books/id103157...</td>\n",
              "      <td>Book</td>\n",
              "      <td>4+</td>\n",
              "      <td>13135872.0</td>\n",
              "      <td>10.0</td>\n",
              "      <td>2015-08-31T19:31:32Z</td>\n",
              "      <td>2019-07-23T20:31:09Z</td>\n",
              "      <td>1.3</td>\n",
              "      <td>...</td>\n",
              "      <td>USD</td>\n",
              "      <td>True</td>\n",
              "      <td>1031572001</td>\n",
              "      <td>Roman Dmitriev</td>\n",
              "      <td>https://apps.apple.com/us/developer/roman-dmit...</td>\n",
              "      <td>NaN</td>\n",
              "      <td>5.0</td>\n",
              "      <td>1</td>\n",
              "      <td>5.0</td>\n",
              "      <td>1</td>\n",
              "    </tr>\n",
              "    <tr>\n",
              "      <th>2</th>\n",
              "      <td>no.terp.abooks</td>\n",
              "      <td>A-books</td>\n",
              "      <td>https://apps.apple.com/us/app/a-books/id145702...</td>\n",
              "      <td>Book</td>\n",
              "      <td>4+</td>\n",
              "      <td>21943296.0</td>\n",
              "      <td>9.0</td>\n",
              "      <td>2021-04-14T07:00:00Z</td>\n",
              "      <td>2021-05-30T21:08:54Z</td>\n",
              "      <td>1.3.1</td>\n",
              "      <td>...</td>\n",
              "      <td>USD</td>\n",
              "      <td>True</td>\n",
              "      <td>1457024163</td>\n",
              "      <td>Terp AS</td>\n",
              "      <td>https://apps.apple.com/us/developer/terp-as/id...</td>\n",
              "      <td>NaN</td>\n",
              "      <td>0.0</td>\n",
              "      <td>0</td>\n",
              "      <td>0.0</td>\n",
              "      <td>0</td>\n",
              "    </tr>\n",
              "    <tr>\n",
              "      <th>3</th>\n",
              "      <td>fr.antoinettefleur.Book1</td>\n",
              "      <td>A-F Book #1</td>\n",
              "      <td>https://apps.apple.com/us/app/a-f-book-1/id500...</td>\n",
              "      <td>Book</td>\n",
              "      <td>4+</td>\n",
              "      <td>81851392.0</td>\n",
              "      <td>8.0</td>\n",
              "      <td>2012-02-10T03:40:07Z</td>\n",
              "      <td>2019-10-29T12:40:37Z</td>\n",
              "      <td>1.2</td>\n",
              "      <td>...</td>\n",
              "      <td>USD</td>\n",
              "      <td>False</td>\n",
              "      <td>439568839</td>\n",
              "      <td>i-editeur.com</td>\n",
              "      <td>https://apps.apple.com/us/developer/i-editeur-...</td>\n",
              "      <td>NaN</td>\n",
              "      <td>0.0</td>\n",
              "      <td>0</td>\n",
              "      <td>0.0</td>\n",
              "      <td>0</td>\n",
              "    </tr>\n",
              "    <tr>\n",
              "      <th>4</th>\n",
              "      <td>com.imonstersoft.azdictionaryios</td>\n",
              "      <td>A-Z Synonyms Dictionary</td>\n",
              "      <td>https://apps.apple.com/us/app/a-z-synonyms-dic...</td>\n",
              "      <td>Reference</td>\n",
              "      <td>4+</td>\n",
              "      <td>64692224.0</td>\n",
              "      <td>9.0</td>\n",
              "      <td>2020-12-16T08:00:00Z</td>\n",
              "      <td>2020-12-18T21:36:11Z</td>\n",
              "      <td>1.0.1</td>\n",
              "      <td>...</td>\n",
              "      <td>USD</td>\n",
              "      <td>True</td>\n",
              "      <td>656731821</td>\n",
              "      <td>Ngov chiheang</td>\n",
              "      <td>https://apps.apple.com/us/developer/ngov-chihe...</td>\n",
              "      <td>http://imonstersoft.com</td>\n",
              "      <td>0.0</td>\n",
              "      <td>0</td>\n",
              "      <td>0.0</td>\n",
              "      <td>0</td>\n",
              "    </tr>\n",
              "  </tbody>\n",
              "</table>\n",
              "<p>5 rows × 21 columns</p>\n",
              "</div>\n",
              "    <div class=\"colab-df-buttons\">\n",
              "\n",
              "  <div class=\"colab-df-container\">\n",
              "    <button class=\"colab-df-convert\" onclick=\"convertToInteractive('df-88084590-ac6c-48ee-80bf-e7f01a1a3dbd')\"\n",
              "            title=\"Convert this dataframe to an interactive table.\"\n",
              "            style=\"display:none;\">\n",
              "\n",
              "  <svg xmlns=\"http://www.w3.org/2000/svg\" height=\"24px\" viewBox=\"0 -960 960 960\">\n",
              "    <path d=\"M120-120v-720h720v720H120Zm60-500h600v-160H180v160Zm220 220h160v-160H400v160Zm0 220h160v-160H400v160ZM180-400h160v-160H180v160Zm440 0h160v-160H620v160ZM180-180h160v-160H180v160Zm440 0h160v-160H620v160Z\"/>\n",
              "  </svg>\n",
              "    </button>\n",
              "\n",
              "  <style>\n",
              "    .colab-df-container {\n",
              "      display:flex;\n",
              "      gap: 12px;\n",
              "    }\n",
              "\n",
              "    .colab-df-convert {\n",
              "      background-color: #E8F0FE;\n",
              "      border: none;\n",
              "      border-radius: 50%;\n",
              "      cursor: pointer;\n",
              "      display: none;\n",
              "      fill: #1967D2;\n",
              "      height: 32px;\n",
              "      padding: 0 0 0 0;\n",
              "      width: 32px;\n",
              "    }\n",
              "\n",
              "    .colab-df-convert:hover {\n",
              "      background-color: #E2EBFA;\n",
              "      box-shadow: 0px 1px 2px rgba(60, 64, 67, 0.3), 0px 1px 3px 1px rgba(60, 64, 67, 0.15);\n",
              "      fill: #174EA6;\n",
              "    }\n",
              "\n",
              "    .colab-df-buttons div {\n",
              "      margin-bottom: 4px;\n",
              "    }\n",
              "\n",
              "    [theme=dark] .colab-df-convert {\n",
              "      background-color: #3B4455;\n",
              "      fill: #D2E3FC;\n",
              "    }\n",
              "\n",
              "    [theme=dark] .colab-df-convert:hover {\n",
              "      background-color: #434B5C;\n",
              "      box-shadow: 0px 1px 3px 1px rgba(0, 0, 0, 0.15);\n",
              "      filter: drop-shadow(0px 1px 2px rgba(0, 0, 0, 0.3));\n",
              "      fill: #FFFFFF;\n",
              "    }\n",
              "  </style>\n",
              "\n",
              "    <script>\n",
              "      const buttonEl =\n",
              "        document.querySelector('#df-88084590-ac6c-48ee-80bf-e7f01a1a3dbd button.colab-df-convert');\n",
              "      buttonEl.style.display =\n",
              "        google.colab.kernel.accessAllowed ? 'block' : 'none';\n",
              "\n",
              "      async function convertToInteractive(key) {\n",
              "        const element = document.querySelector('#df-88084590-ac6c-48ee-80bf-e7f01a1a3dbd');\n",
              "        const dataTable =\n",
              "          await google.colab.kernel.invokeFunction('convertToInteractive',\n",
              "                                                    [key], {});\n",
              "        if (!dataTable) return;\n",
              "\n",
              "        const docLinkHtml = 'Like what you see? Visit the ' +\n",
              "          '<a target=\"_blank\" href=https://colab.research.google.com/notebooks/data_table.ipynb>data table notebook</a>'\n",
              "          + ' to learn more about interactive tables.';\n",
              "        element.innerHTML = '';\n",
              "        dataTable['output_type'] = 'display_data';\n",
              "        await google.colab.output.renderOutput(dataTable, element);\n",
              "        const docLink = document.createElement('div');\n",
              "        docLink.innerHTML = docLinkHtml;\n",
              "        element.appendChild(docLink);\n",
              "      }\n",
              "    </script>\n",
              "  </div>\n",
              "\n",
              "\n",
              "<div id=\"df-e758c4a7-bb19-4292-9d4c-d819cecda880\">\n",
              "  <button class=\"colab-df-quickchart\" onclick=\"quickchart('df-e758c4a7-bb19-4292-9d4c-d819cecda880')\"\n",
              "            title=\"Suggest charts\"\n",
              "            style=\"display:none;\">\n",
              "\n",
              "<svg xmlns=\"http://www.w3.org/2000/svg\" height=\"24px\"viewBox=\"0 0 24 24\"\n",
              "     width=\"24px\">\n",
              "    <g>\n",
              "        <path d=\"M19 3H5c-1.1 0-2 .9-2 2v14c0 1.1.9 2 2 2h14c1.1 0 2-.9 2-2V5c0-1.1-.9-2-2-2zM9 17H7v-7h2v7zm4 0h-2V7h2v10zm4 0h-2v-4h2v4z\"/>\n",
              "    </g>\n",
              "</svg>\n",
              "  </button>\n",
              "\n",
              "<style>\n",
              "  .colab-df-quickchart {\n",
              "      --bg-color: #E8F0FE;\n",
              "      --fill-color: #1967D2;\n",
              "      --hover-bg-color: #E2EBFA;\n",
              "      --hover-fill-color: #174EA6;\n",
              "      --disabled-fill-color: #AAA;\n",
              "      --disabled-bg-color: #DDD;\n",
              "  }\n",
              "\n",
              "  [theme=dark] .colab-df-quickchart {\n",
              "      --bg-color: #3B4455;\n",
              "      --fill-color: #D2E3FC;\n",
              "      --hover-bg-color: #434B5C;\n",
              "      --hover-fill-color: #FFFFFF;\n",
              "      --disabled-bg-color: #3B4455;\n",
              "      --disabled-fill-color: #666;\n",
              "  }\n",
              "\n",
              "  .colab-df-quickchart {\n",
              "    background-color: var(--bg-color);\n",
              "    border: none;\n",
              "    border-radius: 50%;\n",
              "    cursor: pointer;\n",
              "    display: none;\n",
              "    fill: var(--fill-color);\n",
              "    height: 32px;\n",
              "    padding: 0;\n",
              "    width: 32px;\n",
              "  }\n",
              "\n",
              "  .colab-df-quickchart:hover {\n",
              "    background-color: var(--hover-bg-color);\n",
              "    box-shadow: 0 1px 2px rgba(60, 64, 67, 0.3), 0 1px 3px 1px rgba(60, 64, 67, 0.15);\n",
              "    fill: var(--button-hover-fill-color);\n",
              "  }\n",
              "\n",
              "  .colab-df-quickchart-complete:disabled,\n",
              "  .colab-df-quickchart-complete:disabled:hover {\n",
              "    background-color: var(--disabled-bg-color);\n",
              "    fill: var(--disabled-fill-color);\n",
              "    box-shadow: none;\n",
              "  }\n",
              "\n",
              "  .colab-df-spinner {\n",
              "    border: 2px solid var(--fill-color);\n",
              "    border-color: transparent;\n",
              "    border-bottom-color: var(--fill-color);\n",
              "    animation:\n",
              "      spin 1s steps(1) infinite;\n",
              "  }\n",
              "\n",
              "  @keyframes spin {\n",
              "    0% {\n",
              "      border-color: transparent;\n",
              "      border-bottom-color: var(--fill-color);\n",
              "      border-left-color: var(--fill-color);\n",
              "    }\n",
              "    20% {\n",
              "      border-color: transparent;\n",
              "      border-left-color: var(--fill-color);\n",
              "      border-top-color: var(--fill-color);\n",
              "    }\n",
              "    30% {\n",
              "      border-color: transparent;\n",
              "      border-left-color: var(--fill-color);\n",
              "      border-top-color: var(--fill-color);\n",
              "      border-right-color: var(--fill-color);\n",
              "    }\n",
              "    40% {\n",
              "      border-color: transparent;\n",
              "      border-right-color: var(--fill-color);\n",
              "      border-top-color: var(--fill-color);\n",
              "    }\n",
              "    60% {\n",
              "      border-color: transparent;\n",
              "      border-right-color: var(--fill-color);\n",
              "    }\n",
              "    80% {\n",
              "      border-color: transparent;\n",
              "      border-right-color: var(--fill-color);\n",
              "      border-bottom-color: var(--fill-color);\n",
              "    }\n",
              "    90% {\n",
              "      border-color: transparent;\n",
              "      border-bottom-color: var(--fill-color);\n",
              "    }\n",
              "  }\n",
              "</style>\n",
              "\n",
              "  <script>\n",
              "    async function quickchart(key) {\n",
              "      const quickchartButtonEl =\n",
              "        document.querySelector('#' + key + ' button');\n",
              "      quickchartButtonEl.disabled = true;  // To prevent multiple clicks.\n",
              "      quickchartButtonEl.classList.add('colab-df-spinner');\n",
              "      try {\n",
              "        const charts = await google.colab.kernel.invokeFunction(\n",
              "            'suggestCharts', [key], {});\n",
              "      } catch (error) {\n",
              "        console.error('Error during call to suggestCharts:', error);\n",
              "      }\n",
              "      quickchartButtonEl.classList.remove('colab-df-spinner');\n",
              "      quickchartButtonEl.classList.add('colab-df-quickchart-complete');\n",
              "    }\n",
              "    (() => {\n",
              "      let quickchartButtonEl =\n",
              "        document.querySelector('#df-e758c4a7-bb19-4292-9d4c-d819cecda880 button');\n",
              "      quickchartButtonEl.style.display =\n",
              "        google.colab.kernel.accessAllowed ? 'block' : 'none';\n",
              "    })();\n",
              "  </script>\n",
              "</div>\n",
              "\n",
              "    </div>\n",
              "  </div>\n"
            ],
            "application/vnd.google.colaboratory.intrinsic+json": {
              "type": "dataframe",
              "variable_name": "df"
            }
          },
          "metadata": {},
          "execution_count": 5
        }
      ]
    },
    {
      "cell_type": "markdown",
      "source": [
        "> **Note**: Some the output of notebook does not present the complete output, therefore we can increase the limit of columns view and row view by using these commands:"
      ],
      "metadata": {
        "id": "vR7fqZlr1xBS"
      }
    },
    {
      "cell_type": "code",
      "source": [
        "pd.set_option(\"display.max_columns\", None)\n",
        "pd.set_option(\"display.max_rows\" , None)"
      ],
      "metadata": {
        "id": "ENGWpMJG1x8d"
      },
      "execution_count": 6,
      "outputs": []
    },
    {
      "cell_type": "markdown",
      "source": [
        " - It's time to hide any warnings during the runtime.\n",
        "\n"
      ],
      "metadata": {
        "id": "diWrGrZF2k8L"
      }
    },
    {
      "cell_type": "code",
      "source": [
        "import warnings\n",
        "warnings.filterwarnings(\"ignore\")"
      ],
      "metadata": {
        "id": "F6M6eCt82mCw"
      },
      "execution_count": 7,
      "outputs": []
    },
    {
      "cell_type": "markdown",
      "source": [
        " - Looking at what columns are in the dataset."
      ],
      "metadata": {
        "id": "n3iV-aZP2Eyg"
      }
    },
    {
      "cell_type": "code",
      "source": [
        "print(f\"THe columns in the dataset are : {df.columns}\")"
      ],
      "metadata": {
        "id": "PktgAqaXwIv-",
        "colab": {
          "base_uri": "https://localhost:8080/"
        },
        "outputId": "aa70cb58-c729-4f74-a424-ceedacc9a316"
      },
      "execution_count": 8,
      "outputs": [
        {
          "output_type": "stream",
          "name": "stdout",
          "text": [
            "THe columns in the dataset are : Index(['App_Id', 'App_Name', 'AppStore_Url', 'Primary_Genre', 'Content_Rating',\n",
            "       'Size_Bytes', 'Required_IOS_Version', 'Released', 'Updated', 'Version',\n",
            "       'Price', 'Currency', 'Free', 'DeveloperId', 'Developer',\n",
            "       'Developer_Url', 'Developer_Website', 'Average_User_Rating', 'Reviews',\n",
            "       'Current_Version_Score', 'Current_Version_Reviews'],\n",
            "      dtype='object')\n"
          ]
        }
      ]
    },
    {
      "cell_type": "markdown",
      "source": [
        "- Let's have a look at the shape of the dataset."
      ],
      "metadata": {
        "id": "_bLcjrfP2xs1"
      }
    },
    {
      "cell_type": "code",
      "source": [
        "print(f\"The number of rows in the dataset are : {df.shape[0]} , and the number of column are : {df.shape[1]}\")"
      ],
      "metadata": {
        "id": "7EOSFs_f22Ge",
        "colab": {
          "base_uri": "https://localhost:8080/"
        },
        "outputId": "c27b43f4-8472-42f7-a019-58518636e4fc"
      },
      "execution_count": 9,
      "outputs": [
        {
          "output_type": "stream",
          "name": "stdout",
          "text": [
            "The number of rows in the dataset are : 1230376 , and the number of column are : 21\n"
          ]
        }
      ]
    },
    {
      "cell_type": "markdown",
      "source": [
        "- Not enough, let's have a look on the columns and their data types using detailed info function"
      ],
      "metadata": {
        "id": "US_8X7pV3Mrr"
      }
    },
    {
      "cell_type": "code",
      "source": [
        "df.info()"
      ],
      "metadata": {
        "id": "SEJo9tBYyXdD",
        "colab": {
          "base_uri": "https://localhost:8080/"
        },
        "outputId": "effacba9-c202-42bb-a929-a3ba81fea9f5"
      },
      "execution_count": 10,
      "outputs": [
        {
          "output_type": "stream",
          "name": "stdout",
          "text": [
            "<class 'pandas.core.frame.DataFrame'>\n",
            "RangeIndex: 1230376 entries, 0 to 1230375\n",
            "Data columns (total 21 columns):\n",
            " #   Column                   Non-Null Count    Dtype  \n",
            "---  ------                   --------------    -----  \n",
            " 0   App_Id                   1230376 non-null  object \n",
            " 1   App_Name                 1230375 non-null  object \n",
            " 2   AppStore_Url             1230376 non-null  object \n",
            " 3   Primary_Genre            1230376 non-null  object \n",
            " 4   Content_Rating           1230376 non-null  object \n",
            " 5   Size_Bytes               1230152 non-null  float64\n",
            " 6   Required_IOS_Version     1230376 non-null  object \n",
            " 7   Released                 1230373 non-null  object \n",
            " 8   Updated                  1230376 non-null  object \n",
            " 9   Version                  1230376 non-null  object \n",
            " 10  Price                    1229886 non-null  float64\n",
            " 11  Currency                 1230376 non-null  object \n",
            " 12  Free                     1230376 non-null  bool   \n",
            " 13  DeveloperId              1230376 non-null  int64  \n",
            " 14  Developer                1230376 non-null  object \n",
            " 15  Developer_Url            1229267 non-null  object \n",
            " 16  Developer_Website        586388 non-null   object \n",
            " 17  Average_User_Rating      1230376 non-null  float64\n",
            " 18  Reviews                  1230376 non-null  int64  \n",
            " 19  Current_Version_Score    1230376 non-null  float64\n",
            " 20  Current_Version_Reviews  1230376 non-null  int64  \n",
            "dtypes: bool(1), float64(4), int64(3), object(13)\n",
            "memory usage: 188.9+ MB\n"
          ]
        }
      ]
    },
    {
      "cell_type": "markdown",
      "source": [
        "# **Observations Set 01 :**\n",
        "---\n",
        "1. There are 12636 rows and 21 columns in the dataset\n",
        "2. The columns are of different data types\n",
        "3. The columns in the datasets are:\n",
        "   - `'App_Id', 'App_Name', 'AppStore_Url', 'Primary_Genre', 'Content_Rating',\n",
        "       'Size_Bytes', 'Required_IOS_Version', 'Released', 'Updated', 'Version',\n",
        "       'Price', 'Currency', 'Free', 'DeveloperId', 'Developer',\n",
        "       'Developer_Url', 'Developer_Website', 'Average_User_Rating', 'Reviews',\n",
        "       'Current_Version_Score', 'Current_Version_Reviews''`\n",
        "4. There are some missing values in the dataset which we will read in details and deal later on in the notebook.\n",
        "5. There are some columns which are of object data type but they should be of numeric data type, we will convert them later on in the notebook.\n",
        "   - `Content Rating`"
      ],
      "metadata": {
        "id": "UZbiOevJZ2b9"
      }
    },
    {
      "cell_type": "code",
      "source": [
        "df.describe()"
      ],
      "metadata": {
        "id": "2yXzZ4IayZtG",
        "colab": {
          "base_uri": "https://localhost:8080/",
          "height": 300
        },
        "outputId": "5df4566c-e666-4a2b-e90d-e8655a871f5d"
      },
      "execution_count": 11,
      "outputs": [
        {
          "output_type": "execute_result",
          "data": {
            "text/plain": [
              "         Size_Bytes         Price   DeveloperId  Average_User_Rating  \\\n",
              "count  1.230152e+06  1.229886e+06  1.230376e+06         1.230376e+06   \n",
              "mean   7.510857e+07  5.041264e-01  1.092869e+09         1.788387e+00   \n",
              "std    2.318726e+08  6.869674e+00  4.090897e+08         2.154105e+00   \n",
              "min    2.762800e+04  0.000000e+00  2.816565e+08         0.000000e+00   \n",
              "25%    2.041344e+07  0.000000e+00  7.381109e+08         0.000000e+00   \n",
              "50%    4.333158e+07  0.000000e+00  1.179711e+09         0.000000e+00   \n",
              "75%    8.365466e+07  0.000000e+00  1.471960e+09         4.333330e+00   \n",
              "max    7.677945e+10  9.999900e+02  1.590233e+09         5.000000e+00   \n",
              "\n",
              "            Reviews  Current_Version_Score  Current_Version_Reviews  \n",
              "count  1.230376e+06           1.230376e+06             1.230376e+06  \n",
              "mean   8.259478e+02           1.788387e+00             8.259478e+02  \n",
              "std    5.016051e+04           2.154105e+00             5.016051e+04  \n",
              "min    0.000000e+00           0.000000e+00             0.000000e+00  \n",
              "25%    0.000000e+00           0.000000e+00             0.000000e+00  \n",
              "50%    0.000000e+00           0.000000e+00             0.000000e+00  \n",
              "75%    3.000000e+00           4.333330e+00             3.000000e+00  \n",
              "max    2.268533e+07           5.000000e+00             2.268533e+07  "
            ],
            "text/html": [
              "\n",
              "  <div id=\"df-96df23e1-fd77-4564-a9ed-70ddf30c75bf\" class=\"colab-df-container\">\n",
              "    <div>\n",
              "<style scoped>\n",
              "    .dataframe tbody tr th:only-of-type {\n",
              "        vertical-align: middle;\n",
              "    }\n",
              "\n",
              "    .dataframe tbody tr th {\n",
              "        vertical-align: top;\n",
              "    }\n",
              "\n",
              "    .dataframe thead th {\n",
              "        text-align: right;\n",
              "    }\n",
              "</style>\n",
              "<table border=\"1\" class=\"dataframe\">\n",
              "  <thead>\n",
              "    <tr style=\"text-align: right;\">\n",
              "      <th></th>\n",
              "      <th>Size_Bytes</th>\n",
              "      <th>Price</th>\n",
              "      <th>DeveloperId</th>\n",
              "      <th>Average_User_Rating</th>\n",
              "      <th>Reviews</th>\n",
              "      <th>Current_Version_Score</th>\n",
              "      <th>Current_Version_Reviews</th>\n",
              "    </tr>\n",
              "  </thead>\n",
              "  <tbody>\n",
              "    <tr>\n",
              "      <th>count</th>\n",
              "      <td>1.230152e+06</td>\n",
              "      <td>1.229886e+06</td>\n",
              "      <td>1.230376e+06</td>\n",
              "      <td>1.230376e+06</td>\n",
              "      <td>1.230376e+06</td>\n",
              "      <td>1.230376e+06</td>\n",
              "      <td>1.230376e+06</td>\n",
              "    </tr>\n",
              "    <tr>\n",
              "      <th>mean</th>\n",
              "      <td>7.510857e+07</td>\n",
              "      <td>5.041264e-01</td>\n",
              "      <td>1.092869e+09</td>\n",
              "      <td>1.788387e+00</td>\n",
              "      <td>8.259478e+02</td>\n",
              "      <td>1.788387e+00</td>\n",
              "      <td>8.259478e+02</td>\n",
              "    </tr>\n",
              "    <tr>\n",
              "      <th>std</th>\n",
              "      <td>2.318726e+08</td>\n",
              "      <td>6.869674e+00</td>\n",
              "      <td>4.090897e+08</td>\n",
              "      <td>2.154105e+00</td>\n",
              "      <td>5.016051e+04</td>\n",
              "      <td>2.154105e+00</td>\n",
              "      <td>5.016051e+04</td>\n",
              "    </tr>\n",
              "    <tr>\n",
              "      <th>min</th>\n",
              "      <td>2.762800e+04</td>\n",
              "      <td>0.000000e+00</td>\n",
              "      <td>2.816565e+08</td>\n",
              "      <td>0.000000e+00</td>\n",
              "      <td>0.000000e+00</td>\n",
              "      <td>0.000000e+00</td>\n",
              "      <td>0.000000e+00</td>\n",
              "    </tr>\n",
              "    <tr>\n",
              "      <th>25%</th>\n",
              "      <td>2.041344e+07</td>\n",
              "      <td>0.000000e+00</td>\n",
              "      <td>7.381109e+08</td>\n",
              "      <td>0.000000e+00</td>\n",
              "      <td>0.000000e+00</td>\n",
              "      <td>0.000000e+00</td>\n",
              "      <td>0.000000e+00</td>\n",
              "    </tr>\n",
              "    <tr>\n",
              "      <th>50%</th>\n",
              "      <td>4.333158e+07</td>\n",
              "      <td>0.000000e+00</td>\n",
              "      <td>1.179711e+09</td>\n",
              "      <td>0.000000e+00</td>\n",
              "      <td>0.000000e+00</td>\n",
              "      <td>0.000000e+00</td>\n",
              "      <td>0.000000e+00</td>\n",
              "    </tr>\n",
              "    <tr>\n",
              "      <th>75%</th>\n",
              "      <td>8.365466e+07</td>\n",
              "      <td>0.000000e+00</td>\n",
              "      <td>1.471960e+09</td>\n",
              "      <td>4.333330e+00</td>\n",
              "      <td>3.000000e+00</td>\n",
              "      <td>4.333330e+00</td>\n",
              "      <td>3.000000e+00</td>\n",
              "    </tr>\n",
              "    <tr>\n",
              "      <th>max</th>\n",
              "      <td>7.677945e+10</td>\n",
              "      <td>9.999900e+02</td>\n",
              "      <td>1.590233e+09</td>\n",
              "      <td>5.000000e+00</td>\n",
              "      <td>2.268533e+07</td>\n",
              "      <td>5.000000e+00</td>\n",
              "      <td>2.268533e+07</td>\n",
              "    </tr>\n",
              "  </tbody>\n",
              "</table>\n",
              "</div>\n",
              "    <div class=\"colab-df-buttons\">\n",
              "\n",
              "  <div class=\"colab-df-container\">\n",
              "    <button class=\"colab-df-convert\" onclick=\"convertToInteractive('df-96df23e1-fd77-4564-a9ed-70ddf30c75bf')\"\n",
              "            title=\"Convert this dataframe to an interactive table.\"\n",
              "            style=\"display:none;\">\n",
              "\n",
              "  <svg xmlns=\"http://www.w3.org/2000/svg\" height=\"24px\" viewBox=\"0 -960 960 960\">\n",
              "    <path d=\"M120-120v-720h720v720H120Zm60-500h600v-160H180v160Zm220 220h160v-160H400v160Zm0 220h160v-160H400v160ZM180-400h160v-160H180v160Zm440 0h160v-160H620v160ZM180-180h160v-160H180v160Zm440 0h160v-160H620v160Z\"/>\n",
              "  </svg>\n",
              "    </button>\n",
              "\n",
              "  <style>\n",
              "    .colab-df-container {\n",
              "      display:flex;\n",
              "      gap: 12px;\n",
              "    }\n",
              "\n",
              "    .colab-df-convert {\n",
              "      background-color: #E8F0FE;\n",
              "      border: none;\n",
              "      border-radius: 50%;\n",
              "      cursor: pointer;\n",
              "      display: none;\n",
              "      fill: #1967D2;\n",
              "      height: 32px;\n",
              "      padding: 0 0 0 0;\n",
              "      width: 32px;\n",
              "    }\n",
              "\n",
              "    .colab-df-convert:hover {\n",
              "      background-color: #E2EBFA;\n",
              "      box-shadow: 0px 1px 2px rgba(60, 64, 67, 0.3), 0px 1px 3px 1px rgba(60, 64, 67, 0.15);\n",
              "      fill: #174EA6;\n",
              "    }\n",
              "\n",
              "    .colab-df-buttons div {\n",
              "      margin-bottom: 4px;\n",
              "    }\n",
              "\n",
              "    [theme=dark] .colab-df-convert {\n",
              "      background-color: #3B4455;\n",
              "      fill: #D2E3FC;\n",
              "    }\n",
              "\n",
              "    [theme=dark] .colab-df-convert:hover {\n",
              "      background-color: #434B5C;\n",
              "      box-shadow: 0px 1px 3px 1px rgba(0, 0, 0, 0.15);\n",
              "      filter: drop-shadow(0px 1px 2px rgba(0, 0, 0, 0.3));\n",
              "      fill: #FFFFFF;\n",
              "    }\n",
              "  </style>\n",
              "\n",
              "    <script>\n",
              "      const buttonEl =\n",
              "        document.querySelector('#df-96df23e1-fd77-4564-a9ed-70ddf30c75bf button.colab-df-convert');\n",
              "      buttonEl.style.display =\n",
              "        google.colab.kernel.accessAllowed ? 'block' : 'none';\n",
              "\n",
              "      async function convertToInteractive(key) {\n",
              "        const element = document.querySelector('#df-96df23e1-fd77-4564-a9ed-70ddf30c75bf');\n",
              "        const dataTable =\n",
              "          await google.colab.kernel.invokeFunction('convertToInteractive',\n",
              "                                                    [key], {});\n",
              "        if (!dataTable) return;\n",
              "\n",
              "        const docLinkHtml = 'Like what you see? Visit the ' +\n",
              "          '<a target=\"_blank\" href=https://colab.research.google.com/notebooks/data_table.ipynb>data table notebook</a>'\n",
              "          + ' to learn more about interactive tables.';\n",
              "        element.innerHTML = '';\n",
              "        dataTable['output_type'] = 'display_data';\n",
              "        await google.colab.output.renderOutput(dataTable, element);\n",
              "        const docLink = document.createElement('div');\n",
              "        docLink.innerHTML = docLinkHtml;\n",
              "        element.appendChild(docLink);\n",
              "      }\n",
              "    </script>\n",
              "  </div>\n",
              "\n",
              "\n",
              "<div id=\"df-8f52ded0-d69e-43c0-b4bd-6587adcff65c\">\n",
              "  <button class=\"colab-df-quickchart\" onclick=\"quickchart('df-8f52ded0-d69e-43c0-b4bd-6587adcff65c')\"\n",
              "            title=\"Suggest charts\"\n",
              "            style=\"display:none;\">\n",
              "\n",
              "<svg xmlns=\"http://www.w3.org/2000/svg\" height=\"24px\"viewBox=\"0 0 24 24\"\n",
              "     width=\"24px\">\n",
              "    <g>\n",
              "        <path d=\"M19 3H5c-1.1 0-2 .9-2 2v14c0 1.1.9 2 2 2h14c1.1 0 2-.9 2-2V5c0-1.1-.9-2-2-2zM9 17H7v-7h2v7zm4 0h-2V7h2v10zm4 0h-2v-4h2v4z\"/>\n",
              "    </g>\n",
              "</svg>\n",
              "  </button>\n",
              "\n",
              "<style>\n",
              "  .colab-df-quickchart {\n",
              "      --bg-color: #E8F0FE;\n",
              "      --fill-color: #1967D2;\n",
              "      --hover-bg-color: #E2EBFA;\n",
              "      --hover-fill-color: #174EA6;\n",
              "      --disabled-fill-color: #AAA;\n",
              "      --disabled-bg-color: #DDD;\n",
              "  }\n",
              "\n",
              "  [theme=dark] .colab-df-quickchart {\n",
              "      --bg-color: #3B4455;\n",
              "      --fill-color: #D2E3FC;\n",
              "      --hover-bg-color: #434B5C;\n",
              "      --hover-fill-color: #FFFFFF;\n",
              "      --disabled-bg-color: #3B4455;\n",
              "      --disabled-fill-color: #666;\n",
              "  }\n",
              "\n",
              "  .colab-df-quickchart {\n",
              "    background-color: var(--bg-color);\n",
              "    border: none;\n",
              "    border-radius: 50%;\n",
              "    cursor: pointer;\n",
              "    display: none;\n",
              "    fill: var(--fill-color);\n",
              "    height: 32px;\n",
              "    padding: 0;\n",
              "    width: 32px;\n",
              "  }\n",
              "\n",
              "  .colab-df-quickchart:hover {\n",
              "    background-color: var(--hover-bg-color);\n",
              "    box-shadow: 0 1px 2px rgba(60, 64, 67, 0.3), 0 1px 3px 1px rgba(60, 64, 67, 0.15);\n",
              "    fill: var(--button-hover-fill-color);\n",
              "  }\n",
              "\n",
              "  .colab-df-quickchart-complete:disabled,\n",
              "  .colab-df-quickchart-complete:disabled:hover {\n",
              "    background-color: var(--disabled-bg-color);\n",
              "    fill: var(--disabled-fill-color);\n",
              "    box-shadow: none;\n",
              "  }\n",
              "\n",
              "  .colab-df-spinner {\n",
              "    border: 2px solid var(--fill-color);\n",
              "    border-color: transparent;\n",
              "    border-bottom-color: var(--fill-color);\n",
              "    animation:\n",
              "      spin 1s steps(1) infinite;\n",
              "  }\n",
              "\n",
              "  @keyframes spin {\n",
              "    0% {\n",
              "      border-color: transparent;\n",
              "      border-bottom-color: var(--fill-color);\n",
              "      border-left-color: var(--fill-color);\n",
              "    }\n",
              "    20% {\n",
              "      border-color: transparent;\n",
              "      border-left-color: var(--fill-color);\n",
              "      border-top-color: var(--fill-color);\n",
              "    }\n",
              "    30% {\n",
              "      border-color: transparent;\n",
              "      border-left-color: var(--fill-color);\n",
              "      border-top-color: var(--fill-color);\n",
              "      border-right-color: var(--fill-color);\n",
              "    }\n",
              "    40% {\n",
              "      border-color: transparent;\n",
              "      border-right-color: var(--fill-color);\n",
              "      border-top-color: var(--fill-color);\n",
              "    }\n",
              "    60% {\n",
              "      border-color: transparent;\n",
              "      border-right-color: var(--fill-color);\n",
              "    }\n",
              "    80% {\n",
              "      border-color: transparent;\n",
              "      border-right-color: var(--fill-color);\n",
              "      border-bottom-color: var(--fill-color);\n",
              "    }\n",
              "    90% {\n",
              "      border-color: transparent;\n",
              "      border-bottom-color: var(--fill-color);\n",
              "    }\n",
              "  }\n",
              "</style>\n",
              "\n",
              "  <script>\n",
              "    async function quickchart(key) {\n",
              "      const quickchartButtonEl =\n",
              "        document.querySelector('#' + key + ' button');\n",
              "      quickchartButtonEl.disabled = true;  // To prevent multiple clicks.\n",
              "      quickchartButtonEl.classList.add('colab-df-spinner');\n",
              "      try {\n",
              "        const charts = await google.colab.kernel.invokeFunction(\n",
              "            'suggestCharts', [key], {});\n",
              "      } catch (error) {\n",
              "        console.error('Error during call to suggestCharts:', error);\n",
              "      }\n",
              "      quickchartButtonEl.classList.remove('colab-df-spinner');\n",
              "      quickchartButtonEl.classList.add('colab-df-quickchart-complete');\n",
              "    }\n",
              "    (() => {\n",
              "      let quickchartButtonEl =\n",
              "        document.querySelector('#df-8f52ded0-d69e-43c0-b4bd-6587adcff65c button');\n",
              "      quickchartButtonEl.style.display =\n",
              "        google.colab.kernel.accessAllowed ? 'block' : 'none';\n",
              "    })();\n",
              "  </script>\n",
              "</div>\n",
              "\n",
              "    </div>\n",
              "  </div>\n"
            ],
            "application/vnd.google.colaboratory.intrinsic+json": {
              "type": "dataframe",
              "summary": "{\n  \"name\": \"df\",\n  \"rows\": 8,\n  \"fields\": [\n    {\n      \"column\": \"Size_Bytes\",\n      \"properties\": {\n        \"dtype\": \"number\",\n        \"std\": 27122725293.14922,\n        \"min\": 27628.0,\n        \"max\": 76779452340.0,\n        \"num_unique_values\": 8,\n        \"samples\": [\n          75108571.05264552,\n          43331584.0,\n          1230152.0\n        ],\n        \"semantic_type\": \"\",\n        \"description\": \"\"\n      }\n    },\n    {\n      \"column\": \"Price\",\n      \"properties\": {\n        \"dtype\": \"number\",\n        \"std\": 434779.626262769,\n        \"min\": 0.0,\n        \"max\": 1229886.0,\n        \"num_unique_values\": 5,\n        \"samples\": [\n          0.5041263824452021,\n          999.99,\n          6.869674380627342\n        ],\n        \"semantic_type\": \"\",\n        \"description\": \"\"\n      }\n    },\n    {\n      \"column\": \"DeveloperId\",\n      \"properties\": {\n        \"dtype\": \"number\",\n        \"std\": 579736949.4273754,\n        \"min\": 1230376.0,\n        \"max\": 1590232711.0,\n        \"num_unique_values\": 8,\n        \"samples\": [\n          1092869226.678013,\n          1179711165.0,\n          1230376.0\n        ],\n        \"semantic_type\": \"\",\n        \"description\": \"\"\n      }\n    },\n    {\n      \"column\": \"Average_User_Rating\",\n      \"properties\": {\n        \"dtype\": \"number\",\n        \"std\": 435002.9359786646,\n        \"min\": 0.0,\n        \"max\": 1230376.0,\n        \"num_unique_values\": 6,\n        \"samples\": [\n          1230376.0,\n          1.788386667165159,\n          5.0\n        ],\n        \"semantic_type\": \"\",\n        \"description\": \"\"\n      }\n    },\n    {\n      \"column\": \"Reviews\",\n      \"properties\": {\n        \"dtype\": \"number\",\n        \"std\": 7967257.864645656,\n        \"min\": 0.0,\n        \"max\": 22685334.0,\n        \"num_unique_values\": 6,\n        \"samples\": [\n          1230376.0,\n          825.9477923821661,\n          22685334.0\n        ],\n        \"semantic_type\": \"\",\n        \"description\": \"\"\n      }\n    },\n    {\n      \"column\": \"Current_Version_Score\",\n      \"properties\": {\n        \"dtype\": \"number\",\n        \"std\": 435002.93597866455,\n        \"min\": 0.0,\n        \"max\": 1230376.0,\n        \"num_unique_values\": 6,\n        \"samples\": [\n          1230376.0,\n          1.7883866682136185,\n          5.0\n        ],\n        \"semantic_type\": \"\",\n        \"description\": \"\"\n      }\n    },\n    {\n      \"column\": \"Current_Version_Reviews\",\n      \"properties\": {\n        \"dtype\": \"number\",\n        \"std\": 7967257.864645656,\n        \"min\": 0.0,\n        \"max\": 22685334.0,\n        \"num_unique_values\": 6,\n        \"samples\": [\n          1230376.0,\n          825.9477923821661,\n          22685334.0\n        ],\n        \"semantic_type\": \"\",\n        \"description\": \"\"\n      }\n    }\n  ]\n}"
            }
          },
          "metadata": {},
          "execution_count": 11
        }
      ]
    },
    {
      "cell_type": "markdown",
      "source": [
        "## **Observations Set 02**:\n",
        "---\n",
        "- We have 7 columns as numeric data type, rest all are object data type (according to python), but we can see that `'Content Rating'` are also object, we must convert them to numeric data type in data wrangling process.\n",
        "---"
      ],
      "metadata": {
        "id": "FzaIthf6az40"
      }
    },
    {
      "cell_type": "markdown",
      "source": [
        "- Let's clean the `Content Rating` column first"
      ],
      "metadata": {
        "id": "3EsdG9cLa_MN"
      }
    },
    {
      "cell_type": "code",
      "source": [
        "df['Content_Rating'].isnull().sum()"
      ],
      "metadata": {
        "id": "L6X0R0gay4Wr",
        "colab": {
          "base_uri": "https://localhost:8080/"
        },
        "outputId": "8f476ccc-3aab-4088-9aec-6bfc64c31d7f"
      },
      "execution_count": 12,
      "outputs": [
        {
          "output_type": "execute_result",
          "data": {
            "text/plain": [
              "0"
            ]
          },
          "metadata": {},
          "execution_count": 12
        }
      ]
    },
    {
      "cell_type": "markdown",
      "source": [
        "- We can clearly see that there are not any null values in the `Contenet_Rating` column."
      ],
      "metadata": {
        "id": "JXBK2NtqbJ4P"
      }
    },
    {
      "cell_type": "markdown",
      "source": [
        "---\n",
        "- So, we will next check the unique values in the `Content_Rating` column."
      ],
      "metadata": {
        "id": "Rs27Mz1gbTA2"
      }
    },
    {
      "cell_type": "code",
      "source": [
        "df['Content_Rating'].unique()"
      ],
      "metadata": {
        "id": "QWr6LQ-pbFE5",
        "colab": {
          "base_uri": "https://localhost:8080/"
        },
        "outputId": "5a60eaf0-c476-4362-baa1-ac32b877bf0f"
      },
      "execution_count": 13,
      "outputs": [
        {
          "output_type": "execute_result",
          "data": {
            "text/plain": [
              "array(['4+', '17+', '9+', '12+', 'Not yet rated'], dtype=object)"
            ]
          },
          "metadata": {},
          "execution_count": 13
        }
      ]
    },
    {
      "cell_type": "markdown",
      "source": [
        "## **Observations set 03**\n",
        "1. THere are 4 different values in the `Content_Rating` column.\n",
        "2. As the values are in the almost integer form , and also by converting them into the correct integer form will not make much sense.\n",
        "---\n",
        "- So, we will apply the concept of binning on it to make it useful for the insights."
      ],
      "metadata": {
        "id": "2ymrlJSvbmQA"
      }
    },
    {
      "cell_type": "markdown",
      "source": [
        "- But before that, we do have to convert the values into the integer form.\n",
        "- So, let's get into it."
      ],
      "metadata": {
        "id": "a5SzMaLPdL6V"
      }
    },
    {
      "cell_type": "markdown",
      "source": [
        "---\n",
        "- For that , we are going to use the one liner lambda function to replace all the `+` signs in the `Content_Rating` column."
      ],
      "metadata": {
        "id": "6Mo7J2c6dtOT"
      }
    },
    {
      "cell_type": "code",
      "source": [
        "df['Content_Rating'] = df['Content_Rating'].apply( lambda x : x.replace(\"+\" , \"\") if \"+\" in str(x) else x)"
      ],
      "metadata": {
        "id": "qfZ7C97CbgJK"
      },
      "execution_count": 14,
      "outputs": []
    },
    {
      "cell_type": "markdown",
      "source": [
        "- It's time to check the results..."
      ],
      "metadata": {
        "id": "SRjFiE8wd7Kn"
      }
    },
    {
      "cell_type": "code",
      "source": [
        "df['Content_Rating'].unique()"
      ],
      "metadata": {
        "id": "ZhApywSNdlom",
        "colab": {
          "base_uri": "https://localhost:8080/"
        },
        "outputId": "d969a9e6-814e-4c1b-db2d-5126707c7203"
      },
      "execution_count": 15,
      "outputs": [
        {
          "output_type": "execute_result",
          "data": {
            "text/plain": [
              "array(['4', '17', '9', '12', 'Not yet rated'], dtype=object)"
            ]
          },
          "metadata": {},
          "execution_count": 15
        }
      ]
    },
    {
      "cell_type": "markdown",
      "source": [
        "#### **Great... We have successfully removed the `+` sign form the `COntent_Rating` column.**"
      ],
      "metadata": {
        "id": "wt1_Yw2pd_RD"
      }
    },
    {
      "cell_type": "markdown",
      "source": [
        "- Let's convert the data type of the `Content_Rating` column."
      ],
      "metadata": {
        "id": "tCWfaU2ogiOJ"
      }
    },
    {
      "cell_type": "code",
      "source": [
        "df['Content_Rating'].value_counts()"
      ],
      "metadata": {
        "id": "WBGybNn5gqlG",
        "colab": {
          "base_uri": "https://localhost:8080/"
        },
        "outputId": "26333e9f-c5ae-4d8c-addd-d9ca81581e2e"
      },
      "execution_count": 16,
      "outputs": [
        {
          "output_type": "execute_result",
          "data": {
            "text/plain": [
              "Content_Rating\n",
              "4                980971\n",
              "17               124127\n",
              "12                89570\n",
              "9                 35698\n",
              "Not yet rated        10\n",
              "Name: count, dtype: int64"
            ]
          },
          "metadata": {},
          "execution_count": 16
        }
      ]
    },
    {
      "cell_type": "markdown",
      "source": [
        "- We cannot use the examples in the `Content_Rating` column as they have some issues.\n",
        "1. They have `+` sign with most of them.\n",
        "2. There are some values that are `Not yet rated`.\n",
        "- So, we have to imoute all of them to make them useful."
      ],
      "metadata": {
        "id": "vcHBu7nSEon-"
      }
    },
    {
      "cell_type": "markdown",
      "source": [
        "---\n",
        "- First we will remove the `+` sign."
      ],
      "metadata": {
        "id": "X5bBL1xTFFZI"
      }
    },
    {
      "cell_type": "code",
      "source": [
        "df['Content_Rating'] = df['Content_Rating'].apply( lambda x : x.replace(\"+\" , \"\") if \"+\" in str(x) else x)"
      ],
      "metadata": {
        "id": "LBZfLlCgEgQY"
      },
      "execution_count": 17,
      "outputs": []
    },
    {
      "cell_type": "markdown",
      "source": [
        "- The above written one-liner function will succesfully remove the `+` sign from the examples in the column."
      ],
      "metadata": {
        "id": "4vsbNjUlFxL5"
      }
    },
    {
      "cell_type": "code",
      "source": [
        "df['Content_Rating'].value_counts()"
      ],
      "metadata": {
        "id": "GmkpDFy_Fffh",
        "colab": {
          "base_uri": "https://localhost:8080/"
        },
        "outputId": "1748ad53-1153-4bff-a52a-b798e07cc1d0"
      },
      "execution_count": 18,
      "outputs": [
        {
          "output_type": "execute_result",
          "data": {
            "text/plain": [
              "Content_Rating\n",
              "4                980971\n",
              "17               124127\n",
              "12                89570\n",
              "9                 35698\n",
              "Not yet rated        10\n",
              "Name: count, dtype: int64"
            ]
          },
          "metadata": {},
          "execution_count": 18
        }
      ]
    },
    {
      "cell_type": "markdown",
      "source": [
        "- The next step is to impute the `Not yet rated` values."
      ],
      "metadata": {
        "id": "3HdFFKDRF5ms"
      }
    },
    {
      "cell_type": "markdown",
      "source": [],
      "metadata": {
        "id": "ImlAJTYAU12x"
      }
    },
    {
      "cell_type": "code",
      "source": [
        "df_filter = df.loc[df[\"Content_Rating\"] != \"Not yet rated\"]"
      ],
      "metadata": {
        "id": "LQXjQjShFjTA"
      },
      "execution_count": 19,
      "outputs": []
    },
    {
      "cell_type": "code",
      "source": [
        "df_filter.shape"
      ],
      "metadata": {
        "id": "LlyhoqrnGP3s",
        "colab": {
          "base_uri": "https://localhost:8080/"
        },
        "outputId": "ad854cf0-b087-4222-8c70-17db8d1c4d4f"
      },
      "execution_count": 20,
      "outputs": [
        {
          "output_type": "execute_result",
          "data": {
            "text/plain": [
              "(1230366, 21)"
            ]
          },
          "metadata": {},
          "execution_count": 20
        }
      ]
    },
    {
      "cell_type": "code",
      "source": [
        "df.shape"
      ],
      "metadata": {
        "id": "lbbkHZQVGTiM",
        "colab": {
          "base_uri": "https://localhost:8080/"
        },
        "outputId": "650aab96-466b-460c-ab77-e7ec8b2ccab7"
      },
      "execution_count": 21,
      "outputs": [
        {
          "output_type": "execute_result",
          "data": {
            "text/plain": [
              "(1230376, 21)"
            ]
          },
          "metadata": {},
          "execution_count": 21
        }
      ]
    },
    {
      "cell_type": "markdown",
      "source": [
        "## **Great**\n",
        "- We have succesfully filtered the `Content_Rating` column from the examples having `Not yet rated` values.\n",
        "### **Reason for doing this ?**\n",
        "- As we can fill the confusing values with the mean value of the numeric columns.\n",
        "- For that, first we will get all the numeric values in one object.\n",
        "- Next, we will impute that values with the mean of the rest of the values."
      ],
      "metadata": {
        "id": "VBjjHPOWGcpf"
      }
    },
    {
      "cell_type": "code",
      "source": [
        "df['Content_Rating'].value_counts()"
      ],
      "metadata": {
        "colab": {
          "base_uri": "https://localhost:8080/"
        },
        "id": "u05uGixoT2DU",
        "outputId": "a78ff5d5-c844-4ff4-ae72-374700e94603"
      },
      "execution_count": 22,
      "outputs": [
        {
          "output_type": "execute_result",
          "data": {
            "text/plain": [
              "Content_Rating\n",
              "4                980971\n",
              "17               124127\n",
              "12                89570\n",
              "9                 35698\n",
              "Not yet rated        10\n",
              "Name: count, dtype: int64"
            ]
          },
          "metadata": {},
          "execution_count": 22
        }
      ]
    },
    {
      "cell_type": "code",
      "source": [
        "df['Content_Rating'].value_counts()"
      ],
      "metadata": {
        "colab": {
          "base_uri": "https://localhost:8080/"
        },
        "id": "Ar8Y0UzTVv4Z",
        "outputId": "4941fd24-58bc-477e-e665-03200cc272de"
      },
      "execution_count": 23,
      "outputs": [
        {
          "output_type": "execute_result",
          "data": {
            "text/plain": [
              "Content_Rating\n",
              "4                980971\n",
              "17               124127\n",
              "12                89570\n",
              "9                 35698\n",
              "Not yet rated        10\n",
              "Name: count, dtype: int64"
            ]
          },
          "metadata": {},
          "execution_count": 23
        }
      ]
    },
    {
      "cell_type": "markdown",
      "source": [
        "- It;s time to have a look at the dataset again and deal with any other anamolies there."
      ],
      "metadata": {
        "id": "Fh2vXCcSc3TA"
      }
    },
    {
      "cell_type": "code",
      "source": [
        "df.info()"
      ],
      "metadata": {
        "colab": {
          "base_uri": "https://localhost:8080/"
        },
        "id": "O_7hakIbc2rJ",
        "outputId": "1c0afdb9-65b6-44f4-c5f2-791f3bdb4416"
      },
      "execution_count": 24,
      "outputs": [
        {
          "output_type": "stream",
          "name": "stdout",
          "text": [
            "<class 'pandas.core.frame.DataFrame'>\n",
            "RangeIndex: 1230376 entries, 0 to 1230375\n",
            "Data columns (total 21 columns):\n",
            " #   Column                   Non-Null Count    Dtype  \n",
            "---  ------                   --------------    -----  \n",
            " 0   App_Id                   1230376 non-null  object \n",
            " 1   App_Name                 1230375 non-null  object \n",
            " 2   AppStore_Url             1230376 non-null  object \n",
            " 3   Primary_Genre            1230376 non-null  object \n",
            " 4   Content_Rating           1230376 non-null  object \n",
            " 5   Size_Bytes               1230152 non-null  float64\n",
            " 6   Required_IOS_Version     1230376 non-null  object \n",
            " 7   Released                 1230373 non-null  object \n",
            " 8   Updated                  1230376 non-null  object \n",
            " 9   Version                  1230376 non-null  object \n",
            " 10  Price                    1229886 non-null  float64\n",
            " 11  Currency                 1230376 non-null  object \n",
            " 12  Free                     1230376 non-null  bool   \n",
            " 13  DeveloperId              1230376 non-null  int64  \n",
            " 14  Developer                1230376 non-null  object \n",
            " 15  Developer_Url            1229267 non-null  object \n",
            " 16  Developer_Website        586388 non-null   object \n",
            " 17  Average_User_Rating      1230376 non-null  float64\n",
            " 18  Reviews                  1230376 non-null  int64  \n",
            " 19  Current_Version_Score    1230376 non-null  float64\n",
            " 20  Current_Version_Reviews  1230376 non-null  int64  \n",
            "dtypes: bool(1), float64(4), int64(3), object(13)\n",
            "memory usage: 188.9+ MB\n"
          ]
        }
      ]
    },
    {
      "cell_type": "markdown",
      "source": [
        "## **Observation :**\n",
        "- We can see that the `Size_Bytes` column indicates that the size of the apps in examples is in bytes. We will create another column naed as `Size_in_Mb` to make the data clear and more understandable."
      ],
      "metadata": {
        "id": "YP7p-vNJdDui"
      }
    },
    {
      "cell_type": "code",
      "source": [
        "df['Size_Bytes'].nunique()"
      ],
      "metadata": {
        "colab": {
          "base_uri": "https://localhost:8080/"
        },
        "id": "AoeeXCxBdAHr",
        "outputId": "f07d49a4-e585-452c-9c49-2d36034a2aa7"
      },
      "execution_count": 25,
      "outputs": [
        {
          "output_type": "execute_result",
          "data": {
            "text/plain": [
              "255914"
            ]
          },
          "metadata": {},
          "execution_count": 25
        }
      ]
    },
    {
      "cell_type": "code",
      "source": [
        "df['Size_in_Mb'] = df['Size_Bytes'].apply(lambda x : x / (1024 * 1024))"
      ],
      "metadata": {
        "id": "YzCSIH39deFd"
      },
      "execution_count": 26,
      "outputs": []
    },
    {
      "cell_type": "code",
      "source": [
        "df.head()\n"
      ],
      "metadata": {
        "colab": {
          "base_uri": "https://localhost:8080/",
          "height": 330
        },
        "id": "7P3UI0QXeajk",
        "outputId": "fd6bf0ce-a3ff-4f19-ea4a-ad3793f8b83e"
      },
      "execution_count": 27,
      "outputs": [
        {
          "output_type": "execute_result",
          "data": {
            "text/plain": [
              "                             App_Id                 App_Name  \\\n",
              "0               com.hkbu.arc.apaper           A+ Paper Guide   \n",
              "1               com.dmitriev.abooks                  A-Books   \n",
              "2                    no.terp.abooks                  A-books   \n",
              "3          fr.antoinettefleur.Book1              A-F Book #1   \n",
              "4  com.imonstersoft.azdictionaryios  A-Z Synonyms Dictionary   \n",
              "\n",
              "                                        AppStore_Url Primary_Genre  \\\n",
              "0  https://apps.apple.com/us/app/a-paper-guide/id...     Education   \n",
              "1  https://apps.apple.com/us/app/a-books/id103157...          Book   \n",
              "2  https://apps.apple.com/us/app/a-books/id145702...          Book   \n",
              "3  https://apps.apple.com/us/app/a-f-book-1/id500...          Book   \n",
              "4  https://apps.apple.com/us/app/a-z-synonyms-dic...     Reference   \n",
              "\n",
              "  Content_Rating  Size_Bytes Required_IOS_Version              Released  \\\n",
              "0              4  21993472.0                  8.0  2017-09-28T03:02:41Z   \n",
              "1              4  13135872.0                 10.0  2015-08-31T19:31:32Z   \n",
              "2              4  21943296.0                  9.0  2021-04-14T07:00:00Z   \n",
              "3              4  81851392.0                  8.0  2012-02-10T03:40:07Z   \n",
              "4              4  64692224.0                  9.0  2020-12-16T08:00:00Z   \n",
              "\n",
              "                Updated Version  Price Currency   Free  DeveloperId  \\\n",
              "0  2018-12-21T21:30:36Z   1.1.2   0.00      USD   True   1375410542   \n",
              "1  2019-07-23T20:31:09Z     1.3   0.00      USD   True   1031572001   \n",
              "2  2021-05-30T21:08:54Z   1.3.1   0.00      USD   True   1457024163   \n",
              "3  2019-10-29T12:40:37Z     1.2   2.99      USD  False    439568839   \n",
              "4  2020-12-18T21:36:11Z   1.0.1   0.00      USD   True    656731821   \n",
              "\n",
              "        Developer                                      Developer_Url  \\\n",
              "0        HKBU ARC  https://apps.apple.com/us/developer/hkbu-arc/i...   \n",
              "1  Roman Dmitriev  https://apps.apple.com/us/developer/roman-dmit...   \n",
              "2         Terp AS  https://apps.apple.com/us/developer/terp-as/id...   \n",
              "3   i-editeur.com  https://apps.apple.com/us/developer/i-editeur-...   \n",
              "4   Ngov chiheang  https://apps.apple.com/us/developer/ngov-chihe...   \n",
              "\n",
              "         Developer_Website  Average_User_Rating  Reviews  \\\n",
              "0                      NaN                  0.0        0   \n",
              "1                      NaN                  5.0        1   \n",
              "2                      NaN                  0.0        0   \n",
              "3                      NaN                  0.0        0   \n",
              "4  http://imonstersoft.com                  0.0        0   \n",
              "\n",
              "   Current_Version_Score  Current_Version_Reviews  Size_in_Mb  \n",
              "0                    0.0                        0   20.974609  \n",
              "1                    5.0                        1   12.527344  \n",
              "2                    0.0                        0   20.926758  \n",
              "3                    0.0                        0   78.059570  \n",
              "4                    0.0                        0   61.695312  "
            ],
            "text/html": [
              "\n",
              "  <div id=\"df-b280f764-b442-4899-bf17-002db3f52868\" class=\"colab-df-container\">\n",
              "    <div>\n",
              "<style scoped>\n",
              "    .dataframe tbody tr th:only-of-type {\n",
              "        vertical-align: middle;\n",
              "    }\n",
              "\n",
              "    .dataframe tbody tr th {\n",
              "        vertical-align: top;\n",
              "    }\n",
              "\n",
              "    .dataframe thead th {\n",
              "        text-align: right;\n",
              "    }\n",
              "</style>\n",
              "<table border=\"1\" class=\"dataframe\">\n",
              "  <thead>\n",
              "    <tr style=\"text-align: right;\">\n",
              "      <th></th>\n",
              "      <th>App_Id</th>\n",
              "      <th>App_Name</th>\n",
              "      <th>AppStore_Url</th>\n",
              "      <th>Primary_Genre</th>\n",
              "      <th>Content_Rating</th>\n",
              "      <th>Size_Bytes</th>\n",
              "      <th>Required_IOS_Version</th>\n",
              "      <th>Released</th>\n",
              "      <th>Updated</th>\n",
              "      <th>Version</th>\n",
              "      <th>Price</th>\n",
              "      <th>Currency</th>\n",
              "      <th>Free</th>\n",
              "      <th>DeveloperId</th>\n",
              "      <th>Developer</th>\n",
              "      <th>Developer_Url</th>\n",
              "      <th>Developer_Website</th>\n",
              "      <th>Average_User_Rating</th>\n",
              "      <th>Reviews</th>\n",
              "      <th>Current_Version_Score</th>\n",
              "      <th>Current_Version_Reviews</th>\n",
              "      <th>Size_in_Mb</th>\n",
              "    </tr>\n",
              "  </thead>\n",
              "  <tbody>\n",
              "    <tr>\n",
              "      <th>0</th>\n",
              "      <td>com.hkbu.arc.apaper</td>\n",
              "      <td>A+ Paper Guide</td>\n",
              "      <td>https://apps.apple.com/us/app/a-paper-guide/id...</td>\n",
              "      <td>Education</td>\n",
              "      <td>4</td>\n",
              "      <td>21993472.0</td>\n",
              "      <td>8.0</td>\n",
              "      <td>2017-09-28T03:02:41Z</td>\n",
              "      <td>2018-12-21T21:30:36Z</td>\n",
              "      <td>1.1.2</td>\n",
              "      <td>0.00</td>\n",
              "      <td>USD</td>\n",
              "      <td>True</td>\n",
              "      <td>1375410542</td>\n",
              "      <td>HKBU ARC</td>\n",
              "      <td>https://apps.apple.com/us/developer/hkbu-arc/i...</td>\n",
              "      <td>NaN</td>\n",
              "      <td>0.0</td>\n",
              "      <td>0</td>\n",
              "      <td>0.0</td>\n",
              "      <td>0</td>\n",
              "      <td>20.974609</td>\n",
              "    </tr>\n",
              "    <tr>\n",
              "      <th>1</th>\n",
              "      <td>com.dmitriev.abooks</td>\n",
              "      <td>A-Books</td>\n",
              "      <td>https://apps.apple.com/us/app/a-books/id103157...</td>\n",
              "      <td>Book</td>\n",
              "      <td>4</td>\n",
              "      <td>13135872.0</td>\n",
              "      <td>10.0</td>\n",
              "      <td>2015-08-31T19:31:32Z</td>\n",
              "      <td>2019-07-23T20:31:09Z</td>\n",
              "      <td>1.3</td>\n",
              "      <td>0.00</td>\n",
              "      <td>USD</td>\n",
              "      <td>True</td>\n",
              "      <td>1031572001</td>\n",
              "      <td>Roman Dmitriev</td>\n",
              "      <td>https://apps.apple.com/us/developer/roman-dmit...</td>\n",
              "      <td>NaN</td>\n",
              "      <td>5.0</td>\n",
              "      <td>1</td>\n",
              "      <td>5.0</td>\n",
              "      <td>1</td>\n",
              "      <td>12.527344</td>\n",
              "    </tr>\n",
              "    <tr>\n",
              "      <th>2</th>\n",
              "      <td>no.terp.abooks</td>\n",
              "      <td>A-books</td>\n",
              "      <td>https://apps.apple.com/us/app/a-books/id145702...</td>\n",
              "      <td>Book</td>\n",
              "      <td>4</td>\n",
              "      <td>21943296.0</td>\n",
              "      <td>9.0</td>\n",
              "      <td>2021-04-14T07:00:00Z</td>\n",
              "      <td>2021-05-30T21:08:54Z</td>\n",
              "      <td>1.3.1</td>\n",
              "      <td>0.00</td>\n",
              "      <td>USD</td>\n",
              "      <td>True</td>\n",
              "      <td>1457024163</td>\n",
              "      <td>Terp AS</td>\n",
              "      <td>https://apps.apple.com/us/developer/terp-as/id...</td>\n",
              "      <td>NaN</td>\n",
              "      <td>0.0</td>\n",
              "      <td>0</td>\n",
              "      <td>0.0</td>\n",
              "      <td>0</td>\n",
              "      <td>20.926758</td>\n",
              "    </tr>\n",
              "    <tr>\n",
              "      <th>3</th>\n",
              "      <td>fr.antoinettefleur.Book1</td>\n",
              "      <td>A-F Book #1</td>\n",
              "      <td>https://apps.apple.com/us/app/a-f-book-1/id500...</td>\n",
              "      <td>Book</td>\n",
              "      <td>4</td>\n",
              "      <td>81851392.0</td>\n",
              "      <td>8.0</td>\n",
              "      <td>2012-02-10T03:40:07Z</td>\n",
              "      <td>2019-10-29T12:40:37Z</td>\n",
              "      <td>1.2</td>\n",
              "      <td>2.99</td>\n",
              "      <td>USD</td>\n",
              "      <td>False</td>\n",
              "      <td>439568839</td>\n",
              "      <td>i-editeur.com</td>\n",
              "      <td>https://apps.apple.com/us/developer/i-editeur-...</td>\n",
              "      <td>NaN</td>\n",
              "      <td>0.0</td>\n",
              "      <td>0</td>\n",
              "      <td>0.0</td>\n",
              "      <td>0</td>\n",
              "      <td>78.059570</td>\n",
              "    </tr>\n",
              "    <tr>\n",
              "      <th>4</th>\n",
              "      <td>com.imonstersoft.azdictionaryios</td>\n",
              "      <td>A-Z Synonyms Dictionary</td>\n",
              "      <td>https://apps.apple.com/us/app/a-z-synonyms-dic...</td>\n",
              "      <td>Reference</td>\n",
              "      <td>4</td>\n",
              "      <td>64692224.0</td>\n",
              "      <td>9.0</td>\n",
              "      <td>2020-12-16T08:00:00Z</td>\n",
              "      <td>2020-12-18T21:36:11Z</td>\n",
              "      <td>1.0.1</td>\n",
              "      <td>0.00</td>\n",
              "      <td>USD</td>\n",
              "      <td>True</td>\n",
              "      <td>656731821</td>\n",
              "      <td>Ngov chiheang</td>\n",
              "      <td>https://apps.apple.com/us/developer/ngov-chihe...</td>\n",
              "      <td>http://imonstersoft.com</td>\n",
              "      <td>0.0</td>\n",
              "      <td>0</td>\n",
              "      <td>0.0</td>\n",
              "      <td>0</td>\n",
              "      <td>61.695312</td>\n",
              "    </tr>\n",
              "  </tbody>\n",
              "</table>\n",
              "</div>\n",
              "    <div class=\"colab-df-buttons\">\n",
              "\n",
              "  <div class=\"colab-df-container\">\n",
              "    <button class=\"colab-df-convert\" onclick=\"convertToInteractive('df-b280f764-b442-4899-bf17-002db3f52868')\"\n",
              "            title=\"Convert this dataframe to an interactive table.\"\n",
              "            style=\"display:none;\">\n",
              "\n",
              "  <svg xmlns=\"http://www.w3.org/2000/svg\" height=\"24px\" viewBox=\"0 -960 960 960\">\n",
              "    <path d=\"M120-120v-720h720v720H120Zm60-500h600v-160H180v160Zm220 220h160v-160H400v160Zm0 220h160v-160H400v160ZM180-400h160v-160H180v160Zm440 0h160v-160H620v160ZM180-180h160v-160H180v160Zm440 0h160v-160H620v160Z\"/>\n",
              "  </svg>\n",
              "    </button>\n",
              "\n",
              "  <style>\n",
              "    .colab-df-container {\n",
              "      display:flex;\n",
              "      gap: 12px;\n",
              "    }\n",
              "\n",
              "    .colab-df-convert {\n",
              "      background-color: #E8F0FE;\n",
              "      border: none;\n",
              "      border-radius: 50%;\n",
              "      cursor: pointer;\n",
              "      display: none;\n",
              "      fill: #1967D2;\n",
              "      height: 32px;\n",
              "      padding: 0 0 0 0;\n",
              "      width: 32px;\n",
              "    }\n",
              "\n",
              "    .colab-df-convert:hover {\n",
              "      background-color: #E2EBFA;\n",
              "      box-shadow: 0px 1px 2px rgba(60, 64, 67, 0.3), 0px 1px 3px 1px rgba(60, 64, 67, 0.15);\n",
              "      fill: #174EA6;\n",
              "    }\n",
              "\n",
              "    .colab-df-buttons div {\n",
              "      margin-bottom: 4px;\n",
              "    }\n",
              "\n",
              "    [theme=dark] .colab-df-convert {\n",
              "      background-color: #3B4455;\n",
              "      fill: #D2E3FC;\n",
              "    }\n",
              "\n",
              "    [theme=dark] .colab-df-convert:hover {\n",
              "      background-color: #434B5C;\n",
              "      box-shadow: 0px 1px 3px 1px rgba(0, 0, 0, 0.15);\n",
              "      filter: drop-shadow(0px 1px 2px rgba(0, 0, 0, 0.3));\n",
              "      fill: #FFFFFF;\n",
              "    }\n",
              "  </style>\n",
              "\n",
              "    <script>\n",
              "      const buttonEl =\n",
              "        document.querySelector('#df-b280f764-b442-4899-bf17-002db3f52868 button.colab-df-convert');\n",
              "      buttonEl.style.display =\n",
              "        google.colab.kernel.accessAllowed ? 'block' : 'none';\n",
              "\n",
              "      async function convertToInteractive(key) {\n",
              "        const element = document.querySelector('#df-b280f764-b442-4899-bf17-002db3f52868');\n",
              "        const dataTable =\n",
              "          await google.colab.kernel.invokeFunction('convertToInteractive',\n",
              "                                                    [key], {});\n",
              "        if (!dataTable) return;\n",
              "\n",
              "        const docLinkHtml = 'Like what you see? Visit the ' +\n",
              "          '<a target=\"_blank\" href=https://colab.research.google.com/notebooks/data_table.ipynb>data table notebook</a>'\n",
              "          + ' to learn more about interactive tables.';\n",
              "        element.innerHTML = '';\n",
              "        dataTable['output_type'] = 'display_data';\n",
              "        await google.colab.output.renderOutput(dataTable, element);\n",
              "        const docLink = document.createElement('div');\n",
              "        docLink.innerHTML = docLinkHtml;\n",
              "        element.appendChild(docLink);\n",
              "      }\n",
              "    </script>\n",
              "  </div>\n",
              "\n",
              "\n",
              "<div id=\"df-d3b27fdf-af20-43f4-a553-55fd1df73015\">\n",
              "  <button class=\"colab-df-quickchart\" onclick=\"quickchart('df-d3b27fdf-af20-43f4-a553-55fd1df73015')\"\n",
              "            title=\"Suggest charts\"\n",
              "            style=\"display:none;\">\n",
              "\n",
              "<svg xmlns=\"http://www.w3.org/2000/svg\" height=\"24px\"viewBox=\"0 0 24 24\"\n",
              "     width=\"24px\">\n",
              "    <g>\n",
              "        <path d=\"M19 3H5c-1.1 0-2 .9-2 2v14c0 1.1.9 2 2 2h14c1.1 0 2-.9 2-2V5c0-1.1-.9-2-2-2zM9 17H7v-7h2v7zm4 0h-2V7h2v10zm4 0h-2v-4h2v4z\"/>\n",
              "    </g>\n",
              "</svg>\n",
              "  </button>\n",
              "\n",
              "<style>\n",
              "  .colab-df-quickchart {\n",
              "      --bg-color: #E8F0FE;\n",
              "      --fill-color: #1967D2;\n",
              "      --hover-bg-color: #E2EBFA;\n",
              "      --hover-fill-color: #174EA6;\n",
              "      --disabled-fill-color: #AAA;\n",
              "      --disabled-bg-color: #DDD;\n",
              "  }\n",
              "\n",
              "  [theme=dark] .colab-df-quickchart {\n",
              "      --bg-color: #3B4455;\n",
              "      --fill-color: #D2E3FC;\n",
              "      --hover-bg-color: #434B5C;\n",
              "      --hover-fill-color: #FFFFFF;\n",
              "      --disabled-bg-color: #3B4455;\n",
              "      --disabled-fill-color: #666;\n",
              "  }\n",
              "\n",
              "  .colab-df-quickchart {\n",
              "    background-color: var(--bg-color);\n",
              "    border: none;\n",
              "    border-radius: 50%;\n",
              "    cursor: pointer;\n",
              "    display: none;\n",
              "    fill: var(--fill-color);\n",
              "    height: 32px;\n",
              "    padding: 0;\n",
              "    width: 32px;\n",
              "  }\n",
              "\n",
              "  .colab-df-quickchart:hover {\n",
              "    background-color: var(--hover-bg-color);\n",
              "    box-shadow: 0 1px 2px rgba(60, 64, 67, 0.3), 0 1px 3px 1px rgba(60, 64, 67, 0.15);\n",
              "    fill: var(--button-hover-fill-color);\n",
              "  }\n",
              "\n",
              "  .colab-df-quickchart-complete:disabled,\n",
              "  .colab-df-quickchart-complete:disabled:hover {\n",
              "    background-color: var(--disabled-bg-color);\n",
              "    fill: var(--disabled-fill-color);\n",
              "    box-shadow: none;\n",
              "  }\n",
              "\n",
              "  .colab-df-spinner {\n",
              "    border: 2px solid var(--fill-color);\n",
              "    border-color: transparent;\n",
              "    border-bottom-color: var(--fill-color);\n",
              "    animation:\n",
              "      spin 1s steps(1) infinite;\n",
              "  }\n",
              "\n",
              "  @keyframes spin {\n",
              "    0% {\n",
              "      border-color: transparent;\n",
              "      border-bottom-color: var(--fill-color);\n",
              "      border-left-color: var(--fill-color);\n",
              "    }\n",
              "    20% {\n",
              "      border-color: transparent;\n",
              "      border-left-color: var(--fill-color);\n",
              "      border-top-color: var(--fill-color);\n",
              "    }\n",
              "    30% {\n",
              "      border-color: transparent;\n",
              "      border-left-color: var(--fill-color);\n",
              "      border-top-color: var(--fill-color);\n",
              "      border-right-color: var(--fill-color);\n",
              "    }\n",
              "    40% {\n",
              "      border-color: transparent;\n",
              "      border-right-color: var(--fill-color);\n",
              "      border-top-color: var(--fill-color);\n",
              "    }\n",
              "    60% {\n",
              "      border-color: transparent;\n",
              "      border-right-color: var(--fill-color);\n",
              "    }\n",
              "    80% {\n",
              "      border-color: transparent;\n",
              "      border-right-color: var(--fill-color);\n",
              "      border-bottom-color: var(--fill-color);\n",
              "    }\n",
              "    90% {\n",
              "      border-color: transparent;\n",
              "      border-bottom-color: var(--fill-color);\n",
              "    }\n",
              "  }\n",
              "</style>\n",
              "\n",
              "  <script>\n",
              "    async function quickchart(key) {\n",
              "      const quickchartButtonEl =\n",
              "        document.querySelector('#' + key + ' button');\n",
              "      quickchartButtonEl.disabled = true;  // To prevent multiple clicks.\n",
              "      quickchartButtonEl.classList.add('colab-df-spinner');\n",
              "      try {\n",
              "        const charts = await google.colab.kernel.invokeFunction(\n",
              "            'suggestCharts', [key], {});\n",
              "      } catch (error) {\n",
              "        console.error('Error during call to suggestCharts:', error);\n",
              "      }\n",
              "      quickchartButtonEl.classList.remove('colab-df-spinner');\n",
              "      quickchartButtonEl.classList.add('colab-df-quickchart-complete');\n",
              "    }\n",
              "    (() => {\n",
              "      let quickchartButtonEl =\n",
              "        document.querySelector('#df-d3b27fdf-af20-43f4-a553-55fd1df73015 button');\n",
              "      quickchartButtonEl.style.display =\n",
              "        google.colab.kernel.accessAllowed ? 'block' : 'none';\n",
              "    })();\n",
              "  </script>\n",
              "</div>\n",
              "\n",
              "    </div>\n",
              "  </div>\n"
            ],
            "application/vnd.google.colaboratory.intrinsic+json": {
              "type": "dataframe",
              "variable_name": "df"
            }
          },
          "metadata": {},
          "execution_count": 27
        }
      ]
    },
    {
      "cell_type": "markdown",
      "source": [
        "### **WOO-HOO**\n",
        "- We have successfully converted the size in bytes into mbs using thr one liner lambda function."
      ],
      "metadata": {
        "id": "GrZmD0Ute4hs"
      }
    },
    {
      "cell_type": "markdown",
      "source": [
        "---\n",
        "- Previously we had the 21 columns and after adding the column that hold the sizes in MB format will make it 22."
      ],
      "metadata": {
        "id": "dM7_WmAafZlt"
      }
    },
    {
      "cell_type": "markdown",
      "source": [
        "---\n",
        "- Again it's time to check for any other anamolies in the data."
      ],
      "metadata": {
        "id": "MpvaxiL1f1aW"
      }
    },
    {
      "cell_type": "code",
      "source": [
        "df.isnull().sum().sort_values(ascending = False)"
      ],
      "metadata": {
        "colab": {
          "base_uri": "https://localhost:8080/"
        },
        "id": "4eL6ZUXieelX",
        "outputId": "70e9809f-862b-400d-c9e7-a2c64d58f93e"
      },
      "execution_count": 28,
      "outputs": [
        {
          "output_type": "execute_result",
          "data": {
            "text/plain": [
              "Developer_Website          643988\n",
              "Developer_Url                1109\n",
              "Price                         490\n",
              "Size_in_Mb                    224\n",
              "Size_Bytes                    224\n",
              "Released                        3\n",
              "App_Name                        1\n",
              "DeveloperId                     0\n",
              "Current_Version_Reviews         0\n",
              "Current_Version_Score           0\n",
              "Reviews                         0\n",
              "Average_User_Rating             0\n",
              "Developer                       0\n",
              "App_Id                          0\n",
              "Free                            0\n",
              "Version                         0\n",
              "Updated                         0\n",
              "Required_IOS_Version            0\n",
              "Content_Rating                  0\n",
              "Primary_Genre                   0\n",
              "AppStore_Url                    0\n",
              "Currency                        0\n",
              "dtype: int64"
            ]
          },
          "metadata": {},
          "execution_count": 28
        }
      ]
    },
    {
      "cell_type": "markdown",
      "source": [
        "- Let us visualize the null values in the form of a heatmap."
      ],
      "metadata": {
        "id": "w48e6Rl3gvfr"
      }
    },
    {
      "cell_type": "code",
      "source": [
        "plt.figure( figsize = (16 , 6))\n",
        "\n",
        "sns.heatmap( df.isnull() , cbar = False , yticklabels = False , cmap = 'viridis')\n",
        "\n",
        "plt.title( \"Missing Values Data\")\n"
      ],
      "metadata": {
        "colab": {
          "base_uri": "https://localhost:8080/",
          "height": 641
        },
        "id": "iL6xMLQNgKrJ",
        "outputId": "42d2109e-de5a-4bed-dab2-164c11575542"
      },
      "execution_count": 29,
      "outputs": [
        {
          "output_type": "execute_result",
          "data": {
            "text/plain": [
              "Text(0.5, 1.0, 'Missing Values Data')"
            ]
          },
          "metadata": {},
          "execution_count": 29
        },
        {
          "output_type": "display_data",
          "data": {
            "text/plain": [
              "<Figure size 1600x600 with 1 Axes>"
            ],
            "image/png": "[encoded data removed]"
          },
          "metadata": {}
        }
      ]
    },
    {
      "cell_type": "markdown",
      "source": [
        "> **Figure 1 :**\n",
        "This represents the visual representation of the null values in the the DataFrame."
      ],
      "metadata": {
        "id": "aozHvJkKlzCy"
      }
    },
    {
      "cell_type": "code",
      "source": [
        "null_percentage = (df.isnull().sum() / len(df)) * 100\n",
        "print(null_percentage)"
      ],
      "metadata": {
        "colab": {
          "base_uri": "https://localhost:8080/"
        },
        "id": "OP9MAxX5hKHP",
        "outputId": "00c3f87e-0204-40da-c1fb-9a5b95faf4ba"
      },
      "execution_count": 30,
      "outputs": [
        {
          "output_type": "stream",
          "name": "stdout",
          "text": [
            "App_Id                      0.000000\n",
            "App_Name                    0.000081\n",
            "AppStore_Url                0.000000\n",
            "Primary_Genre               0.000000\n",
            "Content_Rating              0.000000\n",
            "Size_Bytes                  0.018206\n",
            "Required_IOS_Version        0.000000\n",
            "Released                    0.000244\n",
            "Updated                     0.000000\n",
            "Version                     0.000000\n",
            "Price                       0.039825\n",
            "Currency                    0.000000\n",
            "Free                        0.000000\n",
            "DeveloperId                 0.000000\n",
            "Developer                   0.000000\n",
            "Developer_Url               0.090135\n",
            "Developer_Website          52.340748\n",
            "Average_User_Rating         0.000000\n",
            "Reviews                     0.000000\n",
            "Current_Version_Score       0.000000\n",
            "Current_Version_Reviews     0.000000\n",
            "Size_in_Mb                  0.018206\n",
            "dtype: float64\n"
          ]
        }
      ]
    },
    {
      "cell_type": "markdown",
      "source": [
        "## **Observations set 05**\n",
        "- We have got the percentage of null values in our dataset and stored it in the `null_percentage` column.\n"
      ],
      "metadata": {
        "id": "YGtgTGlbN4L6"
      }
    },
    {
      "cell_type": "markdown",
      "source": [
        "- We will generate the graph for the plotting of the null values."
      ],
      "metadata": {
        "id": "X-aqazZoj67G"
      }
    },
    {
      "cell_type": "code",
      "source": [
        "plt.figure( figsize = ( 16 , 6))\n",
        "\n",
        "null_percentage = null_percentage[null_percentage != 0]\n",
        "\n",
        "null_percentage.plot( kind = 'barh')\n",
        "\n",
        "plt.title( \"Null values percentage\")\n"
      ],
      "metadata": {
        "colab": {
          "base_uri": "https://localhost:8080/",
          "height": 453
        },
        "id": "B5oLyGHLhu2W",
        "outputId": "03f22190-1b60-4f85-f0d5-33cbc8112357"
      },
      "execution_count": 31,
      "outputs": [
        {
          "output_type": "execute_result",
          "data": {
            "text/plain": [
              "Text(0.5, 1.0, 'Null values percentage')"
            ]
          },
          "metadata": {},
          "execution_count": 31
        },
        {
          "output_type": "display_data",
          "data": {
            "text/plain": [
              "<Figure size 1600x600 with 1 Axes>"
            ],
            "image/png": "[encoded data removed]"
          },
          "metadata": {}
        }
      ]
    },
    {
      "cell_type": "markdown",
      "source": [
        "> **Figure 2**\n",
        " We can see that due to the large number null values in the `Developer_Website` , rest of the null values in the column just got vanished.  "
      ],
      "metadata": {
        "id": "zKPYGZiplCFI"
      }
    },
    {
      "cell_type": "markdown",
      "source": [
        "## **Solution to Observation set 05**\n",
        "- In this we will impute the missing values in the dataset."
      ],
      "metadata": {
        "id": "-NvF5zExO0b2"
      }
    },
    {
      "cell_type": "markdown",
      "source": [
        "- To get rid of these null values we will drop the column named as `Developer_Website`"
      ],
      "metadata": {
        "id": "wjsWO0fGlYPp"
      }
    },
    {
      "cell_type": "markdown",
      "source": [
        "- Also the lack of relevance of this column and the large amount of null values in this column, it won't effect our insights.\n",
        "- However, null values more than 50% in the `Developer_Website` shows that there are alot of people who donot enter their url while development.\n",
        "- So, it's better that if you are developing the app, you must enter your url."
      ],
      "metadata": {
        "id": "hRltToBonFEB"
      }
    },
    {
      "cell_type": "code",
      "source": [
        "df.drop('Developer_Website' , axis = 1 , inplace = True)"
      ],
      "metadata": {
        "id": "UmETMYL5kXOP"
      },
      "execution_count": 32,
      "outputs": []
    },
    {
      "cell_type": "code",
      "source": [
        "df.columns"
      ],
      "metadata": {
        "colab": {
          "base_uri": "https://localhost:8080/"
        },
        "id": "EPI4zR4HnYCN",
        "outputId": "faef08d5-0138-40a7-e49a-556622db8189"
      },
      "execution_count": 33,
      "outputs": [
        {
          "output_type": "execute_result",
          "data": {
            "text/plain": [
              "Index(['App_Id', 'App_Name', 'AppStore_Url', 'Primary_Genre', 'Content_Rating',\n",
              "       'Size_Bytes', 'Required_IOS_Version', 'Released', 'Updated', 'Version',\n",
              "       'Price', 'Currency', 'Free', 'DeveloperId', 'Developer',\n",
              "       'Developer_Url', 'Average_User_Rating', 'Reviews',\n",
              "       'Current_Version_Score', 'Current_Version_Reviews', 'Size_in_Mb'],\n",
              "      dtype='object')"
            ]
          },
          "metadata": {},
          "execution_count": 33
        }
      ]
    },
    {
      "cell_type": "markdown",
      "source": [
        "#### **Great, The `Developer_Website` column has been successfully removed.**"
      ],
      "metadata": {
        "id": "nXLViqXSnekb"
      }
    },
    {
      "cell_type": "markdown",
      "source": [
        "---\n",
        "### **Let's have some fun with the `Price` column.**"
      ],
      "metadata": {
        "id": "dcONTT9DPyGj"
      }
    },
    {
      "cell_type": "code",
      "source": [
        "df['Price'].isnull().sum()"
      ],
      "metadata": {
        "id": "Yjo4Koehndh_",
        "colab": {
          "base_uri": "https://localhost:8080/"
        },
        "outputId": "b6de4084-88a1-4b56-e4b9-92e0ecc6bfd7"
      },
      "execution_count": 34,
      "outputs": [
        {
          "output_type": "execute_result",
          "data": {
            "text/plain": [
              "490"
            ]
          },
          "metadata": {},
          "execution_count": 34
        }
      ]
    },
    {
      "cell_type": "markdown",
      "source": [
        "### **Obervation set 06**\n",
        "- As the values in the price column is important and dropping them can cause issues.\n",
        "- So, we will fill that values with the mean value of the `Price` column."
      ],
      "metadata": {
        "id": "AqZJfpwpQDaP"
      }
    },
    {
      "cell_type": "code",
      "source": [
        "df['Price'] = df['Price'].fillna(value= df['Price'].mean())"
      ],
      "metadata": {
        "id": "cf7EDTRwP_uT"
      },
      "execution_count": 35,
      "outputs": []
    },
    {
      "cell_type": "code",
      "source": [
        "df['Price'].isnull().sum()"
      ],
      "metadata": {
        "colab": {
          "base_uri": "https://localhost:8080/"
        },
        "id": "x9Apue1JQqTQ",
        "outputId": "b2cca3b6-a386-4a97-97b4-c8bd542c5880"
      },
      "execution_count": 36,
      "outputs": [
        {
          "output_type": "execute_result",
          "data": {
            "text/plain": [
              "0"
            ]
          },
          "metadata": {},
          "execution_count": 36
        }
      ]
    },
    {
      "cell_type": "markdown",
      "source": [
        "- As we can see even if you are a bat , that there aren't any missing values left in the `Price` column."
      ],
      "metadata": {
        "id": "GKypl8a_RDaQ"
      }
    },
    {
      "cell_type": "markdown",
      "source": [
        "---\n",
        "- It's time to deal with the missing values in the `Size_Bytes` column."
      ],
      "metadata": {
        "id": "7t1GbKpHRZUZ"
      }
    },
    {
      "cell_type": "code",
      "source": [
        "df['Size_Bytes'].isnull().sum()"
      ],
      "metadata": {
        "colab": {
          "base_uri": "https://localhost:8080/"
        },
        "id": "u-FrWjNGQ3ug",
        "outputId": "2f507931-8fc5-469c-8acd-ee755df37852"
      },
      "execution_count": 37,
      "outputs": [
        {
          "output_type": "execute_result",
          "data": {
            "text/plain": [
              "224"
            ]
          },
          "metadata": {},
          "execution_count": 37
        }
      ]
    },
    {
      "cell_type": "code",
      "source": [
        "df['Size_Bytes'] = df['Size_Bytes'].fillna( value= df['Size_Bytes'].mean())"
      ],
      "metadata": {
        "id": "3kV71sWLRXLu"
      },
      "execution_count": 38,
      "outputs": []
    },
    {
      "cell_type": "code",
      "source": [
        "df['Size_Bytes'].isnull().sum()"
      ],
      "metadata": {
        "colab": {
          "base_uri": "https://localhost:8080/"
        },
        "id": "uUE0s5gzRsjP",
        "outputId": "a2e04186-e39f-43b0-bdf8-c829e515177f"
      },
      "execution_count": 39,
      "outputs": [
        {
          "output_type": "execute_result",
          "data": {
            "text/plain": [
              "0"
            ]
          },
          "metadata": {},
          "execution_count": 39
        }
      ]
    },
    {
      "cell_type": "markdown",
      "source": [
        "### **Greatt**\n",
        "- Missing values in the `Size_Bytes` column also got imputed."
      ],
      "metadata": {
        "id": "Y3qrpt38R1vS"
      }
    },
    {
      "cell_type": "code",
      "source": [
        "df.isnull().sum().sort_values( ascending = False)"
      ],
      "metadata": {
        "colab": {
          "base_uri": "https://localhost:8080/"
        },
        "id": "MC8g46fpRy8D",
        "outputId": "b7a3cd23-94cb-42a5-b3c2-e61d45d79d2d"
      },
      "execution_count": 40,
      "outputs": [
        {
          "output_type": "execute_result",
          "data": {
            "text/plain": [
              "Developer_Url              1109\n",
              "Size_in_Mb                  224\n",
              "Released                      3\n",
              "App_Name                      1\n",
              "Free                          0\n",
              "Current_Version_Reviews       0\n",
              "Current_Version_Score         0\n",
              "Reviews                       0\n",
              "Average_User_Rating           0\n",
              "Developer                     0\n",
              "DeveloperId                   0\n",
              "App_Id                        0\n",
              "Currency                      0\n",
              "Version                       0\n",
              "Updated                       0\n",
              "Required_IOS_Version          0\n",
              "Size_Bytes                    0\n",
              "Content_Rating                0\n",
              "Primary_Genre                 0\n",
              "AppStore_Url                  0\n",
              "Price                         0\n",
              "dtype: int64"
            ]
          },
          "metadata": {},
          "execution_count": 40
        }
      ]
    },
    {
      "cell_type": "markdown",
      "source": [
        "### **Let's have a look at the examples having the null values in the `Released` column.**"
      ],
      "metadata": {
        "id": "hBJty1idiFDC"
      }
    },
    {
      "cell_type": "code",
      "source": [
        "df[df['Released'].isnull()]"
      ],
      "metadata": {
        "id": "NIFDT-DgSNa8",
        "colab": {
          "base_uri": "https://localhost:8080/",
          "height": 267
        },
        "outputId": "a379f768-3420-4133-f98a-5719243d9577"
      },
      "execution_count": 41,
      "outputs": [
        {
          "output_type": "execute_result",
          "data": {
            "text/plain": [
              "                                               App_Id  \\\n",
              "264853  com.ironhidegames.frontiers.universal.premium   \n",
              "836858                    com.redgamesco.transformers   \n",
              "919513    com.crayolallc.crayola-create-and-play-plus   \n",
              "\n",
              "                            App_Name  \\\n",
              "264853    Kingdom Rush Frontiers TD+   \n",
              "836858  Transformers: Tactical Arena   \n",
              "919513      Crayola Create and Play+   \n",
              "\n",
              "                                             AppStore_Url Primary_Genre  \\\n",
              "264853  https://apps.apple.com/us/app/kingdom-rush-fro...         Games   \n",
              "836858  https://apps.apple.com/us/app/transformers-tac...         Games   \n",
              "919513  https://apps.apple.com/us/app/crayola-create-a...         Games   \n",
              "\n",
              "       Content_Rating    Size_Bytes Required_IOS_Version Released  \\\n",
              "264853             12  7.510857e+07                 13.0      NaN   \n",
              "836858              9  7.510857e+07               13.5.0      NaN   \n",
              "919513              4  7.510857e+07                   13      NaN   \n",
              "\n",
              "                     Updated Version     Price Currency   Free  DeveloperId  \\\n",
              "264853  2021-11-12T08:00:00Z  5.4.15  0.504126      USD  False   1542047256   \n",
              "836858  2021-11-05T07:00:00Z     0.1  0.504126      USD  False   1456007507   \n",
              "919513  2021-10-29T07:00:00Z    1.52  0.504126      USD  False   1456007507   \n",
              "\n",
              "                Developer                                      Developer_Url  \\\n",
              "264853       Ironhide Irl  https://apps.apple.com/us/developer/ironhide-i...   \n",
              "836858  RED GAMES CO, LLC  https://apps.apple.com/us/developer/red-games-...   \n",
              "919513  RED GAMES CO, LLC  https://apps.apple.com/us/developer/red-games-...   \n",
              "\n",
              "        Average_User_Rating  Reviews  Current_Version_Score  \\\n",
              "264853                  0.0        0                    0.0   \n",
              "836858                  0.0        0                    0.0   \n",
              "919513                  0.0        0                    0.0   \n",
              "\n",
              "        Current_Version_Reviews  Size_in_Mb  \n",
              "264853                        0         NaN  \n",
              "836858                        0         NaN  \n",
              "919513                        0         NaN  "
            ],
            "text/html": [
              "\n",
              "  <div id=\"df-a1f0616e-cbe7-4010-976a-632ca60e6eaa\" class=\"colab-df-container\">\n",
              "    <div>\n",
              "<style scoped>\n",
              "    .dataframe tbody tr th:only-of-type {\n",
              "        vertical-align: middle;\n",
              "    }\n",
              "\n",
              "    .dataframe tbody tr th {\n",
              "        vertical-align: top;\n",
              "    }\n",
              "\n",
              "    .dataframe thead th {\n",
              "        text-align: right;\n",
              "    }\n",
              "</style>\n",
              "<table border=\"1\" class=\"dataframe\">\n",
              "  <thead>\n",
              "    <tr style=\"text-align: right;\">\n",
              "      <th></th>\n",
              "      <th>App_Id</th>\n",
              "      <th>App_Name</th>\n",
              "      <th>AppStore_Url</th>\n",
              "      <th>Primary_Genre</th>\n",
              "      <th>Content_Rating</th>\n",
              "      <th>Size_Bytes</th>\n",
              "      <th>Required_IOS_Version</th>\n",
              "      <th>Released</th>\n",
              "      <th>Updated</th>\n",
              "      <th>Version</th>\n",
              "      <th>Price</th>\n",
              "      <th>Currency</th>\n",
              "      <th>Free</th>\n",
              "      <th>DeveloperId</th>\n",
              "      <th>Developer</th>\n",
              "      <th>Developer_Url</th>\n",
              "      <th>Average_User_Rating</th>\n",
              "      <th>Reviews</th>\n",
              "      <th>Current_Version_Score</th>\n",
              "      <th>Current_Version_Reviews</th>\n",
              "      <th>Size_in_Mb</th>\n",
              "    </tr>\n",
              "  </thead>\n",
              "  <tbody>\n",
              "    <tr>\n",
              "      <th>264853</th>\n",
              "      <td>com.ironhidegames.frontiers.universal.premium</td>\n",
              "      <td>Kingdom Rush Frontiers TD+</td>\n",
              "      <td>https://apps.apple.com/us/app/kingdom-rush-fro...</td>\n",
              "      <td>Games</td>\n",
              "      <td>12</td>\n",
              "      <td>7.510857e+07</td>\n",
              "      <td>13.0</td>\n",
              "      <td>NaN</td>\n",
              "      <td>2021-11-12T08:00:00Z</td>\n",
              "      <td>5.4.15</td>\n",
              "      <td>0.504126</td>\n",
              "      <td>USD</td>\n",
              "      <td>False</td>\n",
              "      <td>1542047256</td>\n",
              "      <td>Ironhide Irl</td>\n",
              "      <td>https://apps.apple.com/us/developer/ironhide-i...</td>\n",
              "      <td>0.0</td>\n",
              "      <td>0</td>\n",
              "      <td>0.0</td>\n",
              "      <td>0</td>\n",
              "      <td>NaN</td>\n",
              "    </tr>\n",
              "    <tr>\n",
              "      <th>836858</th>\n",
              "      <td>com.redgamesco.transformers</td>\n",
              "      <td>Transformers: Tactical Arena</td>\n",
              "      <td>https://apps.apple.com/us/app/transformers-tac...</td>\n",
              "      <td>Games</td>\n",
              "      <td>9</td>\n",
              "      <td>7.510857e+07</td>\n",
              "      <td>13.5.0</td>\n",
              "      <td>NaN</td>\n",
              "      <td>2021-11-05T07:00:00Z</td>\n",
              "      <td>0.1</td>\n",
              "      <td>0.504126</td>\n",
              "      <td>USD</td>\n",
              "      <td>False</td>\n",
              "      <td>1456007507</td>\n",
              "      <td>RED GAMES CO, LLC</td>\n",
              "      <td>https://apps.apple.com/us/developer/red-games-...</td>\n",
              "      <td>0.0</td>\n",
              "      <td>0</td>\n",
              "      <td>0.0</td>\n",
              "      <td>0</td>\n",
              "      <td>NaN</td>\n",
              "    </tr>\n",
              "    <tr>\n",
              "      <th>919513</th>\n",
              "      <td>com.crayolallc.crayola-create-and-play-plus</td>\n",
              "      <td>Crayola Create and Play+</td>\n",
              "      <td>https://apps.apple.com/us/app/crayola-create-a...</td>\n",
              "      <td>Games</td>\n",
              "      <td>4</td>\n",
              "      <td>7.510857e+07</td>\n",
              "      <td>13</td>\n",
              "      <td>NaN</td>\n",
              "      <td>2021-10-29T07:00:00Z</td>\n",
              "      <td>1.52</td>\n",
              "      <td>0.504126</td>\n",
              "      <td>USD</td>\n",
              "      <td>False</td>\n",
              "      <td>1456007507</td>\n",
              "      <td>RED GAMES CO, LLC</td>\n",
              "      <td>https://apps.apple.com/us/developer/red-games-...</td>\n",
              "      <td>0.0</td>\n",
              "      <td>0</td>\n",
              "      <td>0.0</td>\n",
              "      <td>0</td>\n",
              "      <td>NaN</td>\n",
              "    </tr>\n",
              "  </tbody>\n",
              "</table>\n",
              "</div>\n",
              "    <div class=\"colab-df-buttons\">\n",
              "\n",
              "  <div class=\"colab-df-container\">\n",
              "    <button class=\"colab-df-convert\" onclick=\"convertToInteractive('df-a1f0616e-cbe7-4010-976a-632ca60e6eaa')\"\n",
              "            title=\"Convert this dataframe to an interactive table.\"\n",
              "            style=\"display:none;\">\n",
              "\n",
              "  <svg xmlns=\"http://www.w3.org/2000/svg\" height=\"24px\" viewBox=\"0 -960 960 960\">\n",
              "    <path d=\"M120-120v-720h720v720H120Zm60-500h600v-160H180v160Zm220 220h160v-160H400v160Zm0 220h160v-160H400v160ZM180-400h160v-160H180v160Zm440 0h160v-160H620v160ZM180-180h160v-160H180v160Zm440 0h160v-160H620v160Z\"/>\n",
              "  </svg>\n",
              "    </button>\n",
              "\n",
              "  <style>\n",
              "    .colab-df-container {\n",
              "      display:flex;\n",
              "      gap: 12px;\n",
              "    }\n",
              "\n",
              "    .colab-df-convert {\n",
              "      background-color: #E8F0FE;\n",
              "      border: none;\n",
              "      border-radius: 50%;\n",
              "      cursor: pointer;\n",
              "      display: none;\n",
              "      fill: #1967D2;\n",
              "      height: 32px;\n",
              "      padding: 0 0 0 0;\n",
              "      width: 32px;\n",
              "    }\n",
              "\n",
              "    .colab-df-convert:hover {\n",
              "      background-color: #E2EBFA;\n",
              "      box-shadow: 0px 1px 2px rgba(60, 64, 67, 0.3), 0px 1px 3px 1px rgba(60, 64, 67, 0.15);\n",
              "      fill: #174EA6;\n",
              "    }\n",
              "\n",
              "    .colab-df-buttons div {\n",
              "      margin-bottom: 4px;\n",
              "    }\n",
              "\n",
              "    [theme=dark] .colab-df-convert {\n",
              "      background-color: #3B4455;\n",
              "      fill: #D2E3FC;\n",
              "    }\n",
              "\n",
              "    [theme=dark] .colab-df-convert:hover {\n",
              "      background-color: #434B5C;\n",
              "      box-shadow: 0px 1px 3px 1px rgba(0, 0, 0, 0.15);\n",
              "      filter: drop-shadow(0px 1px 2px rgba(0, 0, 0, 0.3));\n",
              "      fill: #FFFFFF;\n",
              "    }\n",
              "  </style>\n",
              "\n",
              "    <script>\n",
              "      const buttonEl =\n",
              "        document.querySelector('#df-a1f0616e-cbe7-4010-976a-632ca60e6eaa button.colab-df-convert');\n",
              "      buttonEl.style.display =\n",
              "        google.colab.kernel.accessAllowed ? 'block' : 'none';\n",
              "\n",
              "      async function convertToInteractive(key) {\n",
              "        const element = document.querySelector('#df-a1f0616e-cbe7-4010-976a-632ca60e6eaa');\n",
              "        const dataTable =\n",
              "          await google.colab.kernel.invokeFunction('convertToInteractive',\n",
              "                                                    [key], {});\n",
              "        if (!dataTable) return;\n",
              "\n",
              "        const docLinkHtml = 'Like what you see? Visit the ' +\n",
              "          '<a target=\"_blank\" href=https://colab.research.google.com/notebooks/data_table.ipynb>data table notebook</a>'\n",
              "          + ' to learn more about interactive tables.';\n",
              "        element.innerHTML = '';\n",
              "        dataTable['output_type'] = 'display_data';\n",
              "        await google.colab.output.renderOutput(dataTable, element);\n",
              "        const docLink = document.createElement('div');\n",
              "        docLink.innerHTML = docLinkHtml;\n",
              "        element.appendChild(docLink);\n",
              "      }\n",
              "    </script>\n",
              "  </div>\n",
              "\n",
              "\n",
              "<div id=\"df-75c92735-8c89-468a-b25e-58552709c254\">\n",
              "  <button class=\"colab-df-quickchart\" onclick=\"quickchart('df-75c92735-8c89-468a-b25e-58552709c254')\"\n",
              "            title=\"Suggest charts\"\n",
              "            style=\"display:none;\">\n",
              "\n",
              "<svg xmlns=\"http://www.w3.org/2000/svg\" height=\"24px\"viewBox=\"0 0 24 24\"\n",
              "     width=\"24px\">\n",
              "    <g>\n",
              "        <path d=\"M19 3H5c-1.1 0-2 .9-2 2v14c0 1.1.9 2 2 2h14c1.1 0 2-.9 2-2V5c0-1.1-.9-2-2-2zM9 17H7v-7h2v7zm4 0h-2V7h2v10zm4 0h-2v-4h2v4z\"/>\n",
              "    </g>\n",
              "</svg>\n",
              "  </button>\n",
              "\n",
              "<style>\n",
              "  .colab-df-quickchart {\n",
              "      --bg-color: #E8F0FE;\n",
              "      --fill-color: #1967D2;\n",
              "      --hover-bg-color: #E2EBFA;\n",
              "      --hover-fill-color: #174EA6;\n",
              "      --disabled-fill-color: #AAA;\n",
              "      --disabled-bg-color: #DDD;\n",
              "  }\n",
              "\n",
              "  [theme=dark] .colab-df-quickchart {\n",
              "      --bg-color: #3B4455;\n",
              "      --fill-color: #D2E3FC;\n",
              "      --hover-bg-color: #434B5C;\n",
              "      --hover-fill-color: #FFFFFF;\n",
              "      --disabled-bg-color: #3B4455;\n",
              "      --disabled-fill-color: #666;\n",
              "  }\n",
              "\n",
              "  .colab-df-quickchart {\n",
              "    background-color: var(--bg-color);\n",
              "    border: none;\n",
              "    border-radius: 50%;\n",
              "    cursor: pointer;\n",
              "    display: none;\n",
              "    fill: var(--fill-color);\n",
              "    height: 32px;\n",
              "    padding: 0;\n",
              "    width: 32px;\n",
              "  }\n",
              "\n",
              "  .colab-df-quickchart:hover {\n",
              "    background-color: var(--hover-bg-color);\n",
              "    box-shadow: 0 1px 2px rgba(60, 64, 67, 0.3), 0 1px 3px 1px rgba(60, 64, 67, 0.15);\n",
              "    fill: var(--button-hover-fill-color);\n",
              "  }\n",
              "\n",
              "  .colab-df-quickchart-complete:disabled,\n",
              "  .colab-df-quickchart-complete:disabled:hover {\n",
              "    background-color: var(--disabled-bg-color);\n",
              "    fill: var(--disabled-fill-color);\n",
              "    box-shadow: none;\n",
              "  }\n",
              "\n",
              "  .colab-df-spinner {\n",
              "    border: 2px solid var(--fill-color);\n",
              "    border-color: transparent;\n",
              "    border-bottom-color: var(--fill-color);\n",
              "    animation:\n",
              "      spin 1s steps(1) infinite;\n",
              "  }\n",
              "\n",
              "  @keyframes spin {\n",
              "    0% {\n",
              "      border-color: transparent;\n",
              "      border-bottom-color: var(--fill-color);\n",
              "      border-left-color: var(--fill-color);\n",
              "    }\n",
              "    20% {\n",
              "      border-color: transparent;\n",
              "      border-left-color: var(--fill-color);\n",
              "      border-top-color: var(--fill-color);\n",
              "    }\n",
              "    30% {\n",
              "      border-color: transparent;\n",
              "      border-left-color: var(--fill-color);\n",
              "      border-top-color: var(--fill-color);\n",
              "      border-right-color: var(--fill-color);\n",
              "    }\n",
              "    40% {\n",
              "      border-color: transparent;\n",
              "      border-right-color: var(--fill-color);\n",
              "      border-top-color: var(--fill-color);\n",
              "    }\n",
              "    60% {\n",
              "      border-color: transparent;\n",
              "      border-right-color: var(--fill-color);\n",
              "    }\n",
              "    80% {\n",
              "      border-color: transparent;\n",
              "      border-right-color: var(--fill-color);\n",
              "      border-bottom-color: var(--fill-color);\n",
              "    }\n",
              "    90% {\n",
              "      border-color: transparent;\n",
              "      border-bottom-color: var(--fill-color);\n",
              "    }\n",
              "  }\n",
              "</style>\n",
              "\n",
              "  <script>\n",
              "    async function quickchart(key) {\n",
              "      const quickchartButtonEl =\n",
              "        document.querySelector('#' + key + ' button');\n",
              "      quickchartButtonEl.disabled = true;  // To prevent multiple clicks.\n",
              "      quickchartButtonEl.classList.add('colab-df-spinner');\n",
              "      try {\n",
              "        const charts = await google.colab.kernel.invokeFunction(\n",
              "            'suggestCharts', [key], {});\n",
              "      } catch (error) {\n",
              "        console.error('Error during call to suggestCharts:', error);\n",
              "      }\n",
              "      quickchartButtonEl.classList.remove('colab-df-spinner');\n",
              "      quickchartButtonEl.classList.add('colab-df-quickchart-complete');\n",
              "    }\n",
              "    (() => {\n",
              "      let quickchartButtonEl =\n",
              "        document.querySelector('#df-75c92735-8c89-468a-b25e-58552709c254 button');\n",
              "      quickchartButtonEl.style.display =\n",
              "        google.colab.kernel.accessAllowed ? 'block' : 'none';\n",
              "    })();\n",
              "  </script>\n",
              "</div>\n",
              "\n",
              "    </div>\n",
              "  </div>\n"
            ],
            "application/vnd.google.colaboratory.intrinsic+json": {
              "type": "dataframe"
            }
          },
          "metadata": {},
          "execution_count": 41
        }
      ]
    },
    {
      "cell_type": "markdown",
      "source": [
        "---\n",
        "## **Observations**\n",
        "- We can see that the apps who have not entered their `Released` data, they haven't got any reviews."
      ],
      "metadata": {
        "id": "RJxUv0KajuG-"
      }
    },
    {
      "cell_type": "markdown",
      "source": [
        "### **It's time to have a look at the null values in the `Developer's_Url` column.**\n",
        "- As there are `1109` null values in the column, so we will use the head function."
      ],
      "metadata": {
        "id": "lJLkhmeYiXkl"
      }
    },
    {
      "cell_type": "code",
      "source": [
        "df[df['Developer_Url'].isnull()].head()"
      ],
      "metadata": {
        "colab": {
          "base_uri": "https://localhost:8080/",
          "height": 451
        },
        "id": "b4OwCMoRiVfQ",
        "outputId": "3ab52fba-f242-4705-c96e-af641665d29c"
      },
      "execution_count": 42,
      "outputs": [
        {
          "output_type": "execute_result",
          "data": {
            "text/plain": [
              "                           App_Id         App_Name  \\\n",
              "2382              com.TroopAdmin2  C&S Troop Admin   \n",
              "2827       com.dhrubajyoti.bangla    Bangla Rhymes   \n",
              "3498  com.f1rstmotors.f1rstmotors     F1RST MOTORS   \n",
              "5820       tr.com.okuvaryum.mobil        Okuvaryum   \n",
              "5821        tr.com.okuvaryum.okul   Okuvaryum Okul   \n",
              "\n",
              "                                           AppStore_Url Primary_Genre  \\\n",
              "2382  https://apps.apple.com/us/app/c-s-troop-admin/...      Business   \n",
              "2827  https://apps.apple.com/us/app/bangla-rhymes/id...     Education   \n",
              "3498  https://apps.apple.com/us/app/f1rst-motors/id1...      Business   \n",
              "5820  https://apps.apple.com/us/app/okuvaryum/id1493...     Education   \n",
              "5821  https://apps.apple.com/us/app/okuvaryum-okul/i...     Education   \n",
              "\n",
              "     Content_Rating  Size_Bytes Required_IOS_Version              Released  \\\n",
              "2382              4  87355392.0                 10.0  2021-06-04T07:00:00Z   \n",
              "2827              4  56445952.0                  9.1  2019-03-23T18:27:49Z   \n",
              "3498              4  77185024.0                 13.0  2021-10-06T07:00:00Z   \n",
              "5820              4  79869952.0                 11.0  2020-01-17T08:00:00Z   \n",
              "5821              4  39526400.0                 11.0  2021-08-25T07:00:00Z   \n",
              "\n",
              "                   Updated Version  Price Currency  Free  DeveloperId  \\\n",
              "2382  2021-06-05T03:40:31Z     1.0    0.0      USD  True   1569780624   \n",
              "2827  2019-03-23T18:27:49Z   1.0.1    0.0      USD  True   1452131894   \n",
              "3498  2021-10-06T12:15:27Z     1.0    0.0      USD  True   1588267041   \n",
              "5820  2021-05-29T15:20:58Z  1.0.21    0.0      USD  True   1589915483   \n",
              "5821  2021-10-08T17:07:59Z   1.0.2    0.0      USD  True   1589915483   \n",
              "\n",
              "                                         Developer Developer_Url  \\\n",
              "2382                 Hunter Biscuit & Wolf Limited           NaN   \n",
              "2827                               Dhrubajyoti Dey           NaN   \n",
              "3498                              F1RST MOTORS LLC           NaN   \n",
              "5820  OKUVARYUM EGITIM VE TEKNOLOJI ANONIM SIRKETI           NaN   \n",
              "5821  OKUVARYUM EGITIM VE TEKNOLOJI ANONIM SIRKETI           NaN   \n",
              "\n",
              "      Average_User_Rating  Reviews  Current_Version_Score  \\\n",
              "2382              0.00000        0                0.00000   \n",
              "2827              5.00000        5                5.00000   \n",
              "3498              0.00000        0                0.00000   \n",
              "5820              4.44444        9                4.44444   \n",
              "5821              0.00000        0                0.00000   \n",
              "\n",
              "      Current_Version_Reviews  Size_in_Mb  \n",
              "2382                        0   83.308594  \n",
              "2827                        5   53.831055  \n",
              "3498                        0   73.609375  \n",
              "5820                        9   76.169922  \n",
              "5821                        0   37.695312  "
            ],
            "text/html": [
              "\n",
              "  <div id=\"df-a1d18ad1-35c7-43fd-936f-c267eb256765\" class=\"colab-df-container\">\n",
              "    <div>\n",
              "<style scoped>\n",
              "    .dataframe tbody tr th:only-of-type {\n",
              "        vertical-align: middle;\n",
              "    }\n",
              "\n",
              "    .dataframe tbody tr th {\n",
              "        vertical-align: top;\n",
              "    }\n",
              "\n",
              "    .dataframe thead th {\n",
              "        text-align: right;\n",
              "    }\n",
              "</style>\n",
              "<table border=\"1\" class=\"dataframe\">\n",
              "  <thead>\n",
              "    <tr style=\"text-align: right;\">\n",
              "      <th></th>\n",
              "      <th>App_Id</th>\n",
              "      <th>App_Name</th>\n",
              "      <th>AppStore_Url</th>\n",
              "      <th>Primary_Genre</th>\n",
              "      <th>Content_Rating</th>\n",
              "      <th>Size_Bytes</th>\n",
              "      <th>Required_IOS_Version</th>\n",
              "      <th>Released</th>\n",
              "      <th>Updated</th>\n",
              "      <th>Version</th>\n",
              "      <th>Price</th>\n",
              "      <th>Currency</th>\n",
              "      <th>Free</th>\n",
              "      <th>DeveloperId</th>\n",
              "      <th>Developer</th>\n",
              "      <th>Developer_Url</th>\n",
              "      <th>Average_User_Rating</th>\n",
              "      <th>Reviews</th>\n",
              "      <th>Current_Version_Score</th>\n",
              "      <th>Current_Version_Reviews</th>\n",
              "      <th>Size_in_Mb</th>\n",
              "    </tr>\n",
              "  </thead>\n",
              "  <tbody>\n",
              "    <tr>\n",
              "      <th>2382</th>\n",
              "      <td>com.TroopAdmin2</td>\n",
              "      <td>C&amp;S Troop Admin</td>\n",
              "      <td>https://apps.apple.com/us/app/c-s-troop-admin/...</td>\n",
              "      <td>Business</td>\n",
              "      <td>4</td>\n",
              "      <td>87355392.0</td>\n",
              "      <td>10.0</td>\n",
              "      <td>2021-06-04T07:00:00Z</td>\n",
              "      <td>2021-06-05T03:40:31Z</td>\n",
              "      <td>1.0</td>\n",
              "      <td>0.0</td>\n",
              "      <td>USD</td>\n",
              "      <td>True</td>\n",
              "      <td>1569780624</td>\n",
              "      <td>Hunter Biscuit &amp; Wolf Limited</td>\n",
              "      <td>NaN</td>\n",
              "      <td>0.00000</td>\n",
              "      <td>0</td>\n",
              "      <td>0.00000</td>\n",
              "      <td>0</td>\n",
              "      <td>83.308594</td>\n",
              "    </tr>\n",
              "    <tr>\n",
              "      <th>2827</th>\n",
              "      <td>com.dhrubajyoti.bangla</td>\n",
              "      <td>Bangla Rhymes</td>\n",
              "      <td>https://apps.apple.com/us/app/bangla-rhymes/id...</td>\n",
              "      <td>Education</td>\n",
              "      <td>4</td>\n",
              "      <td>56445952.0</td>\n",
              "      <td>9.1</td>\n",
              "      <td>2019-03-23T18:27:49Z</td>\n",
              "      <td>2019-03-23T18:27:49Z</td>\n",
              "      <td>1.0.1</td>\n",
              "      <td>0.0</td>\n",
              "      <td>USD</td>\n",
              "      <td>True</td>\n",
              "      <td>1452131894</td>\n",
              "      <td>Dhrubajyoti Dey</td>\n",
              "      <td>NaN</td>\n",
              "      <td>5.00000</td>\n",
              "      <td>5</td>\n",
              "      <td>5.00000</td>\n",
              "      <td>5</td>\n",
              "      <td>53.831055</td>\n",
              "    </tr>\n",
              "    <tr>\n",
              "      <th>3498</th>\n",
              "      <td>com.f1rstmotors.f1rstmotors</td>\n",
              "      <td>F1RST MOTORS</td>\n",
              "      <td>https://apps.apple.com/us/app/f1rst-motors/id1...</td>\n",
              "      <td>Business</td>\n",
              "      <td>4</td>\n",
              "      <td>77185024.0</td>\n",
              "      <td>13.0</td>\n",
              "      <td>2021-10-06T07:00:00Z</td>\n",
              "      <td>2021-10-06T12:15:27Z</td>\n",
              "      <td>1.0</td>\n",
              "      <td>0.0</td>\n",
              "      <td>USD</td>\n",
              "      <td>True</td>\n",
              "      <td>1588267041</td>\n",
              "      <td>F1RST MOTORS LLC</td>\n",
              "      <td>NaN</td>\n",
              "      <td>0.00000</td>\n",
              "      <td>0</td>\n",
              "      <td>0.00000</td>\n",
              "      <td>0</td>\n",
              "      <td>73.609375</td>\n",
              "    </tr>\n",
              "    <tr>\n",
              "      <th>5820</th>\n",
              "      <td>tr.com.okuvaryum.mobil</td>\n",
              "      <td>Okuvaryum</td>\n",
              "      <td>https://apps.apple.com/us/app/okuvaryum/id1493...</td>\n",
              "      <td>Education</td>\n",
              "      <td>4</td>\n",
              "      <td>79869952.0</td>\n",
              "      <td>11.0</td>\n",
              "      <td>2020-01-17T08:00:00Z</td>\n",
              "      <td>2021-05-29T15:20:58Z</td>\n",
              "      <td>1.0.21</td>\n",
              "      <td>0.0</td>\n",
              "      <td>USD</td>\n",
              "      <td>True</td>\n",
              "      <td>1589915483</td>\n",
              "      <td>OKUVARYUM EGITIM VE TEKNOLOJI ANONIM SIRKETI</td>\n",
              "      <td>NaN</td>\n",
              "      <td>4.44444</td>\n",
              "      <td>9</td>\n",
              "      <td>4.44444</td>\n",
              "      <td>9</td>\n",
              "      <td>76.169922</td>\n",
              "    </tr>\n",
              "    <tr>\n",
              "      <th>5821</th>\n",
              "      <td>tr.com.okuvaryum.okul</td>\n",
              "      <td>Okuvaryum Okul</td>\n",
              "      <td>https://apps.apple.com/us/app/okuvaryum-okul/i...</td>\n",
              "      <td>Education</td>\n",
              "      <td>4</td>\n",
              "      <td>39526400.0</td>\n",
              "      <td>11.0</td>\n",
              "      <td>2021-08-25T07:00:00Z</td>\n",
              "      <td>2021-10-08T17:07:59Z</td>\n",
              "      <td>1.0.2</td>\n",
              "      <td>0.0</td>\n",
              "      <td>USD</td>\n",
              "      <td>True</td>\n",
              "      <td>1589915483</td>\n",
              "      <td>OKUVARYUM EGITIM VE TEKNOLOJI ANONIM SIRKETI</td>\n",
              "      <td>NaN</td>\n",
              "      <td>0.00000</td>\n",
              "      <td>0</td>\n",
              "      <td>0.00000</td>\n",
              "      <td>0</td>\n",
              "      <td>37.695312</td>\n",
              "    </tr>\n",
              "  </tbody>\n",
              "</table>\n",
              "</div>\n",
              "    <div class=\"colab-df-buttons\">\n",
              "\n",
              "  <div class=\"colab-df-container\">\n",
              "    <button class=\"colab-df-convert\" onclick=\"convertToInteractive('df-a1d18ad1-35c7-43fd-936f-c267eb256765')\"\n",
              "            title=\"Convert this dataframe to an interactive table.\"\n",
              "            style=\"display:none;\">\n",
              "\n",
              "  <svg xmlns=\"http://www.w3.org/2000/svg\" height=\"24px\" viewBox=\"0 -960 960 960\">\n",
              "    <path d=\"M120-120v-720h720v720H120Zm60-500h600v-160H180v160Zm220 220h160v-160H400v160Zm0 220h160v-160H400v160ZM180-400h160v-160H180v160Zm440 0h160v-160H620v160ZM180-180h160v-160H180v160Zm440 0h160v-160H620v160Z\"/>\n",
              "  </svg>\n",
              "    </button>\n",
              "\n",
              "  <style>\n",
              "    .colab-df-container {\n",
              "      display:flex;\n",
              "      gap: 12px;\n",
              "    }\n",
              "\n",
              "    .colab-df-convert {\n",
              "      background-color: #E8F0FE;\n",
              "      border: none;\n",
              "      border-radius: 50%;\n",
              "      cursor: pointer;\n",
              "      display: none;\n",
              "      fill: #1967D2;\n",
              "      height: 32px;\n",
              "      padding: 0 0 0 0;\n",
              "      width: 32px;\n",
              "    }\n",
              "\n",
              "    .colab-df-convert:hover {\n",
              "      background-color: #E2EBFA;\n",
              "      box-shadow: 0px 1px 2px rgba(60, 64, 67, 0.3), 0px 1px 3px 1px rgba(60, 64, 67, 0.15);\n",
              "      fill: #174EA6;\n",
              "    }\n",
              "\n",
              "    .colab-df-buttons div {\n",
              "      margin-bottom: 4px;\n",
              "    }\n",
              "\n",
              "    [theme=dark] .colab-df-convert {\n",
              "      background-color: #3B4455;\n",
              "      fill: #D2E3FC;\n",
              "    }\n",
              "\n",
              "    [theme=dark] .colab-df-convert:hover {\n",
              "      background-color: #434B5C;\n",
              "      box-shadow: 0px 1px 3px 1px rgba(0, 0, 0, 0.15);\n",
              "      filter: drop-shadow(0px 1px 2px rgba(0, 0, 0, 0.3));\n",
              "      fill: #FFFFFF;\n",
              "    }\n",
              "  </style>\n",
              "\n",
              "    <script>\n",
              "      const buttonEl =\n",
              "        document.querySelector('#df-a1d18ad1-35c7-43fd-936f-c267eb256765 button.colab-df-convert');\n",
              "      buttonEl.style.display =\n",
              "        google.colab.kernel.accessAllowed ? 'block' : 'none';\n",
              "\n",
              "      async function convertToInteractive(key) {\n",
              "        const element = document.querySelector('#df-a1d18ad1-35c7-43fd-936f-c267eb256765');\n",
              "        const dataTable =\n",
              "          await google.colab.kernel.invokeFunction('convertToInteractive',\n",
              "                                                    [key], {});\n",
              "        if (!dataTable) return;\n",
              "\n",
              "        const docLinkHtml = 'Like what you see? Visit the ' +\n",
              "          '<a target=\"_blank\" href=https://colab.research.google.com/notebooks/data_table.ipynb>data table notebook</a>'\n",
              "          + ' to learn more about interactive tables.';\n",
              "        element.innerHTML = '';\n",
              "        dataTable['output_type'] = 'display_data';\n",
              "        await google.colab.output.renderOutput(dataTable, element);\n",
              "        const docLink = document.createElement('div');\n",
              "        docLink.innerHTML = docLinkHtml;\n",
              "        element.appendChild(docLink);\n",
              "      }\n",
              "    </script>\n",
              "  </div>\n",
              "\n",
              "\n",
              "<div id=\"df-28a3601c-3c14-4d5d-a8fe-5e06facce1e3\">\n",
              "  <button class=\"colab-df-quickchart\" onclick=\"quickchart('df-28a3601c-3c14-4d5d-a8fe-5e06facce1e3')\"\n",
              "            title=\"Suggest charts\"\n",
              "            style=\"display:none;\">\n",
              "\n",
              "<svg xmlns=\"http://www.w3.org/2000/svg\" height=\"24px\"viewBox=\"0 0 24 24\"\n",
              "     width=\"24px\">\n",
              "    <g>\n",
              "        <path d=\"M19 3H5c-1.1 0-2 .9-2 2v14c0 1.1.9 2 2 2h14c1.1 0 2-.9 2-2V5c0-1.1-.9-2-2-2zM9 17H7v-7h2v7zm4 0h-2V7h2v10zm4 0h-2v-4h2v4z\"/>\n",
              "    </g>\n",
              "</svg>\n",
              "  </button>\n",
              "\n",
              "<style>\n",
              "  .colab-df-quickchart {\n",
              "      --bg-color: #E8F0FE;\n",
              "      --fill-color: #1967D2;\n",
              "      --hover-bg-color: #E2EBFA;\n",
              "      --hover-fill-color: #174EA6;\n",
              "      --disabled-fill-color: #AAA;\n",
              "      --disabled-bg-color: #DDD;\n",
              "  }\n",
              "\n",
              "  [theme=dark] .colab-df-quickchart {\n",
              "      --bg-color: #3B4455;\n",
              "      --fill-color: #D2E3FC;\n",
              "      --hover-bg-color: #434B5C;\n",
              "      --hover-fill-color: #FFFFFF;\n",
              "      --disabled-bg-color: #3B4455;\n",
              "      --disabled-fill-color: #666;\n",
              "  }\n",
              "\n",
              "  .colab-df-quickchart {\n",
              "    background-color: var(--bg-color);\n",
              "    border: none;\n",
              "    border-radius: 50%;\n",
              "    cursor: pointer;\n",
              "    display: none;\n",
              "    fill: var(--fill-color);\n",
              "    height: 32px;\n",
              "    padding: 0;\n",
              "    width: 32px;\n",
              "  }\n",
              "\n",
              "  .colab-df-quickchart:hover {\n",
              "    background-color: var(--hover-bg-color);\n",
              "    box-shadow: 0 1px 2px rgba(60, 64, 67, 0.3), 0 1px 3px 1px rgba(60, 64, 67, 0.15);\n",
              "    fill: var(--button-hover-fill-color);\n",
              "  }\n",
              "\n",
              "  .colab-df-quickchart-complete:disabled,\n",
              "  .colab-df-quickchart-complete:disabled:hover {\n",
              "    background-color: var(--disabled-bg-color);\n",
              "    fill: var(--disabled-fill-color);\n",
              "    box-shadow: none;\n",
              "  }\n",
              "\n",
              "  .colab-df-spinner {\n",
              "    border: 2px solid var(--fill-color);\n",
              "    border-color: transparent;\n",
              "    border-bottom-color: var(--fill-color);\n",
              "    animation:\n",
              "      spin 1s steps(1) infinite;\n",
              "  }\n",
              "\n",
              "  @keyframes spin {\n",
              "    0% {\n",
              "      border-color: transparent;\n",
              "      border-bottom-color: var(--fill-color);\n",
              "      border-left-color: var(--fill-color);\n",
              "    }\n",
              "    20% {\n",
              "      border-color: transparent;\n",
              "      border-left-color: var(--fill-color);\n",
              "      border-top-color: var(--fill-color);\n",
              "    }\n",
              "    30% {\n",
              "      border-color: transparent;\n",
              "      border-left-color: var(--fill-color);\n",
              "      border-top-color: var(--fill-color);\n",
              "      border-right-color: var(--fill-color);\n",
              "    }\n",
              "    40% {\n",
              "      border-color: transparent;\n",
              "      border-right-color: var(--fill-color);\n",
              "      border-top-color: var(--fill-color);\n",
              "    }\n",
              "    60% {\n",
              "      border-color: transparent;\n",
              "      border-right-color: var(--fill-color);\n",
              "    }\n",
              "    80% {\n",
              "      border-color: transparent;\n",
              "      border-right-color: var(--fill-color);\n",
              "      border-bottom-color: var(--fill-color);\n",
              "    }\n",
              "    90% {\n",
              "      border-color: transparent;\n",
              "      border-bottom-color: var(--fill-color);\n",
              "    }\n",
              "  }\n",
              "</style>\n",
              "\n",
              "  <script>\n",
              "    async function quickchart(key) {\n",
              "      const quickchartButtonEl =\n",
              "        document.querySelector('#' + key + ' button');\n",
              "      quickchartButtonEl.disabled = true;  // To prevent multiple clicks.\n",
              "      quickchartButtonEl.classList.add('colab-df-spinner');\n",
              "      try {\n",
              "        const charts = await google.colab.kernel.invokeFunction(\n",
              "            'suggestCharts', [key], {});\n",
              "      } catch (error) {\n",
              "        console.error('Error during call to suggestCharts:', error);\n",
              "      }\n",
              "      quickchartButtonEl.classList.remove('colab-df-spinner');\n",
              "      quickchartButtonEl.classList.add('colab-df-quickchart-complete');\n",
              "    }\n",
              "    (() => {\n",
              "      let quickchartButtonEl =\n",
              "        document.querySelector('#df-28a3601c-3c14-4d5d-a8fe-5e06facce1e3 button');\n",
              "      quickchartButtonEl.style.display =\n",
              "        google.colab.kernel.accessAllowed ? 'block' : 'none';\n",
              "    })();\n",
              "  </script>\n",
              "</div>\n",
              "\n",
              "    </div>\n",
              "  </div>\n"
            ],
            "application/vnd.google.colaboratory.intrinsic+json": {
              "type": "dataframe"
            }
          },
          "metadata": {},
          "execution_count": 42
        }
      ]
    },
    {
      "cell_type": "markdown",
      "source": [
        "### **Reason for visulaizing the rows with null values :**\n",
        "- This will give us the exact indices and we can either remove or impute them using any methos for imputing missing values."
      ],
      "metadata": {
        "id": "9l0CsQkejG7u"
      }
    },
    {
      "cell_type": "markdown",
      "source": [
        "## **Handling missing values**\n",
        "- As the `Developer's_url` column doesn't have much effect either on the stats or the visualizations we are going to create later on.  "
      ],
      "metadata": {
        "id": "nhtx3-DymrHN"
      }
    },
    {
      "cell_type": "markdown",
      "source": [
        "---\n",
        "### **Let's have a look at the `App_name` column.**"
      ],
      "metadata": {
        "id": "1QRVV6wkkCdx"
      }
    },
    {
      "cell_type": "code",
      "source": [
        "df[df['App_Name'].isnull()]"
      ],
      "metadata": {
        "colab": {
          "base_uri": "https://localhost:8080/",
          "height": 118
        },
        "id": "p91Yxea3i7kU",
        "outputId": "4c9c4fbf-53a5-47a6-f8c3-f3aa89216254"
      },
      "execution_count": 43,
      "outputs": [
        {
          "output_type": "execute_result",
          "data": {
            "text/plain": [
              "                App_Id App_Name  \\\n",
              "964888  se.promedia.NA      NaN   \n",
              "\n",
              "                                             AppStore_Url Primary_Genre  \\\n",
              "964888  https://apps.apple.com/us/app/na/id449134868?uo=4          News   \n",
              "\n",
              "       Content_Rating  Size_Bytes Required_IOS_Version              Released  \\\n",
              "964888              4  19528704.0                  9.0  2011-08-08T11:45:30Z   \n",
              "\n",
              "                     Updated Version  Price Currency  Free  DeveloperId  \\\n",
              "964888  2020-12-21T14:08:02Z   8.1.2    0.0      USD  True    449134871   \n",
              "\n",
              "       Developer                                      Developer_Url  \\\n",
              "964888  Promedia  https://apps.apple.com/us/developer/promedia/i...   \n",
              "\n",
              "        Average_User_Rating  Reviews  Current_Version_Score  \\\n",
              "964888                  5.0        1                    5.0   \n",
              "\n",
              "        Current_Version_Reviews  Size_in_Mb  \n",
              "964888                        1   18.624023  "
            ],
            "text/html": [
              "\n",
              "  <div id=\"df-6c15729c-4797-4cc6-a401-de4b40b11377\" class=\"colab-df-container\">\n",
              "    <div>\n",
              "<style scoped>\n",
              "    .dataframe tbody tr th:only-of-type {\n",
              "        vertical-align: middle;\n",
              "    }\n",
              "\n",
              "    .dataframe tbody tr th {\n",
              "        vertical-align: top;\n",
              "    }\n",
              "\n",
              "    .dataframe thead th {\n",
              "        text-align: right;\n",
              "    }\n",
              "</style>\n",
              "<table border=\"1\" class=\"dataframe\">\n",
              "  <thead>\n",
              "    <tr style=\"text-align: right;\">\n",
              "      <th></th>\n",
              "      <th>App_Id</th>\n",
              "      <th>App_Name</th>\n",
              "      <th>AppStore_Url</th>\n",
              "      <th>Primary_Genre</th>\n",
              "      <th>Content_Rating</th>\n",
              "      <th>Size_Bytes</th>\n",
              "      <th>Required_IOS_Version</th>\n",
              "      <th>Released</th>\n",
              "      <th>Updated</th>\n",
              "      <th>Version</th>\n",
              "      <th>Price</th>\n",
              "      <th>Currency</th>\n",
              "      <th>Free</th>\n",
              "      <th>DeveloperId</th>\n",
              "      <th>Developer</th>\n",
              "      <th>Developer_Url</th>\n",
              "      <th>Average_User_Rating</th>\n",
              "      <th>Reviews</th>\n",
              "      <th>Current_Version_Score</th>\n",
              "      <th>Current_Version_Reviews</th>\n",
              "      <th>Size_in_Mb</th>\n",
              "    </tr>\n",
              "  </thead>\n",
              "  <tbody>\n",
              "    <tr>\n",
              "      <th>964888</th>\n",
              "      <td>se.promedia.NA</td>\n",
              "      <td>NaN</td>\n",
              "      <td>https://apps.apple.com/us/app/na/id449134868?uo=4</td>\n",
              "      <td>News</td>\n",
              "      <td>4</td>\n",
              "      <td>19528704.0</td>\n",
              "      <td>9.0</td>\n",
              "      <td>2011-08-08T11:45:30Z</td>\n",
              "      <td>2020-12-21T14:08:02Z</td>\n",
              "      <td>8.1.2</td>\n",
              "      <td>0.0</td>\n",
              "      <td>USD</td>\n",
              "      <td>True</td>\n",
              "      <td>449134871</td>\n",
              "      <td>Promedia</td>\n",
              "      <td>https://apps.apple.com/us/developer/promedia/i...</td>\n",
              "      <td>5.0</td>\n",
              "      <td>1</td>\n",
              "      <td>5.0</td>\n",
              "      <td>1</td>\n",
              "      <td>18.624023</td>\n",
              "    </tr>\n",
              "  </tbody>\n",
              "</table>\n",
              "</div>\n",
              "    <div class=\"colab-df-buttons\">\n",
              "\n",
              "  <div class=\"colab-df-container\">\n",
              "    <button class=\"colab-df-convert\" onclick=\"convertToInteractive('df-6c15729c-4797-4cc6-a401-de4b40b11377')\"\n",
              "            title=\"Convert this dataframe to an interactive table.\"\n",
              "            style=\"display:none;\">\n",
              "\n",
              "  <svg xmlns=\"http://www.w3.org/2000/svg\" height=\"24px\" viewBox=\"0 -960 960 960\">\n",
              "    <path d=\"M120-120v-720h720v720H120Zm60-500h600v-160H180v160Zm220 220h160v-160H400v160Zm0 220h160v-160H400v160ZM180-400h160v-160H180v160Zm440 0h160v-160H620v160ZM180-180h160v-160H180v160Zm440 0h160v-160H620v160Z\"/>\n",
              "  </svg>\n",
              "    </button>\n",
              "\n",
              "  <style>\n",
              "    .colab-df-container {\n",
              "      display:flex;\n",
              "      gap: 12px;\n",
              "    }\n",
              "\n",
              "    .colab-df-convert {\n",
              "      background-color: #E8F0FE;\n",
              "      border: none;\n",
              "      border-radius: 50%;\n",
              "      cursor: pointer;\n",
              "      display: none;\n",
              "      fill: #1967D2;\n",
              "      height: 32px;\n",
              "      padding: 0 0 0 0;\n",
              "      width: 32px;\n",
              "    }\n",
              "\n",
              "    .colab-df-convert:hover {\n",
              "      background-color: #E2EBFA;\n",
              "      box-shadow: 0px 1px 2px rgba(60, 64, 67, 0.3), 0px 1px 3px 1px rgba(60, 64, 67, 0.15);\n",
              "      fill: #174EA6;\n",
              "    }\n",
              "\n",
              "    .colab-df-buttons div {\n",
              "      margin-bottom: 4px;\n",
              "    }\n",
              "\n",
              "    [theme=dark] .colab-df-convert {\n",
              "      background-color: #3B4455;\n",
              "      fill: #D2E3FC;\n",
              "    }\n",
              "\n",
              "    [theme=dark] .colab-df-convert:hover {\n",
              "      background-color: #434B5C;\n",
              "      box-shadow: 0px 1px 3px 1px rgba(0, 0, 0, 0.15);\n",
              "      filter: drop-shadow(0px 1px 2px rgba(0, 0, 0, 0.3));\n",
              "      fill: #FFFFFF;\n",
              "    }\n",
              "  </style>\n",
              "\n",
              "    <script>\n",
              "      const buttonEl =\n",
              "        document.querySelector('#df-6c15729c-4797-4cc6-a401-de4b40b11377 button.colab-df-convert');\n",
              "      buttonEl.style.display =\n",
              "        google.colab.kernel.accessAllowed ? 'block' : 'none';\n",
              "\n",
              "      async function convertToInteractive(key) {\n",
              "        const element = document.querySelector('#df-6c15729c-4797-4cc6-a401-de4b40b11377');\n",
              "        const dataTable =\n",
              "          await google.colab.kernel.invokeFunction('convertToInteractive',\n",
              "                                                    [key], {});\n",
              "        if (!dataTable) return;\n",
              "\n",
              "        const docLinkHtml = 'Like what you see? Visit the ' +\n",
              "          '<a target=\"_blank\" href=https://colab.research.google.com/notebooks/data_table.ipynb>data table notebook</a>'\n",
              "          + ' to learn more about interactive tables.';\n",
              "        element.innerHTML = '';\n",
              "        dataTable['output_type'] = 'display_data';\n",
              "        await google.colab.output.renderOutput(dataTable, element);\n",
              "        const docLink = document.createElement('div');\n",
              "        docLink.innerHTML = docLinkHtml;\n",
              "        element.appendChild(docLink);\n",
              "      }\n",
              "    </script>\n",
              "  </div>\n",
              "\n",
              "\n",
              "    </div>\n",
              "  </div>\n"
            ],
            "application/vnd.google.colaboratory.intrinsic+json": {
              "type": "dataframe"
            }
          },
          "metadata": {},
          "execution_count": 43
        }
      ]
    },
    {
      "cell_type": "markdown",
      "source": [
        "- We have only one example with the missing value in the `App_name` column."
      ],
      "metadata": {
        "id": "MspsXPKfkXNV"
      }
    },
    {
      "cell_type": "markdown",
      "source": [
        "---\n",
        "## **Possible Approaches to Handle Missing values**\n",
        "- We can try to write a code for the replacement of null values in the row with by finding the same `App_Id` in any other row where it is not null."
      ],
      "metadata": {
        "id": "fPCVjPhzlZj6"
      }
    },
    {
      "cell_type": "markdown",
      "source": [
        "#### **But the null values in the `App_name` and the `Released` column are not much and dropping them from the dataFrame will not affect the data. So, we will drop them.**"
      ],
      "metadata": {
        "id": "Dold9NwzmoBr"
      }
    },
    {
      "cell_type": "code",
      "source": [
        "df.dropna(subset= [\"App_Name\"], inplace= True)\n",
        "df.dropna(subset= [\"Released\"], inplace= True)"
      ],
      "metadata": {
        "id": "01d2pQY4kWGZ"
      },
      "execution_count": 44,
      "outputs": []
    },
    {
      "cell_type": "code",
      "source": [
        "df.isnull().sum().sort_values(ascending = False)"
      ],
      "metadata": {
        "colab": {
          "base_uri": "https://localhost:8080/"
        },
        "id": "Fqtj8w8toC9q",
        "outputId": "2dcb418c-a3a0-4ced-eb96-e37e177cafb8"
      },
      "execution_count": 45,
      "outputs": [
        {
          "output_type": "execute_result",
          "data": {
            "text/plain": [
              "Developer_Url              1109\n",
              "Size_in_Mb                  221\n",
              "Currency                      0\n",
              "Current_Version_Reviews       0\n",
              "Current_Version_Score         0\n",
              "Reviews                       0\n",
              "Average_User_Rating           0\n",
              "Developer                     0\n",
              "DeveloperId                   0\n",
              "Free                          0\n",
              "App_Id                        0\n",
              "App_Name                      0\n",
              "Version                       0\n",
              "Updated                       0\n",
              "Released                      0\n",
              "Required_IOS_Version          0\n",
              "Size_Bytes                    0\n",
              "Content_Rating                0\n",
              "Primary_Genre                 0\n",
              "AppStore_Url                  0\n",
              "Price                         0\n",
              "dtype: int64"
            ]
          },
          "metadata": {},
          "execution_count": 45
        }
      ]
    },
    {
      "cell_type": "markdown",
      "source": [
        "### **Great, We have successfully removed the missing values from the `App_name` and the `Released` column.**"
      ],
      "metadata": {
        "id": "3k5dFSxvoW_i"
      }
    },
    {
      "cell_type": "markdown",
      "source": [
        "- Let's fill up the missing values in the `Size_in_Mb` column."
      ],
      "metadata": {
        "id": "xmX7bzVQopap"
      }
    },
    {
      "cell_type": "code",
      "source": [
        "df.isnull().sum()"
      ],
      "metadata": {
        "colab": {
          "base_uri": "https://localhost:8080/"
        },
        "id": "0VIrQzEsoFPX",
        "outputId": "ceb8e537-8ef0-4d33-b6c8-0e9a62366923"
      },
      "execution_count": 46,
      "outputs": [
        {
          "output_type": "execute_result",
          "data": {
            "text/plain": [
              "App_Id                        0\n",
              "App_Name                      0\n",
              "AppStore_Url                  0\n",
              "Primary_Genre                 0\n",
              "Content_Rating                0\n",
              "Size_Bytes                    0\n",
              "Required_IOS_Version          0\n",
              "Released                      0\n",
              "Updated                       0\n",
              "Version                       0\n",
              "Price                         0\n",
              "Currency                      0\n",
              "Free                          0\n",
              "DeveloperId                   0\n",
              "Developer                     0\n",
              "Developer_Url              1109\n",
              "Average_User_Rating           0\n",
              "Reviews                       0\n",
              "Current_Version_Score         0\n",
              "Current_Version_Reviews       0\n",
              "Size_in_Mb                  221\n",
              "dtype: int64"
            ]
          },
          "metadata": {},
          "execution_count": 46
        }
      ]
    },
    {
      "cell_type": "code",
      "source": [
        "df['Size_in_Mb'] = df['Size_in_Mb'].fillna(df['Size_in_Mb'].mean())"
      ],
      "metadata": {
        "id": "rNK-E9m2o4cG"
      },
      "execution_count": 47,
      "outputs": []
    },
    {
      "cell_type": "code",
      "source": [
        "df.isnull().sum()"
      ],
      "metadata": {
        "colab": {
          "base_uri": "https://localhost:8080/"
        },
        "id": "tf7IkMghpgwn",
        "outputId": "5fa9f336-9531-4d05-a4b6-7dcbe89375b5"
      },
      "execution_count": 48,
      "outputs": [
        {
          "output_type": "execute_result",
          "data": {
            "text/plain": [
              "App_Id                        0\n",
              "App_Name                      0\n",
              "AppStore_Url                  0\n",
              "Primary_Genre                 0\n",
              "Content_Rating                0\n",
              "Size_Bytes                    0\n",
              "Required_IOS_Version          0\n",
              "Released                      0\n",
              "Updated                       0\n",
              "Version                       0\n",
              "Price                         0\n",
              "Currency                      0\n",
              "Free                          0\n",
              "DeveloperId                   0\n",
              "Developer                     0\n",
              "Developer_Url              1109\n",
              "Average_User_Rating           0\n",
              "Reviews                       0\n",
              "Current_Version_Score         0\n",
              "Current_Version_Reviews       0\n",
              "Size_in_Mb                    0\n",
              "dtype: int64"
            ]
          },
          "metadata": {},
          "execution_count": 48
        }
      ]
    },
    {
      "cell_type": "markdown",
      "source": [
        "#### **We have successfully removed the missing values from the desired columns.**"
      ],
      "metadata": {
        "id": "VUvwquy2pmcO"
      }
    },
    {
      "cell_type": "markdown",
      "source": [
        "---\n",
        "# **Milestone 1 : We have cleaned the dataset from the null values except the ones we needed.**"
      ],
      "metadata": {
        "id": "oiRlGw4Qp37X"
      }
    },
    {
      "cell_type": "markdown",
      "source": [
        "---\n",
        "> Next, we will find any duplications that if there are any valid DUPLICATION."
      ],
      "metadata": {
        "id": "X9f5MyQ0qYnL"
      }
    },
    {
      "cell_type": "code",
      "source": [
        "df.duplicated().any()"
      ],
      "metadata": {
        "colab": {
          "base_uri": "https://localhost:8080/"
        },
        "id": "GdXj-3LOpj1i",
        "outputId": "fbd92d30-9032-41e9-eab2-1c9910d5e752"
      },
      "execution_count": 49,
      "outputs": [
        {
          "output_type": "execute_result",
          "data": {
            "text/plain": [
              "False"
            ]
          },
          "metadata": {},
          "execution_count": 49
        }
      ]
    },
    {
      "cell_type": "code",
      "source": [
        "df.columns"
      ],
      "metadata": {
        "colab": {
          "base_uri": "https://localhost:8080/"
        },
        "id": "gTWWX-klqwwH",
        "outputId": "6d6ca310-a7c2-4d7f-808a-a35ecc07be81"
      },
      "execution_count": 50,
      "outputs": [
        {
          "output_type": "execute_result",
          "data": {
            "text/plain": [
              "Index(['App_Id', 'App_Name', 'AppStore_Url', 'Primary_Genre', 'Content_Rating',\n",
              "       'Size_Bytes', 'Required_IOS_Version', 'Released', 'Updated', 'Version',\n",
              "       'Price', 'Currency', 'Free', 'DeveloperId', 'Developer',\n",
              "       'Developer_Url', 'Average_User_Rating', 'Reviews',\n",
              "       'Current_Version_Score', 'Current_Version_Reviews', 'Size_in_Mb'],\n",
              "      dtype='object')"
            ]
          },
          "metadata": {},
          "execution_count": 50
        }
      ]
    },
    {
      "cell_type": "markdown",
      "source": [
        "- Let's check in the column that if there are any duplicates in them."
      ],
      "metadata": {
        "id": "KApM7z7xrO8f"
      }
    },
    {
      "cell_type": "code",
      "source": [
        "app_name = df['App_Name'].duplicated().any()\n",
        "print(app_name)"
      ],
      "metadata": {
        "colab": {
          "base_uri": "https://localhost:8080/"
        },
        "id": "u3jPvvY7q4Hn",
        "outputId": "5f24d1af-2545-4b3e-a055-5646fcc867db"
      },
      "execution_count": 51,
      "outputs": [
        {
          "output_type": "stream",
          "name": "stdout",
          "text": [
            "True\n"
          ]
        }
      ]
    },
    {
      "cell_type": "markdown",
      "source": [
        ">Surely, there are alot of duplicated values in the `App_Name` column.\n",
        "- Which means **we can have the number of apps with the same name.**\n"
      ],
      "metadata": {
        "id": "wBoX5vfxs-OP"
      }
    },
    {
      "cell_type": "markdown",
      "source": [
        "### **Also, we have another very nice way to have a look at the duplicate values and their count also.**"
      ],
      "metadata": {
        "id": "ZcAzl4kxtZYL"
      }
    },
    {
      "cell_type": "code",
      "source": [
        "print(df['App_Name'].value_counts().sort_values(ascending = False).head(50))"
      ],
      "metadata": {
        "colab": {
          "base_uri": "https://localhost:8080/"
        },
        "id": "c_RQKEZZs5oP",
        "outputId": "e93298c0-dcc4-41ac-b04f-5dae31b46d36"
      },
      "execution_count": 52,
      "outputs": [
        {
          "output_type": "stream",
          "name": "stdout",
          "text": [
            "App_Name\n",
            "Vanguard              6\n",
            "Linker                5\n",
            "Bloom                 5\n",
            "Lume                  4\n",
            "Vibe                  4\n",
            "Momentum              4\n",
            "Delivery App          4\n",
            "E-Smart               4\n",
            "Flow                  4\n",
            "Onboard               4\n",
            "Bright                4\n",
            "Pizza Max             4\n",
            "Fresco                4\n",
            "KPS                   4\n",
            "Hub                   4\n",
            "Event Manager         4\n",
            "Atria                 4\n",
            "Simply                4\n",
            "Lynx                  4\n",
            "Atelier               4\n",
            "Lokal                 4\n",
            "SMA                   4\n",
            "Currency Converter    4\n",
            "Happy House           4\n",
            "Settle                4\n",
            "GPS Tracker           4\n",
            "AVS                   4\n",
            "Bingo                 4\n",
            "Donna                 4\n",
            "Sketch                4\n",
            "Awaken                4\n",
            "Light                 4\n",
            "PinApp                4\n",
            "Primavera             3\n",
            "Meteor                3\n",
            "Shopper               3\n",
            "Domus                 3\n",
            "SAT                   3\n",
            "OBS                   3\n",
            "Lexical               3\n",
            "Frankie               3\n",
            "Pizzaiolo             3\n",
            "Numerology            3\n",
            "Chilll                3\n",
            "Klang                 3\n",
            "Locanda               3\n",
            "Mondo                 3\n",
            "GoApp                 3\n",
            "Foodland              3\n",
            "MemberLink            3\n",
            "Name: count, dtype: int64\n"
          ]
        }
      ]
    },
    {
      "cell_type": "markdown",
      "source": [
        "### ***From the above cell output we can see that `App_Name` has multiple rows. Let's check ourself that whether the data is actually identical or not.***"
      ],
      "metadata": {
        "id": "v3SoT7_RvKL1"
      }
    },
    {
      "cell_type": "code",
      "source": [
        "df[df['App_Name'] == \"Linker\"]"
      ],
      "metadata": {
        "colab": {
          "base_uri": "https://localhost:8080/",
          "height": 382
        },
        "id": "3yukkhOmt1Gl",
        "outputId": "2d1f47e5-26ec-4592-de55-2506e7af21d0"
      },
      "execution_count": 53,
      "outputs": [
        {
          "output_type": "execute_result",
          "data": {
            "text/plain": [
              "                        App_Id App_Name  \\\n",
              "139096   com.cheerg.LinkerTest   Linker   \n",
              "462132           br.com.linker   Linker   \n",
              "745039      team.linker.linker   Linker   \n",
              "954862         com.kubo.Linker   Linker   \n",
              "1206501  com.tilon.elcloud.rdc   Linker   \n",
              "\n",
              "                                              AppStore_Url     Primary_Genre  \\\n",
              "139096   https://apps.apple.com/us/app/linker/id1208886...         Lifestyle   \n",
              "462132   https://apps.apple.com/us/app/linker/id1472621...           Finance   \n",
              "745039   https://apps.apple.com/us/app/linker/id1558364...  Health & Fitness   \n",
              "954862   https://apps.apple.com/us/app/linker/id1169163...            Travel   \n",
              "1206501  https://apps.apple.com/us/app/linker/id1215552...         Utilities   \n",
              "\n",
              "        Content_Rating   Size_Bytes Required_IOS_Version  \\\n",
              "139096               4   21876736.0                 10.0   \n",
              "462132               4  169309184.0                 12.0   \n",
              "745039               4   97497088.0                 10.0   \n",
              "954862               4   34196480.0                  7.0   \n",
              "1206501              4   58948209.0               10.6.6   \n",
              "\n",
              "                     Released               Updated Version  Price Currency  \\\n",
              "139096   2017-03-30T20:08:27Z  2018-06-14T20:39:23Z  1.0.14    0.0      USD   \n",
              "462132   2019-08-22T07:00:00Z  2021-10-01T16:08:21Z   2.0.3    0.0      USD   \n",
              "745039   2021-03-30T07:00:00Z  2021-08-23T11:16:44Z   1.0.7    0.0      USD   \n",
              "954862   2017-05-16T11:32:18Z  2017-10-10T01:56:27Z    39.2    0.0      USD   \n",
              "1206501  2017-05-30T19:54:25Z  2017-05-30T19:54:25Z   3.3.1    0.0      USD   \n",
              "\n",
              "         Free  DeveloperId                        Developer  \\\n",
              "139096   True   1208886054                Chun Hsiang Hsieh   \n",
              "462132   True   1472621726  BEMP SOLUCOES DE PAGAMENTO LTDA   \n",
              "745039   True   1558364892                       Linker ApS   \n",
              "954862   True    370982422      Kubo Mobile Applications SA   \n",
              "1206501  True    355652681                  TILON CO., LTD.   \n",
              "\n",
              "                                             Developer_Url  \\\n",
              "139096   https://apps.apple.com/us/developer/chun-hsian...   \n",
              "462132   https://apps.apple.com/us/developer/bemp-soluc...   \n",
              "745039   https://apps.apple.com/us/developer/linker-aps...   \n",
              "954862   https://apps.apple.com/us/developer/kubo-mobil...   \n",
              "1206501  https://apps.apple.com/us/developer/tilon-co-l...   \n",
              "\n",
              "         Average_User_Rating  Reviews  Current_Version_Score  \\\n",
              "139096                   0.0        0                    0.0   \n",
              "462132                   4.4        5                    4.4   \n",
              "745039                   0.0        0                    0.0   \n",
              "954862                   0.0        0                    0.0   \n",
              "1206501                  0.0        0                    0.0   \n",
              "\n",
              "         Current_Version_Reviews  Size_in_Mb  \n",
              "139096                         0   20.863281  \n",
              "462132                         5  161.465820  \n",
              "745039                         0   92.980469  \n",
              "954862                         0   32.612305  \n",
              "1206501                        0   56.217393  "
            ],
            "text/html": [
              "\n",
              "  <div id=\"df-5b0bdac0-079b-4078-b8f4-fc65410572ee\" class=\"colab-df-container\">\n",
              "    <div>\n",
              "<style scoped>\n",
              "    .dataframe tbody tr th:only-of-type {\n",
              "        vertical-align: middle;\n",
              "    }\n",
              "\n",
              "    .dataframe tbody tr th {\n",
              "        vertical-align: top;\n",
              "    }\n",
              "\n",
              "    .dataframe thead th {\n",
              "        text-align: right;\n",
              "    }\n",
              "</style>\n",
              "<table border=\"1\" class=\"dataframe\">\n",
              "  <thead>\n",
              "    <tr style=\"text-align: right;\">\n",
              "      <th></th>\n",
              "      <th>App_Id</th>\n",
              "      <th>App_Name</th>\n",
              "      <th>AppStore_Url</th>\n",
              "      <th>Primary_Genre</th>\n",
              "      <th>Content_Rating</th>\n",
              "      <th>Size_Bytes</th>\n",
              "      <th>Required_IOS_Version</th>\n",
              "      <th>Released</th>\n",
              "      <th>Updated</th>\n",
              "      <th>Version</th>\n",
              "      <th>Price</th>\n",
              "      <th>Currency</th>\n",
              "      <th>Free</th>\n",
              "      <th>DeveloperId</th>\n",
              "      <th>Developer</th>\n",
              "      <th>Developer_Url</th>\n",
              "      <th>Average_User_Rating</th>\n",
              "      <th>Reviews</th>\n",
              "      <th>Current_Version_Score</th>\n",
              "      <th>Current_Version_Reviews</th>\n",
              "      <th>Size_in_Mb</th>\n",
              "    </tr>\n",
              "  </thead>\n",
              "  <tbody>\n",
              "    <tr>\n",
              "      <th>139096</th>\n",
              "      <td>com.cheerg.LinkerTest</td>\n",
              "      <td>Linker</td>\n",
              "      <td>https://apps.apple.com/us/app/linker/id1208886...</td>\n",
              "      <td>Lifestyle</td>\n",
              "      <td>4</td>\n",
              "      <td>21876736.0</td>\n",
              "      <td>10.0</td>\n",
              "      <td>2017-03-30T20:08:27Z</td>\n",
              "      <td>2018-06-14T20:39:23Z</td>\n",
              "      <td>1.0.14</td>\n",
              "      <td>0.0</td>\n",
              "      <td>USD</td>\n",
              "      <td>True</td>\n",
              "      <td>1208886054</td>\n",
              "      <td>Chun Hsiang Hsieh</td>\n",
              "      <td>https://apps.apple.com/us/developer/chun-hsian...</td>\n",
              "      <td>0.0</td>\n",
              "      <td>0</td>\n",
              "      <td>0.0</td>\n",
              "      <td>0</td>\n",
              "      <td>20.863281</td>\n",
              "    </tr>\n",
              "    <tr>\n",
              "      <th>462132</th>\n",
              "      <td>br.com.linker</td>\n",
              "      <td>Linker</td>\n",
              "      <td>https://apps.apple.com/us/app/linker/id1472621...</td>\n",
              "      <td>Finance</td>\n",
              "      <td>4</td>\n",
              "      <td>169309184.0</td>\n",
              "      <td>12.0</td>\n",
              "      <td>2019-08-22T07:00:00Z</td>\n",
              "      <td>2021-10-01T16:08:21Z</td>\n",
              "      <td>2.0.3</td>\n",
              "      <td>0.0</td>\n",
              "      <td>USD</td>\n",
              "      <td>True</td>\n",
              "      <td>1472621726</td>\n",
              "      <td>BEMP SOLUCOES DE PAGAMENTO LTDA</td>\n",
              "      <td>https://apps.apple.com/us/developer/bemp-soluc...</td>\n",
              "      <td>4.4</td>\n",
              "      <td>5</td>\n",
              "      <td>4.4</td>\n",
              "      <td>5</td>\n",
              "      <td>161.465820</td>\n",
              "    </tr>\n",
              "    <tr>\n",
              "      <th>745039</th>\n",
              "      <td>team.linker.linker</td>\n",
              "      <td>Linker</td>\n",
              "      <td>https://apps.apple.com/us/app/linker/id1558364...</td>\n",
              "      <td>Health &amp; Fitness</td>\n",
              "      <td>4</td>\n",
              "      <td>97497088.0</td>\n",
              "      <td>10.0</td>\n",
              "      <td>2021-03-30T07:00:00Z</td>\n",
              "      <td>2021-08-23T11:16:44Z</td>\n",
              "      <td>1.0.7</td>\n",
              "      <td>0.0</td>\n",
              "      <td>USD</td>\n",
              "      <td>True</td>\n",
              "      <td>1558364892</td>\n",
              "      <td>Linker ApS</td>\n",
              "      <td>https://apps.apple.com/us/developer/linker-aps...</td>\n",
              "      <td>0.0</td>\n",
              "      <td>0</td>\n",
              "      <td>0.0</td>\n",
              "      <td>0</td>\n",
              "      <td>92.980469</td>\n",
              "    </tr>\n",
              "    <tr>\n",
              "      <th>954862</th>\n",
              "      <td>com.kubo.Linker</td>\n",
              "      <td>Linker</td>\n",
              "      <td>https://apps.apple.com/us/app/linker/id1169163...</td>\n",
              "      <td>Travel</td>\n",
              "      <td>4</td>\n",
              "      <td>34196480.0</td>\n",
              "      <td>7.0</td>\n",
              "      <td>2017-05-16T11:32:18Z</td>\n",
              "      <td>2017-10-10T01:56:27Z</td>\n",
              "      <td>39.2</td>\n",
              "      <td>0.0</td>\n",
              "      <td>USD</td>\n",
              "      <td>True</td>\n",
              "      <td>370982422</td>\n",
              "      <td>Kubo Mobile Applications SA</td>\n",
              "      <td>https://apps.apple.com/us/developer/kubo-mobil...</td>\n",
              "      <td>0.0</td>\n",
              "      <td>0</td>\n",
              "      <td>0.0</td>\n",
              "      <td>0</td>\n",
              "      <td>32.612305</td>\n",
              "    </tr>\n",
              "    <tr>\n",
              "      <th>1206501</th>\n",
              "      <td>com.tilon.elcloud.rdc</td>\n",
              "      <td>Linker</td>\n",
              "      <td>https://apps.apple.com/us/app/linker/id1215552...</td>\n",
              "      <td>Utilities</td>\n",
              "      <td>4</td>\n",
              "      <td>58948209.0</td>\n",
              "      <td>10.6.6</td>\n",
              "      <td>2017-05-30T19:54:25Z</td>\n",
              "      <td>2017-05-30T19:54:25Z</td>\n",
              "      <td>3.3.1</td>\n",
              "      <td>0.0</td>\n",
              "      <td>USD</td>\n",
              "      <td>True</td>\n",
              "      <td>355652681</td>\n",
              "      <td>TILON CO., LTD.</td>\n",
              "      <td>https://apps.apple.com/us/developer/tilon-co-l...</td>\n",
              "      <td>0.0</td>\n",
              "      <td>0</td>\n",
              "      <td>0.0</td>\n",
              "      <td>0</td>\n",
              "      <td>56.217393</td>\n",
              "    </tr>\n",
              "  </tbody>\n",
              "</table>\n",
              "</div>\n",
              "    <div class=\"colab-df-buttons\">\n",
              "\n",
              "  <div class=\"colab-df-container\">\n",
              "    <button class=\"colab-df-convert\" onclick=\"convertToInteractive('df-5b0bdac0-079b-4078-b8f4-fc65410572ee')\"\n",
              "            title=\"Convert this dataframe to an interactive table.\"\n",
              "            style=\"display:none;\">\n",
              "\n",
              "  <svg xmlns=\"http://www.w3.org/2000/svg\" height=\"24px\" viewBox=\"0 -960 960 960\">\n",
              "    <path d=\"M120-120v-720h720v720H120Zm60-500h600v-160H180v160Zm220 220h160v-160H400v160Zm0 220h160v-160H400v160ZM180-400h160v-160H180v160Zm440 0h160v-160H620v160ZM180-180h160v-160H180v160Zm440 0h160v-160H620v160Z\"/>\n",
              "  </svg>\n",
              "    </button>\n",
              "\n",
              "  <style>\n",
              "    .colab-df-container {\n",
              "      display:flex;\n",
              "      gap: 12px;\n",
              "    }\n",
              "\n",
              "    .colab-df-convert {\n",
              "      background-color: #E8F0FE;\n",
              "      border: none;\n",
              "      border-radius: 50%;\n",
              "      cursor: pointer;\n",
              "      display: none;\n",
              "      fill: #1967D2;\n",
              "      height: 32px;\n",
              "      padding: 0 0 0 0;\n",
              "      width: 32px;\n",
              "    }\n",
              "\n",
              "    .colab-df-convert:hover {\n",
              "      background-color: #E2EBFA;\n",
              "      box-shadow: 0px 1px 2px rgba(60, 64, 67, 0.3), 0px 1px 3px 1px rgba(60, 64, 67, 0.15);\n",
              "      fill: #174EA6;\n",
              "    }\n",
              "\n",
              "    .colab-df-buttons div {\n",
              "      margin-bottom: 4px;\n",
              "    }\n",
              "\n",
              "    [theme=dark] .colab-df-convert {\n",
              "      background-color: #3B4455;\n",
              "      fill: #D2E3FC;\n",
              "    }\n",
              "\n",
              "    [theme=dark] .colab-df-convert:hover {\n",
              "      background-color: #434B5C;\n",
              "      box-shadow: 0px 1px 3px 1px rgba(0, 0, 0, 0.15);\n",
              "      filter: drop-shadow(0px 1px 2px rgba(0, 0, 0, 0.3));\n",
              "      fill: #FFFFFF;\n",
              "    }\n",
              "  </style>\n",
              "\n",
              "    <script>\n",
              "      const buttonEl =\n",
              "        document.querySelector('#df-5b0bdac0-079b-4078-b8f4-fc65410572ee button.colab-df-convert');\n",
              "      buttonEl.style.display =\n",
              "        google.colab.kernel.accessAllowed ? 'block' : 'none';\n",
              "\n",
              "      async function convertToInteractive(key) {\n",
              "        const element = document.querySelector('#df-5b0bdac0-079b-4078-b8f4-fc65410572ee');\n",
              "        const dataTable =\n",
              "          await google.colab.kernel.invokeFunction('convertToInteractive',\n",
              "                                                    [key], {});\n",
              "        if (!dataTable) return;\n",
              "\n",
              "        const docLinkHtml = 'Like what you see? Visit the ' +\n",
              "          '<a target=\"_blank\" href=https://colab.research.google.com/notebooks/data_table.ipynb>data table notebook</a>'\n",
              "          + ' to learn more about interactive tables.';\n",
              "        element.innerHTML = '';\n",
              "        dataTable['output_type'] = 'display_data';\n",
              "        await google.colab.output.renderOutput(dataTable, element);\n",
              "        const docLink = document.createElement('div');\n",
              "        docLink.innerHTML = docLinkHtml;\n",
              "        element.appendChild(docLink);\n",
              "      }\n",
              "    </script>\n",
              "  </div>\n",
              "\n",
              "\n",
              "<div id=\"df-24c4192a-c0d8-4e9f-81f9-6fcce00c64fa\">\n",
              "  <button class=\"colab-df-quickchart\" onclick=\"quickchart('df-24c4192a-c0d8-4e9f-81f9-6fcce00c64fa')\"\n",
              "            title=\"Suggest charts\"\n",
              "            style=\"display:none;\">\n",
              "\n",
              "<svg xmlns=\"http://www.w3.org/2000/svg\" height=\"24px\"viewBox=\"0 0 24 24\"\n",
              "     width=\"24px\">\n",
              "    <g>\n",
              "        <path d=\"M19 3H5c-1.1 0-2 .9-2 2v14c0 1.1.9 2 2 2h14c1.1 0 2-.9 2-2V5c0-1.1-.9-2-2-2zM9 17H7v-7h2v7zm4 0h-2V7h2v10zm4 0h-2v-4h2v4z\"/>\n",
              "    </g>\n",
              "</svg>\n",
              "  </button>\n",
              "\n",
              "<style>\n",
              "  .colab-df-quickchart {\n",
              "      --bg-color: #E8F0FE;\n",
              "      --fill-color: #1967D2;\n",
              "      --hover-bg-color: #E2EBFA;\n",
              "      --hover-fill-color: #174EA6;\n",
              "      --disabled-fill-color: #AAA;\n",
              "      --disabled-bg-color: #DDD;\n",
              "  }\n",
              "\n",
              "  [theme=dark] .colab-df-quickchart {\n",
              "      --bg-color: #3B4455;\n",
              "      --fill-color: #D2E3FC;\n",
              "      --hover-bg-color: #434B5C;\n",
              "      --hover-fill-color: #FFFFFF;\n",
              "      --disabled-bg-color: #3B4455;\n",
              "      --disabled-fill-color: #666;\n",
              "  }\n",
              "\n",
              "  .colab-df-quickchart {\n",
              "    background-color: var(--bg-color);\n",
              "    border: none;\n",
              "    border-radius: 50%;\n",
              "    cursor: pointer;\n",
              "    display: none;\n",
              "    fill: var(--fill-color);\n",
              "    height: 32px;\n",
              "    padding: 0;\n",
              "    width: 32px;\n",
              "  }\n",
              "\n",
              "  .colab-df-quickchart:hover {\n",
              "    background-color: var(--hover-bg-color);\n",
              "    box-shadow: 0 1px 2px rgba(60, 64, 67, 0.3), 0 1px 3px 1px rgba(60, 64, 67, 0.15);\n",
              "    fill: var(--button-hover-fill-color);\n",
              "  }\n",
              "\n",
              "  .colab-df-quickchart-complete:disabled,\n",
              "  .colab-df-quickchart-complete:disabled:hover {\n",
              "    background-color: var(--disabled-bg-color);\n",
              "    fill: var(--disabled-fill-color);\n",
              "    box-shadow: none;\n",
              "  }\n",
              "\n",
              "  .colab-df-spinner {\n",
              "    border: 2px solid var(--fill-color);\n",
              "    border-color: transparent;\n",
              "    border-bottom-color: var(--fill-color);\n",
              "    animation:\n",
              "      spin 1s steps(1) infinite;\n",
              "  }\n",
              "\n",
              "  @keyframes spin {\n",
              "    0% {\n",
              "      border-color: transparent;\n",
              "      border-bottom-color: var(--fill-color);\n",
              "      border-left-color: var(--fill-color);\n",
              "    }\n",
              "    20% {\n",
              "      border-color: transparent;\n",
              "      border-left-color: var(--fill-color);\n",
              "      border-top-color: var(--fill-color);\n",
              "    }\n",
              "    30% {\n",
              "      border-color: transparent;\n",
              "      border-left-color: var(--fill-color);\n",
              "      border-top-color: var(--fill-color);\n",
              "      border-right-color: var(--fill-color);\n",
              "    }\n",
              "    40% {\n",
              "      border-color: transparent;\n",
              "      border-right-color: var(--fill-color);\n",
              "      border-top-color: var(--fill-color);\n",
              "    }\n",
              "    60% {\n",
              "      border-color: transparent;\n",
              "      border-right-color: var(--fill-color);\n",
              "    }\n",
              "    80% {\n",
              "      border-color: transparent;\n",
              "      border-right-color: var(--fill-color);\n",
              "      border-bottom-color: var(--fill-color);\n",
              "    }\n",
              "    90% {\n",
              "      border-color: transparent;\n",
              "      border-bottom-color: var(--fill-color);\n",
              "    }\n",
              "  }\n",
              "</style>\n",
              "\n",
              "  <script>\n",
              "    async function quickchart(key) {\n",
              "      const quickchartButtonEl =\n",
              "        document.querySelector('#' + key + ' button');\n",
              "      quickchartButtonEl.disabled = true;  // To prevent multiple clicks.\n",
              "      quickchartButtonEl.classList.add('colab-df-spinner');\n",
              "      try {\n",
              "        const charts = await google.colab.kernel.invokeFunction(\n",
              "            'suggestCharts', [key], {});\n",
              "      } catch (error) {\n",
              "        console.error('Error during call to suggestCharts:', error);\n",
              "      }\n",
              "      quickchartButtonEl.classList.remove('colab-df-spinner');\n",
              "      quickchartButtonEl.classList.add('colab-df-quickchart-complete');\n",
              "    }\n",
              "    (() => {\n",
              "      let quickchartButtonEl =\n",
              "        document.querySelector('#df-24c4192a-c0d8-4e9f-81f9-6fcce00c64fa button');\n",
              "      quickchartButtonEl.style.display =\n",
              "        google.colab.kernel.accessAllowed ? 'block' : 'none';\n",
              "    })();\n",
              "  </script>\n",
              "</div>\n",
              "\n",
              "    </div>\n",
              "  </div>\n"
            ],
            "application/vnd.google.colaboratory.intrinsic+json": {
              "type": "dataframe"
            }
          },
          "metadata": {},
          "execution_count": 53
        }
      ]
    },
    {
      "cell_type": "markdown",
      "source": [
        "## **MileStone 2 No duplicates have been found.**\n",
        "> Although app_name has many duplications but, there are different in theirversions, app_id, release_date and many things.\n"
      ],
      "metadata": {
        "id": "xjA77kQewPZg"
      }
    },
    {
      "cell_type": "markdown",
      "source": [
        "---\n",
        "### **It's time explore the numeric column in the dataset named as :**\n",
        "Size_Bytes , Developr_Id , Average_User_Rating, Reviews , Current_Version_Score, Current_Version_Reviews."
      ],
      "metadata": {
        "id": "tdG2-3Xt-hIX"
      }
    },
    {
      "cell_type": "code",
      "source": [
        "df['Size_Bytes'].unique()"
      ],
      "metadata": {
        "id": "d6UVkV95v44j",
        "colab": {
          "base_uri": "https://localhost:8080/"
        },
        "outputId": "437a2eb5-2ae9-442e-d338-88cc180d3de4"
      },
      "execution_count": 54,
      "outputs": [
        {
          "output_type": "execute_result",
          "data": {
            "text/plain": [
              "array([2.19934720e+07, 1.31358720e+07, 2.19432960e+07, ...,\n",
              "       1.19404544e+08, 5.96570000e+05, 5.06896000e+05])"
            ]
          },
          "metadata": {},
          "execution_count": 54
        }
      ]
    },
    {
      "cell_type": "code",
      "source": [
        "df['Average_User_Rating'].unique()"
      ],
      "metadata": {
        "colab": {
          "base_uri": "https://localhost:8080/"
        },
        "id": "aBzTbMpM_DRV",
        "outputId": "b1e2fb0e-c164-492f-90b7-00e82042242c"
      },
      "execution_count": 55,
      "outputs": [
        {
          "output_type": "execute_result",
          "data": {
            "text/plain": [
              "array([0.     , 5.     , 4.78132, ..., 4.00352, 3.91608, 4.82733])"
            ]
          },
          "metadata": {},
          "execution_count": 55
        }
      ]
    },
    {
      "cell_type": "code",
      "source": [
        "df['DeveloperId'].unique()"
      ],
      "metadata": {
        "colab": {
          "base_uri": "https://localhost:8080/"
        },
        "id": "vvE4gPSK_OBb",
        "outputId": "bd9e852d-acde-4af4-e07a-d35202e07972"
      },
      "execution_count": 56,
      "outputs": [
        {
          "output_type": "execute_result",
          "data": {
            "text/plain": [
              "array([1375410542, 1031572001, 1457024163, ..., 1532733861, 1522287989,\n",
              "       1438594214])"
            ]
          },
          "metadata": {},
          "execution_count": 56
        }
      ]
    },
    {
      "cell_type": "code",
      "source": [
        "df[\"Price\"].unique()"
      ],
      "metadata": {
        "colab": {
          "base_uri": "https://localhost:8080/"
        },
        "id": "hF0z8wsa_RZn",
        "outputId": "c21c743f-3402-4854-e035-c4b08dc32126"
      },
      "execution_count": 57,
      "outputs": [
        {
          "output_type": "execute_result",
          "data": {
            "text/plain": [
              "array([0.00000000e+00, 2.99000000e+00, 1.99000000e+00, 9.90000000e-01,\n",
              "       4.99000000e+00, 9.99000000e+00, 5.99000000e+00, 6.99000000e+00,\n",
              "       1.69900000e+01, 1.99900000e+01, 3.99900000e+01, 5.99900000e+01,\n",
              "       8.99000000e+00, 7.99000000e+00, 1.89900000e+01, 3.99000000e+00,\n",
              "       2.49900000e+01, 1.49900000e+01, 2.89900000e+01, 2.19900000e+01,\n",
              "       1.39900000e+01, 1.09900000e+01, 1.19900000e+01, 1.29990000e+02,\n",
              "       2.29900000e+01, 1.39990000e+02, 2.59900000e+01, 1.29900000e+01,\n",
              "       4.99900000e+01, 2.39900000e+01, 1.19990000e+02, 7.99900000e+01,\n",
              "       1.79900000e+01, 4.99990000e+02, 2.49990000e+02, 1.99990000e+02,\n",
              "       2.29990000e+02, 3.49900000e+01, 2.09900000e+01, 9.99900000e+01,\n",
              "       3.39900000e+01, 5.49900000e+01, 4.59900000e+01, 4.49900000e+01,\n",
              "       2.99900000e+01, 6.99900000e+01, 2.79900000e+01, 8.49900000e+01,\n",
              "       6.49900000e+01, 1.59900000e+01, 2.69900000e+01, 3.59900000e+01,\n",
              "       4.09900000e+01, 1.74990000e+02, 1.49990000e+02, 9.49900000e+01,\n",
              "       7.49900000e+01, 3.49990000e+02, 4.89900000e+01, 1.09990000e+02,\n",
              "       3.89900000e+01, 3.19900000e+01, 3.69900000e+01, 8.99900000e+01,\n",
              "       1.69990000e+02, 1.24990000e+02, 5.04126382e-01, 3.99990000e+02,\n",
              "       2.19990000e+02, 4.39900000e+01, 6.99990000e+02, 4.29900000e+01,\n",
              "       3.79900000e+01, 2.99990000e+02, 4.49990000e+02, 1.59990000e+02,\n",
              "       4.19900000e+01, 3.29900000e+01, 3.09900000e+01, 7.99990000e+02,\n",
              "       9.99990000e+02, 4.79900000e+01, 1.79990000e+02, 2.09990000e+02,\n",
              "       2.39990000e+02, 5.99990000e+02, 4.69900000e+01, 8.99990000e+02,\n",
              "       1.89990000e+02])"
            ]
          },
          "metadata": {},
          "execution_count": 57
        }
      ]
    },
    {
      "cell_type": "code",
      "source": [
        "df['Average_User_Rating'].unique()"
      ],
      "metadata": {
        "colab": {
          "base_uri": "https://localhost:8080/"
        },
        "id": "EuiHOgXr_h6H",
        "outputId": "89faf3a0-09a0-42f3-c868-d41626c4a53e"
      },
      "execution_count": 58,
      "outputs": [
        {
          "output_type": "execute_result",
          "data": {
            "text/plain": [
              "array([0.     , 5.     , 4.78132, ..., 4.00352, 3.91608, 4.82733])"
            ]
          },
          "metadata": {},
          "execution_count": 58
        }
      ]
    },
    {
      "cell_type": "code",
      "source": [
        "df[\"Reviews\"].unique()"
      ],
      "metadata": {
        "colab": {
          "base_uri": "https://localhost:8080/"
        },
        "id": "1zoCIrn2_oCj",
        "outputId": "c89de97e-3b6d-4c06-e057-f69910a6322c"
      },
      "execution_count": 59,
      "outputs": [
        {
          "output_type": "execute_result",
          "data": {
            "text/plain": [
              "array([    0,     1,  1285, ..., 12691, 35476, 10481])"
            ]
          },
          "metadata": {},
          "execution_count": 59
        }
      ]
    },
    {
      "cell_type": "code",
      "source": [
        "df['Current_Version_Score'].unique()"
      ],
      "metadata": {
        "colab": {
          "base_uri": "https://localhost:8080/"
        },
        "id": "vG_TcjtX_tag",
        "outputId": "1ab9f805-6272-4450-c0a4-678cce67a6ce"
      },
      "execution_count": 60,
      "outputs": [
        {
          "output_type": "execute_result",
          "data": {
            "text/plain": [
              "array([0.     , 5.     , 4.78132, ..., 4.00352, 3.91608, 4.82733])"
            ]
          },
          "metadata": {},
          "execution_count": 60
        }
      ]
    },
    {
      "cell_type": "code",
      "source": [
        "df['Currency'].unique()"
      ],
      "metadata": {
        "colab": {
          "base_uri": "https://localhost:8080/"
        },
        "id": "7zS-AfT8_yo0",
        "outputId": "3b48d0b5-48aa-4e4a-b105-9bf487dc0f80"
      },
      "execution_count": 61,
      "outputs": [
        {
          "output_type": "execute_result",
          "data": {
            "text/plain": [
              "array(['USD'], dtype=object)"
            ]
          },
          "metadata": {},
          "execution_count": 61
        }
      ]
    },
    {
      "cell_type": "markdown",
      "source": [
        "> THe currency is standard US dollar in the whole dataset."
      ],
      "metadata": {
        "id": "6ufLCQFDAJdO"
      }
    },
    {
      "cell_type": "code",
      "source": [
        "df.Average_User_Rating.describe()"
      ],
      "metadata": {
        "colab": {
          "base_uri": "https://localhost:8080/"
        },
        "id": "OxoHCGmY_26K",
        "outputId": "e0e334c6-98a1-4566-cca7-8ffc9e5dee3f"
      },
      "execution_count": 62,
      "outputs": [
        {
          "output_type": "execute_result",
          "data": {
            "text/plain": [
              "count    1.230372e+06\n",
              "mean     1.788388e+00\n",
              "std      2.154105e+00\n",
              "min      0.000000e+00\n",
              "25%      0.000000e+00\n",
              "50%      0.000000e+00\n",
              "75%      4.333330e+00\n",
              "max      5.000000e+00\n",
              "Name: Average_User_Rating, dtype: float64"
            ]
          },
          "metadata": {},
          "execution_count": 62
        }
      ]
    },
    {
      "cell_type": "markdown",
      "source": [
        "### **Converting the values into Free and paid from true to false.**"
      ],
      "metadata": {
        "id": "lf0Ldb3CC_1h"
      }
    },
    {
      "cell_type": "markdown",
      "source": [
        "#### **`Free` colulmn has the values in the boolean type like `true` for the free apps and false for the paid apps.**\n",
        "- We will convert them into `Free` and `Paid` form."
      ],
      "metadata": {
        "id": "6l9jkcXdCccA"
      }
    },
    {
      "cell_type": "code",
      "source": [
        "df['Free'] = df['Free'].astype('O')"
      ],
      "metadata": {
        "id": "rRUe4cH4BLJh"
      },
      "execution_count": 63,
      "outputs": []
    },
    {
      "cell_type": "code",
      "source": [
        "df['Free'] = df['Free'].apply( lambda x : str(x))"
      ],
      "metadata": {
        "id": "hzVvR7zxB1hE"
      },
      "execution_count": 64,
      "outputs": []
    },
    {
      "cell_type": "code",
      "source": [
        "df['Free'].unique()"
      ],
      "metadata": {
        "colab": {
          "base_uri": "https://localhost:8080/"
        },
        "id": "f8XWxlktBIbn",
        "outputId": "c1f6f6d0-d86b-4e79-9026-b12259b24492"
      },
      "execution_count": 65,
      "outputs": [
        {
          "output_type": "execute_result",
          "data": {
            "text/plain": [
              "array(['True', 'False'], dtype=object)"
            ]
          },
          "metadata": {},
          "execution_count": 65
        }
      ]
    },
    {
      "cell_type": "code",
      "source": [
        "df['Free'] = df['Free'].apply( lambda x : x.replace(\"1\" , \"Free\") if \"1\" in str(x) else x)"
      ],
      "metadata": {
        "id": "R9HkRr9tB_Tx"
      },
      "execution_count": 66,
      "outputs": []
    },
    {
      "cell_type": "code",
      "source": [
        "df['Free'] = df['Free'].apply( lambda x : x.replace(\"0\" , \"Paid\") if \"0\" in str(x) else x)"
      ],
      "metadata": {
        "id": "yMB3MBfJCIan"
      },
      "execution_count": 67,
      "outputs": []
    },
    {
      "cell_type": "code",
      "source": [
        "df.head()"
      ],
      "metadata": {
        "colab": {
          "base_uri": "https://localhost:8080/",
          "height": 330
        },
        "id": "ZXJlW5AqBby4",
        "outputId": "2d45c3ce-1b34-431b-96b6-c8b20d6909c1"
      },
      "execution_count": 68,
      "outputs": [
        {
          "output_type": "execute_result",
          "data": {
            "text/plain": [
              "                             App_Id                 App_Name  \\\n",
              "0               com.hkbu.arc.apaper           A+ Paper Guide   \n",
              "1               com.dmitriev.abooks                  A-Books   \n",
              "2                    no.terp.abooks                  A-books   \n",
              "3          fr.antoinettefleur.Book1              A-F Book #1   \n",
              "4  com.imonstersoft.azdictionaryios  A-Z Synonyms Dictionary   \n",
              "\n",
              "                                        AppStore_Url Primary_Genre  \\\n",
              "0  https://apps.apple.com/us/app/a-paper-guide/id...     Education   \n",
              "1  https://apps.apple.com/us/app/a-books/id103157...          Book   \n",
              "2  https://apps.apple.com/us/app/a-books/id145702...          Book   \n",
              "3  https://apps.apple.com/us/app/a-f-book-1/id500...          Book   \n",
              "4  https://apps.apple.com/us/app/a-z-synonyms-dic...     Reference   \n",
              "\n",
              "  Content_Rating  Size_Bytes Required_IOS_Version              Released  \\\n",
              "0              4  21993472.0                  8.0  2017-09-28T03:02:41Z   \n",
              "1              4  13135872.0                 10.0  2015-08-31T19:31:32Z   \n",
              "2              4  21943296.0                  9.0  2021-04-14T07:00:00Z   \n",
              "3              4  81851392.0                  8.0  2012-02-10T03:40:07Z   \n",
              "4              4  64692224.0                  9.0  2020-12-16T08:00:00Z   \n",
              "\n",
              "                Updated Version  Price Currency   Free  DeveloperId  \\\n",
              "0  2018-12-21T21:30:36Z   1.1.2   0.00      USD   True   1375410542   \n",
              "1  2019-07-23T20:31:09Z     1.3   0.00      USD   True   1031572001   \n",
              "2  2021-05-30T21:08:54Z   1.3.1   0.00      USD   True   1457024163   \n",
              "3  2019-10-29T12:40:37Z     1.2   2.99      USD  False    439568839   \n",
              "4  2020-12-18T21:36:11Z   1.0.1   0.00      USD   True    656731821   \n",
              "\n",
              "        Developer                                      Developer_Url  \\\n",
              "0        HKBU ARC  https://apps.apple.com/us/developer/hkbu-arc/i...   \n",
              "1  Roman Dmitriev  https://apps.apple.com/us/developer/roman-dmit...   \n",
              "2         Terp AS  https://apps.apple.com/us/developer/terp-as/id...   \n",
              "3   i-editeur.com  https://apps.apple.com/us/developer/i-editeur-...   \n",
              "4   Ngov chiheang  https://apps.apple.com/us/developer/ngov-chihe...   \n",
              "\n",
              "   Average_User_Rating  Reviews  Current_Version_Score  \\\n",
              "0                  0.0        0                    0.0   \n",
              "1                  5.0        1                    5.0   \n",
              "2                  0.0        0                    0.0   \n",
              "3                  0.0        0                    0.0   \n",
              "4                  0.0        0                    0.0   \n",
              "\n",
              "   Current_Version_Reviews  Size_in_Mb  \n",
              "0                        0   20.974609  \n",
              "1                        1   12.527344  \n",
              "2                        0   20.926758  \n",
              "3                        0   78.059570  \n",
              "4                        0   61.695312  "
            ],
            "text/html": [
              "\n",
              "  <div id=\"df-29c04caa-8075-4a33-bf14-1293b46dce03\" class=\"colab-df-container\">\n",
              "    <div>\n",
              "<style scoped>\n",
              "    .dataframe tbody tr th:only-of-type {\n",
              "        vertical-align: middle;\n",
              "    }\n",
              "\n",
              "    .dataframe tbody tr th {\n",
              "        vertical-align: top;\n",
              "    }\n",
              "\n",
              "    .dataframe thead th {\n",
              "        text-align: right;\n",
              "    }\n",
              "</style>\n",
              "<table border=\"1\" class=\"dataframe\">\n",
              "  <thead>\n",
              "    <tr style=\"text-align: right;\">\n",
              "      <th></th>\n",
              "      <th>App_Id</th>\n",
              "      <th>App_Name</th>\n",
              "      <th>AppStore_Url</th>\n",
              "      <th>Primary_Genre</th>\n",
              "      <th>Content_Rating</th>\n",
              "      <th>Size_Bytes</th>\n",
              "      <th>Required_IOS_Version</th>\n",
              "      <th>Released</th>\n",
              "      <th>Updated</th>\n",
              "      <th>Version</th>\n",
              "      <th>Price</th>\n",
              "      <th>Currency</th>\n",
              "      <th>Free</th>\n",
              "      <th>DeveloperId</th>\n",
              "      <th>Developer</th>\n",
              "      <th>Developer_Url</th>\n",
              "      <th>Average_User_Rating</th>\n",
              "      <th>Reviews</th>\n",
              "      <th>Current_Version_Score</th>\n",
              "      <th>Current_Version_Reviews</th>\n",
              "      <th>Size_in_Mb</th>\n",
              "    </tr>\n",
              "  </thead>\n",
              "  <tbody>\n",
              "    <tr>\n",
              "      <th>0</th>\n",
              "      <td>com.hkbu.arc.apaper</td>\n",
              "      <td>A+ Paper Guide</td>\n",
              "      <td>https://apps.apple.com/us/app/a-paper-guide/id...</td>\n",
              "      <td>Education</td>\n",
              "      <td>4</td>\n",
              "      <td>21993472.0</td>\n",
              "      <td>8.0</td>\n",
              "      <td>2017-09-28T03:02:41Z</td>\n",
              "      <td>2018-12-21T21:30:36Z</td>\n",
              "      <td>1.1.2</td>\n",
              "      <td>0.00</td>\n",
              "      <td>USD</td>\n",
              "      <td>True</td>\n",
              "      <td>1375410542</td>\n",
              "      <td>HKBU ARC</td>\n",
              "      <td>https://apps.apple.com/us/developer/hkbu-arc/i...</td>\n",
              "      <td>0.0</td>\n",
              "      <td>0</td>\n",
              "      <td>0.0</td>\n",
              "      <td>0</td>\n",
              "      <td>20.974609</td>\n",
              "    </tr>\n",
              "    <tr>\n",
              "      <th>1</th>\n",
              "      <td>com.dmitriev.abooks</td>\n",
              "      <td>A-Books</td>\n",
              "      <td>https://apps.apple.com/us/app/a-books/id103157...</td>\n",
              "      <td>Book</td>\n",
              "      <td>4</td>\n",
              "      <td>13135872.0</td>\n",
              "      <td>10.0</td>\n",
              "      <td>2015-08-31T19:31:32Z</td>\n",
              "      <td>2019-07-23T20:31:09Z</td>\n",
              "      <td>1.3</td>\n",
              "      <td>0.00</td>\n",
              "      <td>USD</td>\n",
              "      <td>True</td>\n",
              "      <td>1031572001</td>\n",
              "      <td>Roman Dmitriev</td>\n",
              "      <td>https://apps.apple.com/us/developer/roman-dmit...</td>\n",
              "      <td>5.0</td>\n",
              "      <td>1</td>\n",
              "      <td>5.0</td>\n",
              "      <td>1</td>\n",
              "      <td>12.527344</td>\n",
              "    </tr>\n",
              "    <tr>\n",
              "      <th>2</th>\n",
              "      <td>no.terp.abooks</td>\n",
              "      <td>A-books</td>\n",
              "      <td>https://apps.apple.com/us/app/a-books/id145702...</td>\n",
              "      <td>Book</td>\n",
              "      <td>4</td>\n",
              "      <td>21943296.0</td>\n",
              "      <td>9.0</td>\n",
              "      <td>2021-04-14T07:00:00Z</td>\n",
              "      <td>2021-05-30T21:08:54Z</td>\n",
              "      <td>1.3.1</td>\n",
              "      <td>0.00</td>\n",
              "      <td>USD</td>\n",
              "      <td>True</td>\n",
              "      <td>1457024163</td>\n",
              "      <td>Terp AS</td>\n",
              "      <td>https://apps.apple.com/us/developer/terp-as/id...</td>\n",
              "      <td>0.0</td>\n",
              "      <td>0</td>\n",
              "      <td>0.0</td>\n",
              "      <td>0</td>\n",
              "      <td>20.926758</td>\n",
              "    </tr>\n",
              "    <tr>\n",
              "      <th>3</th>\n",
              "      <td>fr.antoinettefleur.Book1</td>\n",
              "      <td>A-F Book #1</td>\n",
              "      <td>https://apps.apple.com/us/app/a-f-book-1/id500...</td>\n",
              "      <td>Book</td>\n",
              "      <td>4</td>\n",
              "      <td>81851392.0</td>\n",
              "      <td>8.0</td>\n",
              "      <td>2012-02-10T03:40:07Z</td>\n",
              "      <td>2019-10-29T12:40:37Z</td>\n",
              "      <td>1.2</td>\n",
              "      <td>2.99</td>\n",
              "      <td>USD</td>\n",
              "      <td>False</td>\n",
              "      <td>439568839</td>\n",
              "      <td>i-editeur.com</td>\n",
              "      <td>https://apps.apple.com/us/developer/i-editeur-...</td>\n",
              "      <td>0.0</td>\n",
              "      <td>0</td>\n",
              "      <td>0.0</td>\n",
              "      <td>0</td>\n",
              "      <td>78.059570</td>\n",
              "    </tr>\n",
              "    <tr>\n",
              "      <th>4</th>\n",
              "      <td>com.imonstersoft.azdictionaryios</td>\n",
              "      <td>A-Z Synonyms Dictionary</td>\n",
              "      <td>https://apps.apple.com/us/app/a-z-synonyms-dic...</td>\n",
              "      <td>Reference</td>\n",
              "      <td>4</td>\n",
              "      <td>64692224.0</td>\n",
              "      <td>9.0</td>\n",
              "      <td>2020-12-16T08:00:00Z</td>\n",
              "      <td>2020-12-18T21:36:11Z</td>\n",
              "      <td>1.0.1</td>\n",
              "      <td>0.00</td>\n",
              "      <td>USD</td>\n",
              "      <td>True</td>\n",
              "      <td>656731821</td>\n",
              "      <td>Ngov chiheang</td>\n",
              "      <td>https://apps.apple.com/us/developer/ngov-chihe...</td>\n",
              "      <td>0.0</td>\n",
              "      <td>0</td>\n",
              "      <td>0.0</td>\n",
              "      <td>0</td>\n",
              "      <td>61.695312</td>\n",
              "    </tr>\n",
              "  </tbody>\n",
              "</table>\n",
              "</div>\n",
              "    <div class=\"colab-df-buttons\">\n",
              "\n",
              "  <div class=\"colab-df-container\">\n",
              "    <button class=\"colab-df-convert\" onclick=\"convertToInteractive('df-29c04caa-8075-4a33-bf14-1293b46dce03')\"\n",
              "            title=\"Convert this dataframe to an interactive table.\"\n",
              "            style=\"display:none;\">\n",
              "\n",
              "  <svg xmlns=\"http://www.w3.org/2000/svg\" height=\"24px\" viewBox=\"0 -960 960 960\">\n",
              "    <path d=\"M120-120v-720h720v720H120Zm60-500h600v-160H180v160Zm220 220h160v-160H400v160Zm0 220h160v-160H400v160ZM180-400h160v-160H180v160Zm440 0h160v-160H620v160ZM180-180h160v-160H180v160Zm440 0h160v-160H620v160Z\"/>\n",
              "  </svg>\n",
              "    </button>\n",
              "\n",
              "  <style>\n",
              "    .colab-df-container {\n",
              "      display:flex;\n",
              "      gap: 12px;\n",
              "    }\n",
              "\n",
              "    .colab-df-convert {\n",
              "      background-color: #E8F0FE;\n",
              "      border: none;\n",
              "      border-radius: 50%;\n",
              "      cursor: pointer;\n",
              "      display: none;\n",
              "      fill: #1967D2;\n",
              "      height: 32px;\n",
              "      padding: 0 0 0 0;\n",
              "      width: 32px;\n",
              "    }\n",
              "\n",
              "    .colab-df-convert:hover {\n",
              "      background-color: #E2EBFA;\n",
              "      box-shadow: 0px 1px 2px rgba(60, 64, 67, 0.3), 0px 1px 3px 1px rgba(60, 64, 67, 0.15);\n",
              "      fill: #174EA6;\n",
              "    }\n",
              "\n",
              "    .colab-df-buttons div {\n",
              "      margin-bottom: 4px;\n",
              "    }\n",
              "\n",
              "    [theme=dark] .colab-df-convert {\n",
              "      background-color: #3B4455;\n",
              "      fill: #D2E3FC;\n",
              "    }\n",
              "\n",
              "    [theme=dark] .colab-df-convert:hover {\n",
              "      background-color: #434B5C;\n",
              "      box-shadow: 0px 1px 3px 1px rgba(0, 0, 0, 0.15);\n",
              "      filter: drop-shadow(0px 1px 2px rgba(0, 0, 0, 0.3));\n",
              "      fill: #FFFFFF;\n",
              "    }\n",
              "  </style>\n",
              "\n",
              "    <script>\n",
              "      const buttonEl =\n",
              "        document.querySelector('#df-29c04caa-8075-4a33-bf14-1293b46dce03 button.colab-df-convert');\n",
              "      buttonEl.style.display =\n",
              "        google.colab.kernel.accessAllowed ? 'block' : 'none';\n",
              "\n",
              "      async function convertToInteractive(key) {\n",
              "        const element = document.querySelector('#df-29c04caa-8075-4a33-bf14-1293b46dce03');\n",
              "        const dataTable =\n",
              "          await google.colab.kernel.invokeFunction('convertToInteractive',\n",
              "                                                    [key], {});\n",
              "        if (!dataTable) return;\n",
              "\n",
              "        const docLinkHtml = 'Like what you see? Visit the ' +\n",
              "          '<a target=\"_blank\" href=https://colab.research.google.com/notebooks/data_table.ipynb>data table notebook</a>'\n",
              "          + ' to learn more about interactive tables.';\n",
              "        element.innerHTML = '';\n",
              "        dataTable['output_type'] = 'display_data';\n",
              "        await google.colab.output.renderOutput(dataTable, element);\n",
              "        const docLink = document.createElement('div');\n",
              "        docLink.innerHTML = docLinkHtml;\n",
              "        element.appendChild(docLink);\n",
              "      }\n",
              "    </script>\n",
              "  </div>\n",
              "\n",
              "\n",
              "<div id=\"df-b5a29972-dc2d-4c5d-a4da-df5ca090f23b\">\n",
              "  <button class=\"colab-df-quickchart\" onclick=\"quickchart('df-b5a29972-dc2d-4c5d-a4da-df5ca090f23b')\"\n",
              "            title=\"Suggest charts\"\n",
              "            style=\"display:none;\">\n",
              "\n",
              "<svg xmlns=\"http://www.w3.org/2000/svg\" height=\"24px\"viewBox=\"0 0 24 24\"\n",
              "     width=\"24px\">\n",
              "    <g>\n",
              "        <path d=\"M19 3H5c-1.1 0-2 .9-2 2v14c0 1.1.9 2 2 2h14c1.1 0 2-.9 2-2V5c0-1.1-.9-2-2-2zM9 17H7v-7h2v7zm4 0h-2V7h2v10zm4 0h-2v-4h2v4z\"/>\n",
              "    </g>\n",
              "</svg>\n",
              "  </button>\n",
              "\n",
              "<style>\n",
              "  .colab-df-quickchart {\n",
              "      --bg-color: #E8F0FE;\n",
              "      --fill-color: #1967D2;\n",
              "      --hover-bg-color: #E2EBFA;\n",
              "      --hover-fill-color: #174EA6;\n",
              "      --disabled-fill-color: #AAA;\n",
              "      --disabled-bg-color: #DDD;\n",
              "  }\n",
              "\n",
              "  [theme=dark] .colab-df-quickchart {\n",
              "      --bg-color: #3B4455;\n",
              "      --fill-color: #D2E3FC;\n",
              "      --hover-bg-color: #434B5C;\n",
              "      --hover-fill-color: #FFFFFF;\n",
              "      --disabled-bg-color: #3B4455;\n",
              "      --disabled-fill-color: #666;\n",
              "  }\n",
              "\n",
              "  .colab-df-quickchart {\n",
              "    background-color: var(--bg-color);\n",
              "    border: none;\n",
              "    border-radius: 50%;\n",
              "    cursor: pointer;\n",
              "    display: none;\n",
              "    fill: var(--fill-color);\n",
              "    height: 32px;\n",
              "    padding: 0;\n",
              "    width: 32px;\n",
              "  }\n",
              "\n",
              "  .colab-df-quickchart:hover {\n",
              "    background-color: var(--hover-bg-color);\n",
              "    box-shadow: 0 1px 2px rgba(60, 64, 67, 0.3), 0 1px 3px 1px rgba(60, 64, 67, 0.15);\n",
              "    fill: var(--button-hover-fill-color);\n",
              "  }\n",
              "\n",
              "  .colab-df-quickchart-complete:disabled,\n",
              "  .colab-df-quickchart-complete:disabled:hover {\n",
              "    background-color: var(--disabled-bg-color);\n",
              "    fill: var(--disabled-fill-color);\n",
              "    box-shadow: none;\n",
              "  }\n",
              "\n",
              "  .colab-df-spinner {\n",
              "    border: 2px solid var(--fill-color);\n",
              "    border-color: transparent;\n",
              "    border-bottom-color: var(--fill-color);\n",
              "    animation:\n",
              "      spin 1s steps(1) infinite;\n",
              "  }\n",
              "\n",
              "  @keyframes spin {\n",
              "    0% {\n",
              "      border-color: transparent;\n",
              "      border-bottom-color: var(--fill-color);\n",
              "      border-left-color: var(--fill-color);\n",
              "    }\n",
              "    20% {\n",
              "      border-color: transparent;\n",
              "      border-left-color: var(--fill-color);\n",
              "      border-top-color: var(--fill-color);\n",
              "    }\n",
              "    30% {\n",
              "      border-color: transparent;\n",
              "      border-left-color: var(--fill-color);\n",
              "      border-top-color: var(--fill-color);\n",
              "      border-right-color: var(--fill-color);\n",
              "    }\n",
              "    40% {\n",
              "      border-color: transparent;\n",
              "      border-right-color: var(--fill-color);\n",
              "      border-top-color: var(--fill-color);\n",
              "    }\n",
              "    60% {\n",
              "      border-color: transparent;\n",
              "      border-right-color: var(--fill-color);\n",
              "    }\n",
              "    80% {\n",
              "      border-color: transparent;\n",
              "      border-right-color: var(--fill-color);\n",
              "      border-bottom-color: var(--fill-color);\n",
              "    }\n",
              "    90% {\n",
              "      border-color: transparent;\n",
              "      border-bottom-color: var(--fill-color);\n",
              "    }\n",
              "  }\n",
              "</style>\n",
              "\n",
              "  <script>\n",
              "    async function quickchart(key) {\n",
              "      const quickchartButtonEl =\n",
              "        document.querySelector('#' + key + ' button');\n",
              "      quickchartButtonEl.disabled = true;  // To prevent multiple clicks.\n",
              "      quickchartButtonEl.classList.add('colab-df-spinner');\n",
              "      try {\n",
              "        const charts = await google.colab.kernel.invokeFunction(\n",
              "            'suggestCharts', [key], {});\n",
              "      } catch (error) {\n",
              "        console.error('Error during call to suggestCharts:', error);\n",
              "      }\n",
              "      quickchartButtonEl.classList.remove('colab-df-spinner');\n",
              "      quickchartButtonEl.classList.add('colab-df-quickchart-complete');\n",
              "    }\n",
              "    (() => {\n",
              "      let quickchartButtonEl =\n",
              "        document.querySelector('#df-b5a29972-dc2d-4c5d-a4da-df5ca090f23b button');\n",
              "      quickchartButtonEl.style.display =\n",
              "        google.colab.kernel.accessAllowed ? 'block' : 'none';\n",
              "    })();\n",
              "  </script>\n",
              "</div>\n",
              "\n",
              "    </div>\n",
              "  </div>\n"
            ],
            "application/vnd.google.colaboratory.intrinsic+json": {
              "type": "dataframe",
              "variable_name": "df"
            }
          },
          "metadata": {},
          "execution_count": 68
        }
      ]
    },
    {
      "cell_type": "markdown",
      "source": [
        "### **Great, It is succesfully showing us the values in the desired form.**"
      ],
      "metadata": {
        "id": "0sSGLkkuC17u"
      }
    },
    {
      "cell_type": "code",
      "source": [
        "df['Reviews'].describe()"
      ],
      "metadata": {
        "colab": {
          "base_uri": "https://localhost:8080/"
        },
        "id": "4iiGbXo4Bx9r",
        "outputId": "5c0e27a1-46c6-4f28-bf33-fd2fdce622ce"
      },
      "execution_count": 69,
      "outputs": [
        {
          "output_type": "execute_result",
          "data": {
            "text/plain": [
              "count    1.230372e+06\n",
              "mean     8.259505e+02\n",
              "std      5.016059e+04\n",
              "min      0.000000e+00\n",
              "25%      0.000000e+00\n",
              "50%      0.000000e+00\n",
              "75%      3.000000e+00\n",
              "max      2.268533e+07\n",
              "Name: Reviews, dtype: float64"
            ]
          },
          "metadata": {},
          "execution_count": 69
        }
      ]
    },
    {
      "cell_type": "markdown",
      "source": [
        "### **Let's view the contents in the `Content_Rating` column.**"
      ],
      "metadata": {
        "id": "tY9Ygg8FED_p"
      }
    },
    {
      "cell_type": "code",
      "source": [
        "df['Content_Rating'].unique()"
      ],
      "metadata": {
        "colab": {
          "base_uri": "https://localhost:8080/"
        },
        "id": "BLmVuQNwD3DD",
        "outputId": "0281bd22-73c1-42e3-ed35-04b95e82b7a2"
      },
      "execution_count": 70,
      "outputs": [
        {
          "output_type": "execute_result",
          "data": {
            "text/plain": [
              "array(['4', '17', '9', '12', 'Not yet rated'], dtype=object)"
            ]
          },
          "metadata": {},
          "execution_count": 70
        }
      ]
    },
    {
      "cell_type": "code",
      "source": [
        "df['Content_Rating'].unique()"
      ],
      "metadata": {
        "colab": {
          "base_uri": "https://localhost:8080/"
        },
        "id": "NebuMwqVFo-i",
        "outputId": "94ff6981-3c23-458a-e51d-b45bfd17a224"
      },
      "execution_count": 71,
      "outputs": [
        {
          "output_type": "execute_result",
          "data": {
            "text/plain": [
              "array(['4', '17', '9', '12', 'Not yet rated'], dtype=object)"
            ]
          },
          "metadata": {},
          "execution_count": 71
        }
      ]
    },
    {
      "cell_type": "markdown",
      "source": [
        "- For the `nan` values, we know that these values were entered as `Not yet rated`. So, we will make them rated for `Everyone`."
      ],
      "metadata": {
        "id": "LRSvgLDjF1l-"
      }
    },
    {
      "cell_type": "markdown",
      "source": [
        "## **Observations**\n",
        "> We have various Ratings in the `Content_Rating` column.\n",
        "- 4+\n",
        "- 17+\n",
        "- 12+\n",
        "- 9+"
      ],
      "metadata": {
        "id": "WKiAXnF7EqZq"
      }
    },
    {
      "cell_type": "markdown",
      "source": [
        "---\n",
        "> SO, we can clearly convert them into four different categories of :\n",
        "- 4+ : Kids\n",
        "- 17+ : Adults\n",
        "- 12+ : Teens\n",
        "- 9+  : Children\n",
        "- Not yet rated : Everyone"
      ],
      "metadata": {
        "id": "5h6YH4EqGKHE"
      }
    },
    {
      "cell_type": "code",
      "source": [
        "df['Content_Rating'] = df['Content_Rating'].astype(\"O\")"
      ],
      "metadata": {
        "id": "bp9ag29SHKv6"
      },
      "execution_count": 72,
      "outputs": []
    },
    {
      "cell_type": "code",
      "source": [
        "df['Content_Rating'] = df['Content_Rating'].replace(\"4\" , \"Kids\")\n",
        "df['Content_Rating'] = df['Content_Rating'].replace(\"9\" , \"Children\")\n",
        "df['Content_Rating'] = df['Content_Rating'].replace(\"12\" , \"Teens\")\n",
        "df['Content_Rating'] = df['Content_Rating'].replace(\"17\" , \"Adults\")\n",
        "df['Content_Rating'] = df['Content_Rating'].replace('Not yet rated' , \"EveryOne\")"
      ],
      "metadata": {
        "id": "Fsum6W7zEPDi"
      },
      "execution_count": 73,
      "outputs": []
    },
    {
      "cell_type": "code",
      "source": [
        "df['Content_Rating'].unique()\n"
      ],
      "metadata": {
        "colab": {
          "base_uri": "https://localhost:8080/"
        },
        "id": "eiPxTrhhG56J",
        "outputId": "3b1f4803-aef1-45dc-9871-4e96fb9aa204"
      },
      "execution_count": 74,
      "outputs": [
        {
          "output_type": "execute_result",
          "data": {
            "text/plain": [
              "array(['Kids', 'Adults', 'Children', 'Teens', 'EveryOne'], dtype=object)"
            ]
          },
          "metadata": {},
          "execution_count": 74
        }
      ]
    },
    {
      "cell_type": "markdown",
      "source": [
        "### **Another approach for replacing the values or making them more readable would be by making another column in the dataset.**"
      ],
      "metadata": {
        "id": "f1bRZo2BInwZ"
      }
    },
    {
      "cell_type": "code",
      "source": [
        "df.head()"
      ],
      "metadata": {
        "colab": {
          "base_uri": "https://localhost:8080/",
          "height": 330
        },
        "id": "SJFvzGSqHHcn",
        "outputId": "01f8f502-3438-4ad0-d713-569a5cb4717d"
      },
      "execution_count": 75,
      "outputs": [
        {
          "output_type": "execute_result",
          "data": {
            "text/plain": [
              "                             App_Id                 App_Name  \\\n",
              "0               com.hkbu.arc.apaper           A+ Paper Guide   \n",
              "1               com.dmitriev.abooks                  A-Books   \n",
              "2                    no.terp.abooks                  A-books   \n",
              "3          fr.antoinettefleur.Book1              A-F Book #1   \n",
              "4  com.imonstersoft.azdictionaryios  A-Z Synonyms Dictionary   \n",
              "\n",
              "                                        AppStore_Url Primary_Genre  \\\n",
              "0  https://apps.apple.com/us/app/a-paper-guide/id...     Education   \n",
              "1  https://apps.apple.com/us/app/a-books/id103157...          Book   \n",
              "2  https://apps.apple.com/us/app/a-books/id145702...          Book   \n",
              "3  https://apps.apple.com/us/app/a-f-book-1/id500...          Book   \n",
              "4  https://apps.apple.com/us/app/a-z-synonyms-dic...     Reference   \n",
              "\n",
              "  Content_Rating  Size_Bytes Required_IOS_Version              Released  \\\n",
              "0           Kids  21993472.0                  8.0  2017-09-28T03:02:41Z   \n",
              "1           Kids  13135872.0                 10.0  2015-08-31T19:31:32Z   \n",
              "2           Kids  21943296.0                  9.0  2021-04-14T07:00:00Z   \n",
              "3           Kids  81851392.0                  8.0  2012-02-10T03:40:07Z   \n",
              "4           Kids  64692224.0                  9.0  2020-12-16T08:00:00Z   \n",
              "\n",
              "                Updated Version  Price Currency   Free  DeveloperId  \\\n",
              "0  2018-12-21T21:30:36Z   1.1.2   0.00      USD   True   1375410542   \n",
              "1  2019-07-23T20:31:09Z     1.3   0.00      USD   True   1031572001   \n",
              "2  2021-05-30T21:08:54Z   1.3.1   0.00      USD   True   1457024163   \n",
              "3  2019-10-29T12:40:37Z     1.2   2.99      USD  False    439568839   \n",
              "4  2020-12-18T21:36:11Z   1.0.1   0.00      USD   True    656731821   \n",
              "\n",
              "        Developer                                      Developer_Url  \\\n",
              "0        HKBU ARC  https://apps.apple.com/us/developer/hkbu-arc/i...   \n",
              "1  Roman Dmitriev  https://apps.apple.com/us/developer/roman-dmit...   \n",
              "2         Terp AS  https://apps.apple.com/us/developer/terp-as/id...   \n",
              "3   i-editeur.com  https://apps.apple.com/us/developer/i-editeur-...   \n",
              "4   Ngov chiheang  https://apps.apple.com/us/developer/ngov-chihe...   \n",
              "\n",
              "   Average_User_Rating  Reviews  Current_Version_Score  \\\n",
              "0                  0.0        0                    0.0   \n",
              "1                  5.0        1                    5.0   \n",
              "2                  0.0        0                    0.0   \n",
              "3                  0.0        0                    0.0   \n",
              "4                  0.0        0                    0.0   \n",
              "\n",
              "   Current_Version_Reviews  Size_in_Mb  \n",
              "0                        0   20.974609  \n",
              "1                        1   12.527344  \n",
              "2                        0   20.926758  \n",
              "3                        0   78.059570  \n",
              "4                        0   61.695312  "
            ],
            "text/html": [
              "\n",
              "  <div id=\"df-5aa55f96-d111-42ec-a5f0-160bf685ba5d\" class=\"colab-df-container\">\n",
              "    <div>\n",
              "<style scoped>\n",
              "    .dataframe tbody tr th:only-of-type {\n",
              "        vertical-align: middle;\n",
              "    }\n",
              "\n",
              "    .dataframe tbody tr th {\n",
              "        vertical-align: top;\n",
              "    }\n",
              "\n",
              "    .dataframe thead th {\n",
              "        text-align: right;\n",
              "    }\n",
              "</style>\n",
              "<table border=\"1\" class=\"dataframe\">\n",
              "  <thead>\n",
              "    <tr style=\"text-align: right;\">\n",
              "      <th></th>\n",
              "      <th>App_Id</th>\n",
              "      <th>App_Name</th>\n",
              "      <th>AppStore_Url</th>\n",
              "      <th>Primary_Genre</th>\n",
              "      <th>Content_Rating</th>\n",
              "      <th>Size_Bytes</th>\n",
              "      <th>Required_IOS_Version</th>\n",
              "      <th>Released</th>\n",
              "      <th>Updated</th>\n",
              "      <th>Version</th>\n",
              "      <th>Price</th>\n",
              "      <th>Currency</th>\n",
              "      <th>Free</th>\n",
              "      <th>DeveloperId</th>\n",
              "      <th>Developer</th>\n",
              "      <th>Developer_Url</th>\n",
              "      <th>Average_User_Rating</th>\n",
              "      <th>Reviews</th>\n",
              "      <th>Current_Version_Score</th>\n",
              "      <th>Current_Version_Reviews</th>\n",
              "      <th>Size_in_Mb</th>\n",
              "    </tr>\n",
              "  </thead>\n",
              "  <tbody>\n",
              "    <tr>\n",
              "      <th>0</th>\n",
              "      <td>com.hkbu.arc.apaper</td>\n",
              "      <td>A+ Paper Guide</td>\n",
              "      <td>https://apps.apple.com/us/app/a-paper-guide/id...</td>\n",
              "      <td>Education</td>\n",
              "      <td>Kids</td>\n",
              "      <td>21993472.0</td>\n",
              "      <td>8.0</td>\n",
              "      <td>2017-09-28T03:02:41Z</td>\n",
              "      <td>2018-12-21T21:30:36Z</td>\n",
              "      <td>1.1.2</td>\n",
              "      <td>0.00</td>\n",
              "      <td>USD</td>\n",
              "      <td>True</td>\n",
              "      <td>1375410542</td>\n",
              "      <td>HKBU ARC</td>\n",
              "      <td>https://apps.apple.com/us/developer/hkbu-arc/i...</td>\n",
              "      <td>0.0</td>\n",
              "      <td>0</td>\n",
              "      <td>0.0</td>\n",
              "      <td>0</td>\n",
              "      <td>20.974609</td>\n",
              "    </tr>\n",
              "    <tr>\n",
              "      <th>1</th>\n",
              "      <td>com.dmitriev.abooks</td>\n",
              "      <td>A-Books</td>\n",
              "      <td>https://apps.apple.com/us/app/a-books/id103157...</td>\n",
              "      <td>Book</td>\n",
              "      <td>Kids</td>\n",
              "      <td>13135872.0</td>\n",
              "      <td>10.0</td>\n",
              "      <td>2015-08-31T19:31:32Z</td>\n",
              "      <td>2019-07-23T20:31:09Z</td>\n",
              "      <td>1.3</td>\n",
              "      <td>0.00</td>\n",
              "      <td>USD</td>\n",
              "      <td>True</td>\n",
              "      <td>1031572001</td>\n",
              "      <td>Roman Dmitriev</td>\n",
              "      <td>https://apps.apple.com/us/developer/roman-dmit...</td>\n",
              "      <td>5.0</td>\n",
              "      <td>1</td>\n",
              "      <td>5.0</td>\n",
              "      <td>1</td>\n",
              "      <td>12.527344</td>\n",
              "    </tr>\n",
              "    <tr>\n",
              "      <th>2</th>\n",
              "      <td>no.terp.abooks</td>\n",
              "      <td>A-books</td>\n",
              "      <td>https://apps.apple.com/us/app/a-books/id145702...</td>\n",
              "      <td>Book</td>\n",
              "      <td>Kids</td>\n",
              "      <td>21943296.0</td>\n",
              "      <td>9.0</td>\n",
              "      <td>2021-04-14T07:00:00Z</td>\n",
              "      <td>2021-05-30T21:08:54Z</td>\n",
              "      <td>1.3.1</td>\n",
              "      <td>0.00</td>\n",
              "      <td>USD</td>\n",
              "      <td>True</td>\n",
              "      <td>1457024163</td>\n",
              "      <td>Terp AS</td>\n",
              "      <td>https://apps.apple.com/us/developer/terp-as/id...</td>\n",
              "      <td>0.0</td>\n",
              "      <td>0</td>\n",
              "      <td>0.0</td>\n",
              "      <td>0</td>\n",
              "      <td>20.926758</td>\n",
              "    </tr>\n",
              "    <tr>\n",
              "      <th>3</th>\n",
              "      <td>fr.antoinettefleur.Book1</td>\n",
              "      <td>A-F Book #1</td>\n",
              "      <td>https://apps.apple.com/us/app/a-f-book-1/id500...</td>\n",
              "      <td>Book</td>\n",
              "      <td>Kids</td>\n",
              "      <td>81851392.0</td>\n",
              "      <td>8.0</td>\n",
              "      <td>2012-02-10T03:40:07Z</td>\n",
              "      <td>2019-10-29T12:40:37Z</td>\n",
              "      <td>1.2</td>\n",
              "      <td>2.99</td>\n",
              "      <td>USD</td>\n",
              "      <td>False</td>\n",
              "      <td>439568839</td>\n",
              "      <td>i-editeur.com</td>\n",
              "      <td>https://apps.apple.com/us/developer/i-editeur-...</td>\n",
              "      <td>0.0</td>\n",
              "      <td>0</td>\n",
              "      <td>0.0</td>\n",
              "      <td>0</td>\n",
              "      <td>78.059570</td>\n",
              "    </tr>\n",
              "    <tr>\n",
              "      <th>4</th>\n",
              "      <td>com.imonstersoft.azdictionaryios</td>\n",
              "      <td>A-Z Synonyms Dictionary</td>\n",
              "      <td>https://apps.apple.com/us/app/a-z-synonyms-dic...</td>\n",
              "      <td>Reference</td>\n",
              "      <td>Kids</td>\n",
              "      <td>64692224.0</td>\n",
              "      <td>9.0</td>\n",
              "      <td>2020-12-16T08:00:00Z</td>\n",
              "      <td>2020-12-18T21:36:11Z</td>\n",
              "      <td>1.0.1</td>\n",
              "      <td>0.00</td>\n",
              "      <td>USD</td>\n",
              "      <td>True</td>\n",
              "      <td>656731821</td>\n",
              "      <td>Ngov chiheang</td>\n",
              "      <td>https://apps.apple.com/us/developer/ngov-chihe...</td>\n",
              "      <td>0.0</td>\n",
              "      <td>0</td>\n",
              "      <td>0.0</td>\n",
              "      <td>0</td>\n",
              "      <td>61.695312</td>\n",
              "    </tr>\n",
              "  </tbody>\n",
              "</table>\n",
              "</div>\n",
              "    <div class=\"colab-df-buttons\">\n",
              "\n",
              "  <div class=\"colab-df-container\">\n",
              "    <button class=\"colab-df-convert\" onclick=\"convertToInteractive('df-5aa55f96-d111-42ec-a5f0-160bf685ba5d')\"\n",
              "            title=\"Convert this dataframe to an interactive table.\"\n",
              "            style=\"display:none;\">\n",
              "\n",
              "  <svg xmlns=\"http://www.w3.org/2000/svg\" height=\"24px\" viewBox=\"0 -960 960 960\">\n",
              "    <path d=\"M120-120v-720h720v720H120Zm60-500h600v-160H180v160Zm220 220h160v-160H400v160Zm0 220h160v-160H400v160ZM180-400h160v-160H180v160Zm440 0h160v-160H620v160ZM180-180h160v-160H180v160Zm440 0h160v-160H620v160Z\"/>\n",
              "  </svg>\n",
              "    </button>\n",
              "\n",
              "  <style>\n",
              "    .colab-df-container {\n",
              "      display:flex;\n",
              "      gap: 12px;\n",
              "    }\n",
              "\n",
              "    .colab-df-convert {\n",
              "      background-color: #E8F0FE;\n",
              "      border: none;\n",
              "      border-radius: 50%;\n",
              "      cursor: pointer;\n",
              "      display: none;\n",
              "      fill: #1967D2;\n",
              "      height: 32px;\n",
              "      padding: 0 0 0 0;\n",
              "      width: 32px;\n",
              "    }\n",
              "\n",
              "    .colab-df-convert:hover {\n",
              "      background-color: #E2EBFA;\n",
              "      box-shadow: 0px 1px 2px rgba(60, 64, 67, 0.3), 0px 1px 3px 1px rgba(60, 64, 67, 0.15);\n",
              "      fill: #174EA6;\n",
              "    }\n",
              "\n",
              "    .colab-df-buttons div {\n",
              "      margin-bottom: 4px;\n",
              "    }\n",
              "\n",
              "    [theme=dark] .colab-df-convert {\n",
              "      background-color: #3B4455;\n",
              "      fill: #D2E3FC;\n",
              "    }\n",
              "\n",
              "    [theme=dark] .colab-df-convert:hover {\n",
              "      background-color: #434B5C;\n",
              "      box-shadow: 0px 1px 3px 1px rgba(0, 0, 0, 0.15);\n",
              "      filter: drop-shadow(0px 1px 2px rgba(0, 0, 0, 0.3));\n",
              "      fill: #FFFFFF;\n",
              "    }\n",
              "  </style>\n",
              "\n",
              "    <script>\n",
              "      const buttonEl =\n",
              "        document.querySelector('#df-5aa55f96-d111-42ec-a5f0-160bf685ba5d button.colab-df-convert');\n",
              "      buttonEl.style.display =\n",
              "        google.colab.kernel.accessAllowed ? 'block' : 'none';\n",
              "\n",
              "      async function convertToInteractive(key) {\n",
              "        const element = document.querySelector('#df-5aa55f96-d111-42ec-a5f0-160bf685ba5d');\n",
              "        const dataTable =\n",
              "          await google.colab.kernel.invokeFunction('convertToInteractive',\n",
              "                                                    [key], {});\n",
              "        if (!dataTable) return;\n",
              "\n",
              "        const docLinkHtml = 'Like what you see? Visit the ' +\n",
              "          '<a target=\"_blank\" href=https://colab.research.google.com/notebooks/data_table.ipynb>data table notebook</a>'\n",
              "          + ' to learn more about interactive tables.';\n",
              "        element.innerHTML = '';\n",
              "        dataTable['output_type'] = 'display_data';\n",
              "        await google.colab.output.renderOutput(dataTable, element);\n",
              "        const docLink = document.createElement('div');\n",
              "        docLink.innerHTML = docLinkHtml;\n",
              "        element.appendChild(docLink);\n",
              "      }\n",
              "    </script>\n",
              "  </div>\n",
              "\n",
              "\n",
              "<div id=\"df-d4f5dc4e-0925-485a-89c6-3439e60f88a0\">\n",
              "  <button class=\"colab-df-quickchart\" onclick=\"quickchart('df-d4f5dc4e-0925-485a-89c6-3439e60f88a0')\"\n",
              "            title=\"Suggest charts\"\n",
              "            style=\"display:none;\">\n",
              "\n",
              "<svg xmlns=\"http://www.w3.org/2000/svg\" height=\"24px\"viewBox=\"0 0 24 24\"\n",
              "     width=\"24px\">\n",
              "    <g>\n",
              "        <path d=\"M19 3H5c-1.1 0-2 .9-2 2v14c0 1.1.9 2 2 2h14c1.1 0 2-.9 2-2V5c0-1.1-.9-2-2-2zM9 17H7v-7h2v7zm4 0h-2V7h2v10zm4 0h-2v-4h2v4z\"/>\n",
              "    </g>\n",
              "</svg>\n",
              "  </button>\n",
              "\n",
              "<style>\n",
              "  .colab-df-quickchart {\n",
              "      --bg-color: #E8F0FE;\n",
              "      --fill-color: #1967D2;\n",
              "      --hover-bg-color: #E2EBFA;\n",
              "      --hover-fill-color: #174EA6;\n",
              "      --disabled-fill-color: #AAA;\n",
              "      --disabled-bg-color: #DDD;\n",
              "  }\n",
              "\n",
              "  [theme=dark] .colab-df-quickchart {\n",
              "      --bg-color: #3B4455;\n",
              "      --fill-color: #D2E3FC;\n",
              "      --hover-bg-color: #434B5C;\n",
              "      --hover-fill-color: #FFFFFF;\n",
              "      --disabled-bg-color: #3B4455;\n",
              "      --disabled-fill-color: #666;\n",
              "  }\n",
              "\n",
              "  .colab-df-quickchart {\n",
              "    background-color: var(--bg-color);\n",
              "    border: none;\n",
              "    border-radius: 50%;\n",
              "    cursor: pointer;\n",
              "    display: none;\n",
              "    fill: var(--fill-color);\n",
              "    height: 32px;\n",
              "    padding: 0;\n",
              "    width: 32px;\n",
              "  }\n",
              "\n",
              "  .colab-df-quickchart:hover {\n",
              "    background-color: var(--hover-bg-color);\n",
              "    box-shadow: 0 1px 2px rgba(60, 64, 67, 0.3), 0 1px 3px 1px rgba(60, 64, 67, 0.15);\n",
              "    fill: var(--button-hover-fill-color);\n",
              "  }\n",
              "\n",
              "  .colab-df-quickchart-complete:disabled,\n",
              "  .colab-df-quickchart-complete:disabled:hover {\n",
              "    background-color: var(--disabled-bg-color);\n",
              "    fill: var(--disabled-fill-color);\n",
              "    box-shadow: none;\n",
              "  }\n",
              "\n",
              "  .colab-df-spinner {\n",
              "    border: 2px solid var(--fill-color);\n",
              "    border-color: transparent;\n",
              "    border-bottom-color: var(--fill-color);\n",
              "    animation:\n",
              "      spin 1s steps(1) infinite;\n",
              "  }\n",
              "\n",
              "  @keyframes spin {\n",
              "    0% {\n",
              "      border-color: transparent;\n",
              "      border-bottom-color: var(--fill-color);\n",
              "      border-left-color: var(--fill-color);\n",
              "    }\n",
              "    20% {\n",
              "      border-color: transparent;\n",
              "      border-left-color: var(--fill-color);\n",
              "      border-top-color: var(--fill-color);\n",
              "    }\n",
              "    30% {\n",
              "      border-color: transparent;\n",
              "      border-left-color: var(--fill-color);\n",
              "      border-top-color: var(--fill-color);\n",
              "      border-right-color: var(--fill-color);\n",
              "    }\n",
              "    40% {\n",
              "      border-color: transparent;\n",
              "      border-right-color: var(--fill-color);\n",
              "      border-top-color: var(--fill-color);\n",
              "    }\n",
              "    60% {\n",
              "      border-color: transparent;\n",
              "      border-right-color: var(--fill-color);\n",
              "    }\n",
              "    80% {\n",
              "      border-color: transparent;\n",
              "      border-right-color: var(--fill-color);\n",
              "      border-bottom-color: var(--fill-color);\n",
              "    }\n",
              "    90% {\n",
              "      border-color: transparent;\n",
              "      border-bottom-color: var(--fill-color);\n",
              "    }\n",
              "  }\n",
              "</style>\n",
              "\n",
              "  <script>\n",
              "    async function quickchart(key) {\n",
              "      const quickchartButtonEl =\n",
              "        document.querySelector('#' + key + ' button');\n",
              "      quickchartButtonEl.disabled = true;  // To prevent multiple clicks.\n",
              "      quickchartButtonEl.classList.add('colab-df-spinner');\n",
              "      try {\n",
              "        const charts = await google.colab.kernel.invokeFunction(\n",
              "            'suggestCharts', [key], {});\n",
              "      } catch (error) {\n",
              "        console.error('Error during call to suggestCharts:', error);\n",
              "      }\n",
              "      quickchartButtonEl.classList.remove('colab-df-spinner');\n",
              "      quickchartButtonEl.classList.add('colab-df-quickchart-complete');\n",
              "    }\n",
              "    (() => {\n",
              "      let quickchartButtonEl =\n",
              "        document.querySelector('#df-d4f5dc4e-0925-485a-89c6-3439e60f88a0 button');\n",
              "      quickchartButtonEl.style.display =\n",
              "        google.colab.kernel.accessAllowed ? 'block' : 'none';\n",
              "    })();\n",
              "  </script>\n",
              "</div>\n",
              "\n",
              "    </div>\n",
              "  </div>\n"
            ],
            "application/vnd.google.colaboratory.intrinsic+json": {
              "type": "dataframe",
              "variable_name": "df"
            }
          },
          "metadata": {},
          "execution_count": 75
        }
      ]
    },
    {
      "cell_type": "markdown",
      "source": [
        "### **Let's change the values in the `Reviews` column by defining different kind of ranges.**"
      ],
      "metadata": {
        "id": "MxXrXDkBJJR_"
      }
    },
    {
      "cell_type": "code",
      "source": [
        "df['Reviews'].min()"
      ],
      "metadata": {
        "colab": {
          "base_uri": "https://localhost:8080/"
        },
        "id": "inuGGBfeIkdN",
        "outputId": "e3f71bbb-e272-413d-84c1-2acd275f2047"
      },
      "execution_count": 76,
      "outputs": [
        {
          "output_type": "execute_result",
          "data": {
            "text/plain": [
              "0"
            ]
          },
          "metadata": {},
          "execution_count": 76
        }
      ]
    },
    {
      "cell_type": "code",
      "source": [
        "df['Reviews'].max()"
      ],
      "metadata": {
        "colab": {
          "base_uri": "https://localhost:8080/"
        },
        "id": "TeBw3tKVJfHf",
        "outputId": "dc5cfc77-be3f-4bf2-daa4-96a771c23392"
      },
      "execution_count": 77,
      "outputs": [
        {
          "output_type": "execute_result",
          "data": {
            "text/plain": [
              "22685334"
            ]
          },
          "metadata": {},
          "execution_count": 77
        }
      ]
    },
    {
      "cell_type": "code",
      "source": [
        "df['Reviews'].describe()"
      ],
      "metadata": {
        "colab": {
          "base_uri": "https://localhost:8080/"
        },
        "id": "W5pRh9eRJg78",
        "outputId": "a8d75890-93d0-4902-fde1-826bcea35900"
      },
      "execution_count": 78,
      "outputs": [
        {
          "output_type": "execute_result",
          "data": {
            "text/plain": [
              "count    1.230372e+06\n",
              "mean     8.259505e+02\n",
              "std      5.016059e+04\n",
              "min      0.000000e+00\n",
              "25%      0.000000e+00\n",
              "50%      0.000000e+00\n",
              "75%      3.000000e+00\n",
              "max      2.268533e+07\n",
              "Name: Reviews, dtype: float64"
            ]
          },
          "metadata": {},
          "execution_count": 78
        }
      ]
    },
    {
      "cell_type": "code",
      "source": [
        "bins = [-1 , 0 , 10000 , 500000 , 1000000 , 10000000000 ]\n",
        "labels = [\"No_reviews_provided\" , \"Less than 10k\" , \"Between 10k and 500k\" , \"Between 500k to 1_Mil\", \"Million_Plus\"]\n",
        "\n",
        "df['Reviews_Category'] = pd.cut( df['Reviews'] , bins = bins , labels = labels)"
      ],
      "metadata": {
        "id": "67puKFWLJlkr"
      },
      "execution_count": 79,
      "outputs": []
    },
    {
      "cell_type": "code",
      "source": [
        "df['Reviews_Category'].value_counts()"
      ],
      "metadata": {
        "colab": {
          "base_uri": "https://localhost:8080/"
        },
        "id": "D-fSBMj-LVlO",
        "outputId": "1c4d08d8-85b8-462d-f0cf-f6dcb272436b"
      },
      "execution_count": 80,
      "outputs": [
        {
          "output_type": "execute_result",
          "data": {
            "text/plain": [
              "Reviews_Category\n",
              "No_reviews_provided      684317\n",
              "Less than 10k            539031\n",
              "Between 10k and 500k       6726\n",
              "Million_Plus                152\n",
              "Between 500k to 1_Mil       146\n",
              "Name: count, dtype: int64"
            ]
          },
          "metadata": {},
          "execution_count": 80
        }
      ]
    },
    {
      "cell_type": "markdown",
      "source": [
        "### **These apps having the revies more than a million are actually a gold mine for the developer who is looking for the idea for developing an app.**"
      ],
      "metadata": {
        "id": "k86-k34kMNi6"
      }
    },
    {
      "cell_type": "code",
      "source": [
        "df.info()"
      ],
      "metadata": {
        "colab": {
          "base_uri": "https://localhost:8080/"
        },
        "id": "4z8OO6ZKLXar",
        "outputId": "9e415d06-0bd9-4fb0-c152-f5b426c76c07"
      },
      "execution_count": 81,
      "outputs": [
        {
          "output_type": "stream",
          "name": "stdout",
          "text": [
            "<class 'pandas.core.frame.DataFrame'>\n",
            "Index: 1230372 entries, 0 to 1230375\n",
            "Data columns (total 22 columns):\n",
            " #   Column                   Non-Null Count    Dtype   \n",
            "---  ------                   --------------    -----   \n",
            " 0   App_Id                   1230372 non-null  object  \n",
            " 1   App_Name                 1230372 non-null  object  \n",
            " 2   AppStore_Url             1230372 non-null  object  \n",
            " 3   Primary_Genre            1230372 non-null  object  \n",
            " 4   Content_Rating           1230372 non-null  object  \n",
            " 5   Size_Bytes               1230372 non-null  float64 \n",
            " 6   Required_IOS_Version     1230372 non-null  object  \n",
            " 7   Released                 1230372 non-null  object  \n",
            " 8   Updated                  1230372 non-null  object  \n",
            " 9   Version                  1230372 non-null  object  \n",
            " 10  Price                    1230372 non-null  float64 \n",
            " 11  Currency                 1230372 non-null  object  \n",
            " 12  Free                     1230372 non-null  object  \n",
            " 13  DeveloperId              1230372 non-null  int64   \n",
            " 14  Developer                1230372 non-null  object  \n",
            " 15  Developer_Url            1229263 non-null  object  \n",
            " 16  Average_User_Rating      1230372 non-null  float64 \n",
            " 17  Reviews                  1230372 non-null  int64   \n",
            " 18  Current_Version_Score    1230372 non-null  float64 \n",
            " 19  Current_Version_Reviews  1230372 non-null  int64   \n",
            " 20  Size_in_Mb               1230372 non-null  float64 \n",
            " 21  Reviews_Category         1230372 non-null  category\n",
            "dtypes: category(1), float64(5), int64(3), object(13)\n",
            "memory usage: 207.7+ MB\n"
          ]
        }
      ]
    },
    {
      "cell_type": "markdown",
      "source": [
        "### **Let's have a look at the `Average_User_Rating` column.**"
      ],
      "metadata": {
        "id": "sBmESMtRMn00"
      }
    },
    {
      "cell_type": "code",
      "source": [
        "df['Average_User_Rating'].unique()"
      ],
      "metadata": {
        "colab": {
          "base_uri": "https://localhost:8080/"
        },
        "id": "TRqC7TbLMfkm",
        "outputId": "a08a59b1-7e2f-4977-ea50-fd739af51abd"
      },
      "execution_count": 82,
      "outputs": [
        {
          "output_type": "execute_result",
          "data": {
            "text/plain": [
              "array([0.     , 5.     , 4.78132, ..., 4.00352, 3.91608, 4.82733])"
            ]
          },
          "metadata": {},
          "execution_count": 82
        }
      ]
    },
    {
      "cell_type": "markdown",
      "source": [
        "- So, the values are in teh float dtype and we should either round off these floating values or convert them into integers."
      ],
      "metadata": {
        "id": "v--5H3aQMx38"
      }
    },
    {
      "cell_type": "markdown",
      "source": [
        "\n",
        "1. First, we will round off these values.\n",
        "2. Secondly, we will convert them into integer form."
      ],
      "metadata": {
        "id": "YYirv1KfNGsk"
      }
    },
    {
      "cell_type": "code",
      "source": [
        "df['Average_User_Rating'] = df['Average_User_Rating'].round()"
      ],
      "metadata": {
        "id": "L1idTlgVMvzd"
      },
      "execution_count": 83,
      "outputs": []
    },
    {
      "cell_type": "markdown",
      "source": [
        "- Now, Converting into the integer."
      ],
      "metadata": {
        "id": "93Wm9HhRNm82"
      }
    },
    {
      "cell_type": "code",
      "source": [
        "df['Average_User_Rating'] = df['Average_User_Rating'].apply( lambda x : int(x))"
      ],
      "metadata": {
        "id": "vAMZUzqANl6v"
      },
      "execution_count": 84,
      "outputs": []
    },
    {
      "cell_type": "code",
      "source": [
        "df['Average_User_Rating'].unique()"
      ],
      "metadata": {
        "id": "eEnkFI8CNv5s",
        "colab": {
          "base_uri": "https://localhost:8080/"
        },
        "outputId": "a516404f-8faf-4e15-a8d3-dc74baf06d4d"
      },
      "execution_count": 85,
      "outputs": [
        {
          "output_type": "execute_result",
          "data": {
            "text/plain": [
              "array([0, 5, 3, 4, 2, 1])"
            ]
          },
          "metadata": {},
          "execution_count": 85
        }
      ]
    },
    {
      "cell_type": "markdown",
      "source": [
        "---\n",
        "### **It's time to write our questions/objectives or the purpose of the analysis first.**\n",
        "1. What are the top 10 categories downloaded from the Apple app store ?\n",
        "2. What are the top 10 primary_genre based on the Average_user_Rating ?\n",
        "3. Which genre has the highest count of free and paid apps ?\n",
        "4. What are the top 5 paid apps based on the ratings ?\n",
        "5. What are the top 5 free apps based on the ratings ?\n",
        "6. Which app are with the highest Content_Rating ?\n",
        "7. In which year maximum number of apps are released ?\n",
        "8. HOw the size of the app is affecting the price of the app ?\n",
        "9. Who are the top 10 app developers ?\n",
        "10. We will compare the User_Rating with the price of the app.\n",
        "11. How the user_Rating is getting affected by the size of the app ?\n",
        "12. Year on Year break down of top-5 genre based on App_Price ?\n",
        "13. IOS versions vs their count of apps ?\n",
        "14. We will check Interdependency of the numeric attributes on each other.\n",
        "\n",
        "\n"
      ],
      "metadata": {
        "id": "Kj-umuUliqTL"
      }
    },
    {
      "cell_type": "markdown",
      "source": [
        "---\n",
        "Question 1 : What are the top 10 categories downloaded from the Apple app store ?\n"
      ],
      "metadata": {
        "id": "a4fRWqYSk7Y9"
      }
    },
    {
      "cell_type": "code",
      "source": [
        "df.head()"
      ],
      "metadata": {
        "colab": {
          "base_uri": "https://localhost:8080/",
          "height": 330
        },
        "id": "hB5NahmFlFL9",
        "outputId": "6a4324a8-156e-4e9c-b6bf-04d48f499651"
      },
      "execution_count": 86,
      "outputs": [
        {
          "output_type": "execute_result",
          "data": {
            "text/plain": [
              "                             App_Id                 App_Name  \\\n",
              "0               com.hkbu.arc.apaper           A+ Paper Guide   \n",
              "1               com.dmitriev.abooks                  A-Books   \n",
              "2                    no.terp.abooks                  A-books   \n",
              "3          fr.antoinettefleur.Book1              A-F Book #1   \n",
              "4  com.imonstersoft.azdictionaryios  A-Z Synonyms Dictionary   \n",
              "\n",
              "                                        AppStore_Url Primary_Genre  \\\n",
              "0  https://apps.apple.com/us/app/a-paper-guide/id...     Education   \n",
              "1  https://apps.apple.com/us/app/a-books/id103157...          Book   \n",
              "2  https://apps.apple.com/us/app/a-books/id145702...          Book   \n",
              "3  https://apps.apple.com/us/app/a-f-book-1/id500...          Book   \n",
              "4  https://apps.apple.com/us/app/a-z-synonyms-dic...     Reference   \n",
              "\n",
              "  Content_Rating  Size_Bytes Required_IOS_Version              Released  \\\n",
              "0           Kids  21993472.0                  8.0  2017-09-28T03:02:41Z   \n",
              "1           Kids  13135872.0                 10.0  2015-08-31T19:31:32Z   \n",
              "2           Kids  21943296.0                  9.0  2021-04-14T07:00:00Z   \n",
              "3           Kids  81851392.0                  8.0  2012-02-10T03:40:07Z   \n",
              "4           Kids  64692224.0                  9.0  2020-12-16T08:00:00Z   \n",
              "\n",
              "                Updated Version  Price Currency   Free  DeveloperId  \\\n",
              "0  2018-12-21T21:30:36Z   1.1.2   0.00      USD   True   1375410542   \n",
              "1  2019-07-23T20:31:09Z     1.3   0.00      USD   True   1031572001   \n",
              "2  2021-05-30T21:08:54Z   1.3.1   0.00      USD   True   1457024163   \n",
              "3  2019-10-29T12:40:37Z     1.2   2.99      USD  False    439568839   \n",
              "4  2020-12-18T21:36:11Z   1.0.1   0.00      USD   True    656731821   \n",
              "\n",
              "        Developer                                      Developer_Url  \\\n",
              "0        HKBU ARC  https://apps.apple.com/us/developer/hkbu-arc/i...   \n",
              "1  Roman Dmitriev  https://apps.apple.com/us/developer/roman-dmit...   \n",
              "2         Terp AS  https://apps.apple.com/us/developer/terp-as/id...   \n",
              "3   i-editeur.com  https://apps.apple.com/us/developer/i-editeur-...   \n",
              "4   Ngov chiheang  https://apps.apple.com/us/developer/ngov-chihe...   \n",
              "\n",
              "   Average_User_Rating  Reviews  Current_Version_Score  \\\n",
              "0                    0        0                    0.0   \n",
              "1                    5        1                    5.0   \n",
              "2                    0        0                    0.0   \n",
              "3                    0        0                    0.0   \n",
              "4                    0        0                    0.0   \n",
              "\n",
              "   Current_Version_Reviews  Size_in_Mb     Reviews_Category  \n",
              "0                        0   20.974609  No_reviews_provided  \n",
              "1                        1   12.527344        Less than 10k  \n",
              "2                        0   20.926758  No_reviews_provided  \n",
              "3                        0   78.059570  No_reviews_provided  \n",
              "4                        0   61.695312  No_reviews_provided  "
            ],
            "text/html": [
              "\n",
              "  <div id=\"df-9dc2e1a8-ae18-4f28-a10a-cbb799b5bb0c\" class=\"colab-df-container\">\n",
              "    <div>\n",
              "<style scoped>\n",
              "    .dataframe tbody tr th:only-of-type {\n",
              "        vertical-align: middle;\n",
              "    }\n",
              "\n",
              "    .dataframe tbody tr th {\n",
              "        vertical-align: top;\n",
              "    }\n",
              "\n",
              "    .dataframe thead th {\n",
              "        text-align: right;\n",
              "    }\n",
              "</style>\n",
              "<table border=\"1\" class=\"dataframe\">\n",
              "  <thead>\n",
              "    <tr style=\"text-align: right;\">\n",
              "      <th></th>\n",
              "      <th>App_Id</th>\n",
              "      <th>App_Name</th>\n",
              "      <th>AppStore_Url</th>\n",
              "      <th>Primary_Genre</th>\n",
              "      <th>Content_Rating</th>\n",
              "      <th>Size_Bytes</th>\n",
              "      <th>Required_IOS_Version</th>\n",
              "      <th>Released</th>\n",
              "      <th>Updated</th>\n",
              "      <th>Version</th>\n",
              "      <th>Price</th>\n",
              "      <th>Currency</th>\n",
              "      <th>Free</th>\n",
              "      <th>DeveloperId</th>\n",
              "      <th>Developer</th>\n",
              "      <th>Developer_Url</th>\n",
              "      <th>Average_User_Rating</th>\n",
              "      <th>Reviews</th>\n",
              "      <th>Current_Version_Score</th>\n",
              "      <th>Current_Version_Reviews</th>\n",
              "      <th>Size_in_Mb</th>\n",
              "      <th>Reviews_Category</th>\n",
              "    </tr>\n",
              "  </thead>\n",
              "  <tbody>\n",
              "    <tr>\n",
              "      <th>0</th>\n",
              "      <td>com.hkbu.arc.apaper</td>\n",
              "      <td>A+ Paper Guide</td>\n",
              "      <td>https://apps.apple.com/us/app/a-paper-guide/id...</td>\n",
              "      <td>Education</td>\n",
              "      <td>Kids</td>\n",
              "      <td>21993472.0</td>\n",
              "      <td>8.0</td>\n",
              "      <td>2017-09-28T03:02:41Z</td>\n",
              "      <td>2018-12-21T21:30:36Z</td>\n",
              "      <td>1.1.2</td>\n",
              "      <td>0.00</td>\n",
              "      <td>USD</td>\n",
              "      <td>True</td>\n",
              "      <td>1375410542</td>\n",
              "      <td>HKBU ARC</td>\n",
              "      <td>https://apps.apple.com/us/developer/hkbu-arc/i...</td>\n",
              "      <td>0</td>\n",
              "      <td>0</td>\n",
              "      <td>0.0</td>\n",
              "      <td>0</td>\n",
              "      <td>20.974609</td>\n",
              "      <td>No_reviews_provided</td>\n",
              "    </tr>\n",
              "    <tr>\n",
              "      <th>1</th>\n",
              "      <td>com.dmitriev.abooks</td>\n",
              "      <td>A-Books</td>\n",
              "      <td>https://apps.apple.com/us/app/a-books/id103157...</td>\n",
              "      <td>Book</td>\n",
              "      <td>Kids</td>\n",
              "      <td>13135872.0</td>\n",
              "      <td>10.0</td>\n",
              "      <td>2015-08-31T19:31:32Z</td>\n",
              "      <td>2019-07-23T20:31:09Z</td>\n",
              "      <td>1.3</td>\n",
              "      <td>0.00</td>\n",
              "      <td>USD</td>\n",
              "      <td>True</td>\n",
              "      <td>1031572001</td>\n",
              "      <td>Roman Dmitriev</td>\n",
              "      <td>https://apps.apple.com/us/developer/roman-dmit...</td>\n",
              "      <td>5</td>\n",
              "      <td>1</td>\n",
              "      <td>5.0</td>\n",
              "      <td>1</td>\n",
              "      <td>12.527344</td>\n",
              "      <td>Less than 10k</td>\n",
              "    </tr>\n",
              "    <tr>\n",
              "      <th>2</th>\n",
              "      <td>no.terp.abooks</td>\n",
              "      <td>A-books</td>\n",
              "      <td>https://apps.apple.com/us/app/a-books/id145702...</td>\n",
              "      <td>Book</td>\n",
              "      <td>Kids</td>\n",
              "      <td>21943296.0</td>\n",
              "      <td>9.0</td>\n",
              "      <td>2021-04-14T07:00:00Z</td>\n",
              "      <td>2021-05-30T21:08:54Z</td>\n",
              "      <td>1.3.1</td>\n",
              "      <td>0.00</td>\n",
              "      <td>USD</td>\n",
              "      <td>True</td>\n",
              "      <td>1457024163</td>\n",
              "      <td>Terp AS</td>\n",
              "      <td>https://apps.apple.com/us/developer/terp-as/id...</td>\n",
              "      <td>0</td>\n",
              "      <td>0</td>\n",
              "      <td>0.0</td>\n",
              "      <td>0</td>\n",
              "      <td>20.926758</td>\n",
              "      <td>No_reviews_provided</td>\n",
              "    </tr>\n",
              "    <tr>\n",
              "      <th>3</th>\n",
              "      <td>fr.antoinettefleur.Book1</td>\n",
              "      <td>A-F Book #1</td>\n",
              "      <td>https://apps.apple.com/us/app/a-f-book-1/id500...</td>\n",
              "      <td>Book</td>\n",
              "      <td>Kids</td>\n",
              "      <td>81851392.0</td>\n",
              "      <td>8.0</td>\n",
              "      <td>2012-02-10T03:40:07Z</td>\n",
              "      <td>2019-10-29T12:40:37Z</td>\n",
              "      <td>1.2</td>\n",
              "      <td>2.99</td>\n",
              "      <td>USD</td>\n",
              "      <td>False</td>\n",
              "      <td>439568839</td>\n",
              "      <td>i-editeur.com</td>\n",
              "      <td>https://apps.apple.com/us/developer/i-editeur-...</td>\n",
              "      <td>0</td>\n",
              "      <td>0</td>\n",
              "      <td>0.0</td>\n",
              "      <td>0</td>\n",
              "      <td>78.059570</td>\n",
              "      <td>No_reviews_provided</td>\n",
              "    </tr>\n",
              "    <tr>\n",
              "      <th>4</th>\n",
              "      <td>com.imonstersoft.azdictionaryios</td>\n",
              "      <td>A-Z Synonyms Dictionary</td>\n",
              "      <td>https://apps.apple.com/us/app/a-z-synonyms-dic...</td>\n",
              "      <td>Reference</td>\n",
              "      <td>Kids</td>\n",
              "      <td>64692224.0</td>\n",
              "      <td>9.0</td>\n",
              "      <td>2020-12-16T08:00:00Z</td>\n",
              "      <td>2020-12-18T21:36:11Z</td>\n",
              "      <td>1.0.1</td>\n",
              "      <td>0.00</td>\n",
              "      <td>USD</td>\n",
              "      <td>True</td>\n",
              "      <td>656731821</td>\n",
              "      <td>Ngov chiheang</td>\n",
              "      <td>https://apps.apple.com/us/developer/ngov-chihe...</td>\n",
              "      <td>0</td>\n",
              "      <td>0</td>\n",
              "      <td>0.0</td>\n",
              "      <td>0</td>\n",
              "      <td>61.695312</td>\n",
              "      <td>No_reviews_provided</td>\n",
              "    </tr>\n",
              "  </tbody>\n",
              "</table>\n",
              "</div>\n",
              "    <div class=\"colab-df-buttons\">\n",
              "\n",
              "  <div class=\"colab-df-container\">\n",
              "    <button class=\"colab-df-convert\" onclick=\"convertToInteractive('df-9dc2e1a8-ae18-4f28-a10a-cbb799b5bb0c')\"\n",
              "            title=\"Convert this dataframe to an interactive table.\"\n",
              "            style=\"display:none;\">\n",
              "\n",
              "  <svg xmlns=\"http://www.w3.org/2000/svg\" height=\"24px\" viewBox=\"0 -960 960 960\">\n",
              "    <path d=\"M120-120v-720h720v720H120Zm60-500h600v-160H180v160Zm220 220h160v-160H400v160Zm0 220h160v-160H400v160ZM180-400h160v-160H180v160Zm440 0h160v-160H620v160ZM180-180h160v-160H180v160Zm440 0h160v-160H620v160Z\"/>\n",
              "  </svg>\n",
              "    </button>\n",
              "\n",
              "  <style>\n",
              "    .colab-df-container {\n",
              "      display:flex;\n",
              "      gap: 12px;\n",
              "    }\n",
              "\n",
              "    .colab-df-convert {\n",
              "      background-color: #E8F0FE;\n",
              "      border: none;\n",
              "      border-radius: 50%;\n",
              "      cursor: pointer;\n",
              "      display: none;\n",
              "      fill: #1967D2;\n",
              "      height: 32px;\n",
              "      padding: 0 0 0 0;\n",
              "      width: 32px;\n",
              "    }\n",
              "\n",
              "    .colab-df-convert:hover {\n",
              "      background-color: #E2EBFA;\n",
              "      box-shadow: 0px 1px 2px rgba(60, 64, 67, 0.3), 0px 1px 3px 1px rgba(60, 64, 67, 0.15);\n",
              "      fill: #174EA6;\n",
              "    }\n",
              "\n",
              "    .colab-df-buttons div {\n",
              "      margin-bottom: 4px;\n",
              "    }\n",
              "\n",
              "    [theme=dark] .colab-df-convert {\n",
              "      background-color: #3B4455;\n",
              "      fill: #D2E3FC;\n",
              "    }\n",
              "\n",
              "    [theme=dark] .colab-df-convert:hover {\n",
              "      background-color: #434B5C;\n",
              "      box-shadow: 0px 1px 3px 1px rgba(0, 0, 0, 0.15);\n",
              "      filter: drop-shadow(0px 1px 2px rgba(0, 0, 0, 0.3));\n",
              "      fill: #FFFFFF;\n",
              "    }\n",
              "  </style>\n",
              "\n",
              "    <script>\n",
              "      const buttonEl =\n",
              "        document.querySelector('#df-9dc2e1a8-ae18-4f28-a10a-cbb799b5bb0c button.colab-df-convert');\n",
              "      buttonEl.style.display =\n",
              "        google.colab.kernel.accessAllowed ? 'block' : 'none';\n",
              "\n",
              "      async function convertToInteractive(key) {\n",
              "        const element = document.querySelector('#df-9dc2e1a8-ae18-4f28-a10a-cbb799b5bb0c');\n",
              "        const dataTable =\n",
              "          await google.colab.kernel.invokeFunction('convertToInteractive',\n",
              "                                                    [key], {});\n",
              "        if (!dataTable) return;\n",
              "\n",
              "        const docLinkHtml = 'Like what you see? Visit the ' +\n",
              "          '<a target=\"_blank\" href=https://colab.research.google.com/notebooks/data_table.ipynb>data table notebook</a>'\n",
              "          + ' to learn more about interactive tables.';\n",
              "        element.innerHTML = '';\n",
              "        dataTable['output_type'] = 'display_data';\n",
              "        await google.colab.output.renderOutput(dataTable, element);\n",
              "        const docLink = document.createElement('div');\n",
              "        docLink.innerHTML = docLinkHtml;\n",
              "        element.appendChild(docLink);\n",
              "      }\n",
              "    </script>\n",
              "  </div>\n",
              "\n",
              "\n",
              "<div id=\"df-3e3572d9-2b98-4e98-af58-b1c1956a11bf\">\n",
              "  <button class=\"colab-df-quickchart\" onclick=\"quickchart('df-3e3572d9-2b98-4e98-af58-b1c1956a11bf')\"\n",
              "            title=\"Suggest charts\"\n",
              "            style=\"display:none;\">\n",
              "\n",
              "<svg xmlns=\"http://www.w3.org/2000/svg\" height=\"24px\"viewBox=\"0 0 24 24\"\n",
              "     width=\"24px\">\n",
              "    <g>\n",
              "        <path d=\"M19 3H5c-1.1 0-2 .9-2 2v14c0 1.1.9 2 2 2h14c1.1 0 2-.9 2-2V5c0-1.1-.9-2-2-2zM9 17H7v-7h2v7zm4 0h-2V7h2v10zm4 0h-2v-4h2v4z\"/>\n",
              "    </g>\n",
              "</svg>\n",
              "  </button>\n",
              "\n",
              "<style>\n",
              "  .colab-df-quickchart {\n",
              "      --bg-color: #E8F0FE;\n",
              "      --fill-color: #1967D2;\n",
              "      --hover-bg-color: #E2EBFA;\n",
              "      --hover-fill-color: #174EA6;\n",
              "      --disabled-fill-color: #AAA;\n",
              "      --disabled-bg-color: #DDD;\n",
              "  }\n",
              "\n",
              "  [theme=dark] .colab-df-quickchart {\n",
              "      --bg-color: #3B4455;\n",
              "      --fill-color: #D2E3FC;\n",
              "      --hover-bg-color: #434B5C;\n",
              "      --hover-fill-color: #FFFFFF;\n",
              "      --disabled-bg-color: #3B4455;\n",
              "      --disabled-fill-color: #666;\n",
              "  }\n",
              "\n",
              "  .colab-df-quickchart {\n",
              "    background-color: var(--bg-color);\n",
              "    border: none;\n",
              "    border-radius: 50%;\n",
              "    cursor: pointer;\n",
              "    display: none;\n",
              "    fill: var(--fill-color);\n",
              "    height: 32px;\n",
              "    padding: 0;\n",
              "    width: 32px;\n",
              "  }\n",
              "\n",
              "  .colab-df-quickchart:hover {\n",
              "    background-color: var(--hover-bg-color);\n",
              "    box-shadow: 0 1px 2px rgba(60, 64, 67, 0.3), 0 1px 3px 1px rgba(60, 64, 67, 0.15);\n",
              "    fill: var(--button-hover-fill-color);\n",
              "  }\n",
              "\n",
              "  .colab-df-quickchart-complete:disabled,\n",
              "  .colab-df-quickchart-complete:disabled:hover {\n",
              "    background-color: var(--disabled-bg-color);\n",
              "    fill: var(--disabled-fill-color);\n",
              "    box-shadow: none;\n",
              "  }\n",
              "\n",
              "  .colab-df-spinner {\n",
              "    border: 2px solid var(--fill-color);\n",
              "    border-color: transparent;\n",
              "    border-bottom-color: var(--fill-color);\n",
              "    animation:\n",
              "      spin 1s steps(1) infinite;\n",
              "  }\n",
              "\n",
              "  @keyframes spin {\n",
              "    0% {\n",
              "      border-color: transparent;\n",
              "      border-bottom-color: var(--fill-color);\n",
              "      border-left-color: var(--fill-color);\n",
              "    }\n",
              "    20% {\n",
              "      border-color: transparent;\n",
              "      border-left-color: var(--fill-color);\n",
              "      border-top-color: var(--fill-color);\n",
              "    }\n",
              "    30% {\n",
              "      border-color: transparent;\n",
              "      border-left-color: var(--fill-color);\n",
              "      border-top-color: var(--fill-color);\n",
              "      border-right-color: var(--fill-color);\n",
              "    }\n",
              "    40% {\n",
              "      border-color: transparent;\n",
              "      border-right-color: var(--fill-color);\n",
              "      border-top-color: var(--fill-color);\n",
              "    }\n",
              "    60% {\n",
              "      border-color: transparent;\n",
              "      border-right-color: var(--fill-color);\n",
              "    }\n",
              "    80% {\n",
              "      border-color: transparent;\n",
              "      border-right-color: var(--fill-color);\n",
              "      border-bottom-color: var(--fill-color);\n",
              "    }\n",
              "    90% {\n",
              "      border-color: transparent;\n",
              "      border-bottom-color: var(--fill-color);\n",
              "    }\n",
              "  }\n",
              "</style>\n",
              "\n",
              "  <script>\n",
              "    async function quickchart(key) {\n",
              "      const quickchartButtonEl =\n",
              "        document.querySelector('#' + key + ' button');\n",
              "      quickchartButtonEl.disabled = true;  // To prevent multiple clicks.\n",
              "      quickchartButtonEl.classList.add('colab-df-spinner');\n",
              "      try {\n",
              "        const charts = await google.colab.kernel.invokeFunction(\n",
              "            'suggestCharts', [key], {});\n",
              "      } catch (error) {\n",
              "        console.error('Error during call to suggestCharts:', error);\n",
              "      }\n",
              "      quickchartButtonEl.classList.remove('colab-df-spinner');\n",
              "      quickchartButtonEl.classList.add('colab-df-quickchart-complete');\n",
              "    }\n",
              "    (() => {\n",
              "      let quickchartButtonEl =\n",
              "        document.querySelector('#df-3e3572d9-2b98-4e98-af58-b1c1956a11bf button');\n",
              "      quickchartButtonEl.style.display =\n",
              "        google.colab.kernel.accessAllowed ? 'block' : 'none';\n",
              "    })();\n",
              "  </script>\n",
              "</div>\n",
              "\n",
              "    </div>\n",
              "  </div>\n"
            ],
            "application/vnd.google.colaboratory.intrinsic+json": {
              "type": "dataframe",
              "variable_name": "df"
            }
          },
          "metadata": {},
          "execution_count": 86
        }
      ]
    },
    {
      "cell_type": "code",
      "source": [
        "top_cat = df['Primary_Genre'].value_counts().sort_values(ascending= False).head(10)\n",
        "top_cat"
      ],
      "metadata": {
        "id": "HCtQNJ9ZN5vB",
        "colab": {
          "base_uri": "https://localhost:8080/"
        },
        "outputId": "7585560d-80da-4c80-c1ba-dd034cde8ea9"
      },
      "execution_count": 87,
      "outputs": [
        {
          "output_type": "execute_result",
          "data": {
            "text/plain": [
              "Primary_Genre\n",
              "Games               193746\n",
              "Business            128297\n",
              "Education           119174\n",
              "Utilities            94007\n",
              "Lifestyle            84565\n",
              "Food & Drink         73157\n",
              "Health & Fitness     60724\n",
              "Productivity         59430\n",
              "Entertainment        53147\n",
              "Shopping             49537\n",
              "Name: count, dtype: int64"
            ]
          },
          "metadata": {},
          "execution_count": 87
        }
      ]
    },
    {
      "cell_type": "code",
      "source": [
        "plt.figure(figsize= ( 16 , 6))\n",
        "\n",
        "sns.barplot( top_cat , color = \"Grey\")\n",
        "plt.title(\"Top 10 Categories\")\n",
        "\n",
        "plt.show()"
      ],
      "metadata": {
        "colab": {
          "base_uri": "https://localhost:8080/",
          "height": 471
        },
        "id": "uDwqYIagmQEh",
        "outputId": "2d1b45d9-d7ba-4e89-971d-f98c1ce42803"
      },
      "execution_count": 88,
      "outputs": [
        {
          "output_type": "display_data",
          "data": {
            "text/plain": [
              "<Figure size 1600x600 with 1 Axes>"
            ],
            "image/png": "[encoded data removed]"
          },
          "metadata": {}
        }
      ]
    },
    {
      "cell_type": "markdown",
      "source": [
        "> ### **Figure 3 :** Top 10 categories installed from the Apple App store\n",
        "\n"
      ],
      "metadata": {
        "id": "jId3C_nfnEqH"
      }
    },
    {
      "cell_type": "markdown",
      "source": [
        "- Answer 1 : Games apps are the most installed from the apple app store."
      ],
      "metadata": {
        "id": "LGZlQXxdnq-o"
      }
    },
    {
      "cell_type": "markdown",
      "source": [
        "Question 2. What are the top 10 primary_genre based on the Average_user_Rating ?\n"
      ],
      "metadata": {
        "id": "C1lV0RdpoAb1"
      }
    },
    {
      "cell_type": "code",
      "source": [
        "mean_ratings = df.groupby(\"Primary_Genre\")[\"Average_User_Rating\"].mean().sort_values( ascending= False).head(10)\n",
        "print(mean_ratings)\n",
        "\n"
      ],
      "metadata": {
        "colab": {
          "base_uri": "https://localhost:8080/"
        },
        "id": "GEuTLD7xmoIg",
        "outputId": "af93c8bc-bd44-440f-ca05-f38aa74ddf41"
      },
      "execution_count": 89,
      "outputs": [
        {
          "output_type": "stream",
          "name": "stdout",
          "text": [
            "Primary_Genre\n",
            "Weather              2.622509\n",
            "Games                2.566412\n",
            "Photo & Video        2.316446\n",
            "Music                2.264232\n",
            "Book                 2.193515\n",
            "Reference            2.191082\n",
            "Finance              2.133470\n",
            "Entertainment        2.025759\n",
            "Social Networking    1.998860\n",
            "Health & Fitness     1.858968\n",
            "Name: Average_User_Rating, dtype: float64\n"
          ]
        }
      ]
    },
    {
      "cell_type": "code",
      "source": [
        "plt.figure( figsize = ( 16 , 6))\n",
        "\n",
        "sns.histplot(mean_ratings)\n",
        "\n",
        "plt.show()"
      ],
      "metadata": {
        "colab": {
          "base_uri": "https://localhost:8080/",
          "height": 463
        },
        "id": "1s-ZAj25oat0",
        "outputId": "ace8dfd3-a2e5-4c9d-f274-f9864934e7b8"
      },
      "execution_count": 90,
      "outputs": [
        {
          "output_type": "display_data",
          "data": {
            "text/plain": [
              "<Figure size 1600x600 with 1 Axes>"
            ],
            "image/png": "[encoded data removed]"
          },
          "metadata": {}
        }
      ]
    },
    {
      "cell_type": "markdown",
      "source": [
        "Although we weren't able to find the suitable visualization for the found answer but here we gooo with the FLOOOw  \n",
        "- The top rated genres based on the user rating are :\n",
        "\n",
        "Weather              \n",
        "Games                \n",
        "Photo & Video        \n",
        "Music                \n",
        "Book                 \n",
        "Reference            \n",
        "Finance              \n",
        "Entertainment        \n",
        "Social Networking    \n",
        "Health & Fitnes"
      ],
      "metadata": {
        "id": "Q3DcHQu5pfwr"
      }
    },
    {
      "cell_type": "code",
      "source": [
        "\n",
        "# Group the data by genre and type (free or paid)\n",
        "genre_counts = df.groupby(['Primary_Genre', 'Free']).size().unstack()\n",
        "\n",
        "# Plot the bar chart\n",
        "plt.figure(figsize=(16, 6))\n",
        "genre_counts.plot(kind='bar', stacked=True)\n",
        "plt.xlabel('Genre')\n",
        "plt.ylabel('Number of Apps')\n",
        "plt.title('Free vs. Paid Apps by Genre')\n",
        "plt.legend(title='App Type', loc='upper right')\n",
        "plt.show()\n",
        "\n",
        "\n",
        "\n",
        "\n"
      ],
      "metadata": {
        "id": "CESjPf9rqxUh",
        "colab": {
          "base_uri": "https://localhost:8080/",
          "height": 653
        },
        "outputId": "26c154c1-eea0-43b1-dd68-059682a01106"
      },
      "execution_count": 96,
      "outputs": [
        {
          "output_type": "display_data",
          "data": {
            "text/plain": [
              "<Figure size 1600x600 with 0 Axes>"
            ]
          },
          "metadata": {}
        },
        {
          "output_type": "display_data",
          "data": {
            "text/plain": [
              "<Figure size 640x480 with 1 Axes>"
            ],
            "image/png": "[encoded data removed]"
          },
          "metadata": {}
        }
      ]
    },
    {
      "cell_type": "code",
      "source": [
        "df_plot = df[['Size_Bytes', 'Price']]\n",
        "plt.figure(figsize=(10, 6))\n",
        "sns.scatterplot(data=df_plot, x=\"Size_Bytes\", y=\"Price\")\n",
        "\n",
        "# Add labels and title\n",
        "plt.xlabel(\"App Size (MB)\", size=12)\n",
        "plt.ylabel(\"App Price ($)\", size=12)\n",
        "plt.title(\"Relationship between App Size and Price\", size=14)\n",
        "\n",
        "# Show the plot\n",
        "plt.show()\n"
      ],
      "metadata": {
        "colab": {
          "base_uri": "https://localhost:8080/",
          "height": 569
        },
        "id": "xwtvIwCRy_Ld",
        "outputId": "c5c918cd-7702-4103-b09c-5be688e8962c"
      },
      "execution_count": 109,
      "outputs": [
        {
          "output_type": "display_data",
          "data": {
            "text/plain": [
              "<Figure size 1000x600 with 1 Axes>"
            ],
            "image/png": "[encoded data removed]"
          },
          "metadata": {}
        }
      ]
    },
    {
      "cell_type": "code",
      "source": [
        "df['Developer'].value_counts().head()"
      ],
      "metadata": {
        "colab": {
          "base_uri": "https://localhost:8080/"
        },
        "id": "of9iRAzPzgiD",
        "outputId": "5d98d5dd-93a7-4008-f22f-ea336c1630c1"
      },
      "execution_count": 111,
      "outputs": [
        {
          "output_type": "execute_result",
          "data": {
            "text/plain": [
              "Developer\n",
              "ChowNow                   3966\n",
              "Touch2Success             1649\n",
              "Alexander Velimirovic     1506\n",
              "MINDBODY, Incorporated    1247\n",
              "Phorest                   1131\n",
              "Name: count, dtype: int64"
            ]
          },
          "metadata": {},
          "execution_count": 111
        }
      ]
    },
    {
      "cell_type": "code",
      "source": [
        "developer_data = {\n",
        "    \"Developer\": [\"ChowNow\", \"Touch2Success\", \"Alexander Velimirovic\", \"MINDBODY, Incorporated\", \"Phorest\"],\n",
        "    \"Metric\": [3966, 1649, 1506, 1247, 1131]\n",
        "}\n",
        "\n",
        "dev_plot = pd.DataFrame(developer_data)\n",
        "\n",
        "plt.figure(figsize=(12, 6))\n",
        "sns.barplot(x=\"Developer\", y=\"Metric\", data=dev_plot)\n",
        "\n",
        "# Add labels and title\n",
        "plt.xlabel(\"App Developer\", size=12)\n",
        "plt.ylabel(\"Metric Value\", size=12)\n",
        "plt.title(\"Top App Developers by Metric\", size=14)\n",
        "\n",
        "\n",
        "# Show the plot\n",
        "plt.show()"
      ],
      "metadata": {
        "colab": {
          "base_uri": "https://localhost:8080/",
          "height": 569
        },
        "id": "SHs0wSgS0S67",
        "outputId": "69d557a3-1a8f-417e-8181-8178ba39975b"
      },
      "execution_count": 115,
      "outputs": [
        {
          "output_type": "display_data",
          "data": {
            "text/plain": [
              "<Figure size 1200x600 with 1 Axes>"
            ],
            "image/png": "[encoded data removed]"
          },
          "metadata": {}
        }
      ]
    },
    {
      "cell_type": "code",
      "source": [
        "# Count the number of apps per primary genre\n",
        "genre_counts = df['Primary_Genre'].value_counts()\n",
        "\n",
        "# Create a bar plot\n",
        "plt.figure(figsize=(12, 6))\n",
        "sns.barplot(x=genre_counts.index, y=genre_counts.values)\n",
        "\n",
        "# Add labels and title\n",
        "plt.xlabel(\"Primary Genre\", size=12)\n",
        "plt.ylabel(\"Number of Apps\", size=12)\n",
        "plt.title(\"Number of Apps per Primary Genre\", size=14)\n",
        "\n",
        "# Show the plot\n",
        "plt.show()"
      ],
      "metadata": {
        "colab": {
          "base_uri": "https://localhost:8080/",
          "height": 569
        },
        "id": "orKYhOIQ0sVW",
        "outputId": "32410d24-8ec4-4637-e6f6-11a72e13ab96"
      },
      "execution_count": 119,
      "outputs": [
        {
          "output_type": "display_data",
          "data": {
            "text/plain": [
              "<Figure size 1200x600 with 1 Axes>"
            ],
            "image/png": "[encoded data removed]"
          },
          "metadata": {}
        }
      ]
    },
    {
      "cell_type": "markdown",
      "source": [
        "### **As we know that the problem statement will be given to us by the stakeholders and as a data analyst, our job is to find the solution based on the provided data and present it to the stakeholders.**"
      ],
      "metadata": {
        "id": "9K67QjVQ4whK"
      }
    },
    {
      "cell_type": "markdown",
      "source": [
        "## **THE END**"
      ],
      "metadata": {
        "id": "IU1GtERy5GCD"
      }
    },
    {
      "cell_type": "code",
      "source": [],
      "metadata": {
        "id": "7QP0QxSn4ryl"
      },
      "execution_count": null,
      "outputs": []
    }
  ]
}